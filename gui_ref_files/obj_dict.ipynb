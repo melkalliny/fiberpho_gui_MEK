{
 "cells": [
  {
   "cell_type": "code",
   "execution_count": 2,
   "id": "86454963-04fb-4bd2-90ea-8f41c351dd9a",
   "metadata": {},
   "outputs": [
    {
     "data": {
      "application/javascript": [
       "\n",
       "(function(root) {\n",
       "  function now() {\n",
       "    return new Date();\n",
       "  }\n",
       "\n",
       "  var force = true;\n",
       "\n",
       "  if (typeof root._bokeh_onload_callbacks === \"undefined\" || force === true) {\n",
       "    root._bokeh_onload_callbacks = [];\n",
       "    root._bokeh_is_loading = undefined;\n",
       "  }\n",
       "\n",
       "  if (typeof (root._bokeh_timeout) === \"undefined\" || force === true) {\n",
       "    root._bokeh_timeout = Date.now() + 5000;\n",
       "    root._bokeh_failed_load = false;\n",
       "  }\n",
       "\n",
       "  function run_callbacks() {\n",
       "    try {\n",
       "      root._bokeh_onload_callbacks.forEach(function(callback) {\n",
       "        if (callback != null)\n",
       "          callback();\n",
       "      });\n",
       "    } finally {\n",
       "      delete root._bokeh_onload_callbacks\n",
       "    }\n",
       "    console.debug(\"Bokeh: all callbacks have finished\");\n",
       "  }\n",
       "\n",
       "  function load_libs(css_urls, js_urls, js_modules, callback) {\n",
       "    if (css_urls == null) css_urls = [];\n",
       "    if (js_urls == null) js_urls = [];\n",
       "    if (js_modules == null) js_modules = [];\n",
       "\n",
       "    root._bokeh_onload_callbacks.push(callback);\n",
       "    if (root._bokeh_is_loading > 0) {\n",
       "      console.debug(\"Bokeh: BokehJS is being loaded, scheduling callback at\", now());\n",
       "      return null;\n",
       "    }\n",
       "    if (js_urls.length === 0 && js_modules.length === 0) {\n",
       "      run_callbacks();\n",
       "      return null;\n",
       "    }\n",
       "    console.debug(\"Bokeh: BokehJS not loaded, scheduling load and callback at\", now());\n",
       "    root._bokeh_is_loading = css_urls.length + js_urls.length + js_modules.length;\n",
       "\n",
       "    function on_load() {\n",
       "      root._bokeh_is_loading--;\n",
       "      if (root._bokeh_is_loading === 0) {\n",
       "        console.debug(\"Bokeh: all BokehJS libraries/stylesheets loaded\");\n",
       "        run_callbacks()\n",
       "      }\n",
       "    }\n",
       "\n",
       "    function on_error() {\n",
       "      console.error(\"failed to load \" + url);\n",
       "    }\n",
       "\n",
       "    for (var i = 0; i < css_urls.length; i++) {\n",
       "      var url = css_urls[i];\n",
       "      const element = document.createElement(\"link\");\n",
       "      element.onload = on_load;\n",
       "      element.onerror = on_error;\n",
       "      element.rel = \"stylesheet\";\n",
       "      element.type = \"text/css\";\n",
       "      element.href = url;\n",
       "      console.debug(\"Bokeh: injecting link tag for BokehJS stylesheet: \", url);\n",
       "      document.body.appendChild(element);\n",
       "    }\n",
       "\n",
       "    var skip = [];\n",
       "    if (window.requirejs) {\n",
       "      window.requirejs.config({'packages': {}, 'paths': {}, 'shim': {}});\n",
       "      \n",
       "    }\n",
       "    for (var i = 0; i < js_urls.length; i++) {\n",
       "      var url = js_urls[i];\n",
       "      if (skip.indexOf(url) >= 0) { on_load(); continue; }\n",
       "      var element = document.createElement('script');\n",
       "      element.onload = on_load;\n",
       "      element.onerror = on_error;\n",
       "      element.async = false;\n",
       "      element.src = url;\n",
       "      console.debug(\"Bokeh: injecting script tag for BokehJS library: \", url);\n",
       "      document.head.appendChild(element);\n",
       "    }\n",
       "    for (var i = 0; i < js_modules.length; i++) {\n",
       "      var url = js_modules[i];\n",
       "      if (skip.indexOf(url) >= 0) { on_load(); continue; }\n",
       "      var element = document.createElement('script');\n",
       "      element.onload = on_load;\n",
       "      element.onerror = on_error;\n",
       "      element.async = false;\n",
       "      element.src = url;\n",
       "      element.type = \"module\";\n",
       "      console.debug(\"Bokeh: injecting script tag for BokehJS library: \", url);\n",
       "      document.head.appendChild(element);\n",
       "    }\n",
       "    if (!js_urls.length && !js_modules.length) {\n",
       "      on_load()\n",
       "    }\n",
       "  };\n",
       "\n",
       "  function inject_raw_css(css) {\n",
       "    const element = document.createElement(\"style\");\n",
       "    element.appendChild(document.createTextNode(css));\n",
       "    document.body.appendChild(element);\n",
       "  }\n",
       "\n",
       "  var js_urls = [\"https://cdn.bokeh.org/bokeh/release/bokeh-2.4.1.min.js\", \"https://cdn.bokeh.org/bokeh/release/bokeh-gl-2.4.1.min.js\", \"https://cdn.bokeh.org/bokeh/release/bokeh-widgets-2.4.1.min.js\", \"https://cdn.bokeh.org/bokeh/release/bokeh-tables-2.4.1.min.js\", \"https://cdn.bokeh.org/bokeh/release/bokeh-mathjax-2.4.1.min.js\", \"https://unpkg.com/@holoviz/panel@0.12.4/dist/panel.min.js\"];\n",
       "  var js_modules = [];\n",
       "  var css_urls = [\"https://unpkg.com/@holoviz/panel@0.12.4/dist/css/alerts.css\", \"https://unpkg.com/@holoviz/panel@0.12.4/dist/css/card.css\", \"https://unpkg.com/@holoviz/panel@0.12.4/dist/css/widgets.css\", \"https://unpkg.com/@holoviz/panel@0.12.4/dist/css/markdown.css\", \"https://unpkg.com/@holoviz/panel@0.12.4/dist/css/json.css\", \"https://unpkg.com/@holoviz/panel@0.12.4/dist/css/loading.css\", \"https://unpkg.com/@holoviz/panel@0.12.4/dist/css/dataframe.css\"];\n",
       "  var inline_js = [\n",
       "    function(Bokeh) {\n",
       "      inject_raw_css(\"\\n    .bk.pn-loading.arcs:before {\\n      background-image: url(\\\"data:image/svg+xml;base64,PHN2ZyB4bWxucz0iaHR0cDovL3d3dy53My5vcmcvMjAwMC9zdmciIHhtbG5zOnhsaW5rPSJodHRwOi8vd3d3LnczLm9yZy8xOTk5L3hsaW5rIiBzdHlsZT0ibWFyZ2luOiBhdXRvOyBiYWNrZ3JvdW5kOiBub25lOyBkaXNwbGF5OiBibG9jazsgc2hhcGUtcmVuZGVyaW5nOiBhdXRvOyIgdmlld0JveD0iMCAwIDEwMCAxMDAiIHByZXNlcnZlQXNwZWN0UmF0aW89InhNaWRZTWlkIj4gIDxjaXJjbGUgY3g9IjUwIiBjeT0iNTAiIHI9IjMyIiBzdHJva2Utd2lkdGg9IjgiIHN0cm9rZT0iI2MzYzNjMyIgc3Ryb2tlLWRhc2hhcnJheT0iNTAuMjY1NDgyNDU3NDM2NjkgNTAuMjY1NDgyNDU3NDM2NjkiIGZpbGw9Im5vbmUiIHN0cm9rZS1saW5lY2FwPSJyb3VuZCI+ICAgIDxhbmltYXRlVHJhbnNmb3JtIGF0dHJpYnV0ZU5hbWU9InRyYW5zZm9ybSIgdHlwZT0icm90YXRlIiByZXBlYXRDb3VudD0iaW5kZWZpbml0ZSIgZHVyPSIxcyIga2V5VGltZXM9IjA7MSIgdmFsdWVzPSIwIDUwIDUwOzM2MCA1MCA1MCI+PC9hbmltYXRlVHJhbnNmb3JtPiAgPC9jaXJjbGU+PC9zdmc+\\\")\\n    }\\n    \");\n",
       "    },\n",
       "    function(Bokeh) {\n",
       "      Bokeh.set_log_level(\"info\");\n",
       "    },\n",
       "    function(Bokeh) {} // ensure no trailing comma for IE\n",
       "  ];\n",
       "\n",
       "  function run_inline_js() {\n",
       "    if ((root.Bokeh !== undefined) || (force === true)) {\n",
       "      for (var i = 0; i < inline_js.length; i++) {\n",
       "        inline_js[i].call(root, root.Bokeh);\n",
       "      }} else if (Date.now() < root._bokeh_timeout) {\n",
       "      setTimeout(run_inline_js, 100);\n",
       "    } else if (!root._bokeh_failed_load) {\n",
       "      console.log(\"Bokeh: BokehJS failed to load within specified timeout.\");\n",
       "      root._bokeh_failed_load = true;\n",
       "    }\n",
       "  }\n",
       "\n",
       "  if (root._bokeh_is_loading === 0) {\n",
       "    console.debug(\"Bokeh: BokehJS loaded, going straight to plotting\");\n",
       "    run_inline_js();\n",
       "  } else {\n",
       "    load_libs(css_urls, js_urls, js_modules, function() {\n",
       "      console.debug(\"Bokeh: BokehJS plotting callback run at\", now());\n",
       "      run_inline_js();\n",
       "    });\n",
       "  }\n",
       "}(window));"
      ],
      "application/vnd.holoviews_load.v0+json": "\n(function(root) {\n  function now() {\n    return new Date();\n  }\n\n  var force = true;\n\n  if (typeof root._bokeh_onload_callbacks === \"undefined\" || force === true) {\n    root._bokeh_onload_callbacks = [];\n    root._bokeh_is_loading = undefined;\n  }\n\n  if (typeof (root._bokeh_timeout) === \"undefined\" || force === true) {\n    root._bokeh_timeout = Date.now() + 5000;\n    root._bokeh_failed_load = false;\n  }\n\n  function run_callbacks() {\n    try {\n      root._bokeh_onload_callbacks.forEach(function(callback) {\n        if (callback != null)\n          callback();\n      });\n    } finally {\n      delete root._bokeh_onload_callbacks\n    }\n    console.debug(\"Bokeh: all callbacks have finished\");\n  }\n\n  function load_libs(css_urls, js_urls, js_modules, callback) {\n    if (css_urls == null) css_urls = [];\n    if (js_urls == null) js_urls = [];\n    if (js_modules == null) js_modules = [];\n\n    root._bokeh_onload_callbacks.push(callback);\n    if (root._bokeh_is_loading > 0) {\n      console.debug(\"Bokeh: BokehJS is being loaded, scheduling callback at\", now());\n      return null;\n    }\n    if (js_urls.length === 0 && js_modules.length === 0) {\n      run_callbacks();\n      return null;\n    }\n    console.debug(\"Bokeh: BokehJS not loaded, scheduling load and callback at\", now());\n    root._bokeh_is_loading = css_urls.length + js_urls.length + js_modules.length;\n\n    function on_load() {\n      root._bokeh_is_loading--;\n      if (root._bokeh_is_loading === 0) {\n        console.debug(\"Bokeh: all BokehJS libraries/stylesheets loaded\");\n        run_callbacks()\n      }\n    }\n\n    function on_error() {\n      console.error(\"failed to load \" + url);\n    }\n\n    for (var i = 0; i < css_urls.length; i++) {\n      var url = css_urls[i];\n      const element = document.createElement(\"link\");\n      element.onload = on_load;\n      element.onerror = on_error;\n      element.rel = \"stylesheet\";\n      element.type = \"text/css\";\n      element.href = url;\n      console.debug(\"Bokeh: injecting link tag for BokehJS stylesheet: \", url);\n      document.body.appendChild(element);\n    }\n\n    var skip = [];\n    if (window.requirejs) {\n      window.requirejs.config({'packages': {}, 'paths': {}, 'shim': {}});\n      \n    }\n    for (var i = 0; i < js_urls.length; i++) {\n      var url = js_urls[i];\n      if (skip.indexOf(url) >= 0) { on_load(); continue; }\n      var element = document.createElement('script');\n      element.onload = on_load;\n      element.onerror = on_error;\n      element.async = false;\n      element.src = url;\n      console.debug(\"Bokeh: injecting script tag for BokehJS library: \", url);\n      document.head.appendChild(element);\n    }\n    for (var i = 0; i < js_modules.length; i++) {\n      var url = js_modules[i];\n      if (skip.indexOf(url) >= 0) { on_load(); continue; }\n      var element = document.createElement('script');\n      element.onload = on_load;\n      element.onerror = on_error;\n      element.async = false;\n      element.src = url;\n      element.type = \"module\";\n      console.debug(\"Bokeh: injecting script tag for BokehJS library: \", url);\n      document.head.appendChild(element);\n    }\n    if (!js_urls.length && !js_modules.length) {\n      on_load()\n    }\n  };\n\n  function inject_raw_css(css) {\n    const element = document.createElement(\"style\");\n    element.appendChild(document.createTextNode(css));\n    document.body.appendChild(element);\n  }\n\n  var js_urls = [\"https://cdn.bokeh.org/bokeh/release/bokeh-2.4.1.min.js\", \"https://cdn.bokeh.org/bokeh/release/bokeh-gl-2.4.1.min.js\", \"https://cdn.bokeh.org/bokeh/release/bokeh-widgets-2.4.1.min.js\", \"https://cdn.bokeh.org/bokeh/release/bokeh-tables-2.4.1.min.js\", \"https://cdn.bokeh.org/bokeh/release/bokeh-mathjax-2.4.1.min.js\", \"https://unpkg.com/@holoviz/panel@0.12.4/dist/panel.min.js\"];\n  var js_modules = [];\n  var css_urls = [\"https://unpkg.com/@holoviz/panel@0.12.4/dist/css/alerts.css\", \"https://unpkg.com/@holoviz/panel@0.12.4/dist/css/card.css\", \"https://unpkg.com/@holoviz/panel@0.12.4/dist/css/widgets.css\", \"https://unpkg.com/@holoviz/panel@0.12.4/dist/css/markdown.css\", \"https://unpkg.com/@holoviz/panel@0.12.4/dist/css/json.css\", \"https://unpkg.com/@holoviz/panel@0.12.4/dist/css/loading.css\", \"https://unpkg.com/@holoviz/panel@0.12.4/dist/css/dataframe.css\"];\n  var inline_js = [\n    function(Bokeh) {\n      inject_raw_css(\"\\n    .bk.pn-loading.arcs:before {\\n      background-image: url(\\\"data:image/svg+xml;base64,PHN2ZyB4bWxucz0iaHR0cDovL3d3dy53My5vcmcvMjAwMC9zdmciIHhtbG5zOnhsaW5rPSJodHRwOi8vd3d3LnczLm9yZy8xOTk5L3hsaW5rIiBzdHlsZT0ibWFyZ2luOiBhdXRvOyBiYWNrZ3JvdW5kOiBub25lOyBkaXNwbGF5OiBibG9jazsgc2hhcGUtcmVuZGVyaW5nOiBhdXRvOyIgdmlld0JveD0iMCAwIDEwMCAxMDAiIHByZXNlcnZlQXNwZWN0UmF0aW89InhNaWRZTWlkIj4gIDxjaXJjbGUgY3g9IjUwIiBjeT0iNTAiIHI9IjMyIiBzdHJva2Utd2lkdGg9IjgiIHN0cm9rZT0iI2MzYzNjMyIgc3Ryb2tlLWRhc2hhcnJheT0iNTAuMjY1NDgyNDU3NDM2NjkgNTAuMjY1NDgyNDU3NDM2NjkiIGZpbGw9Im5vbmUiIHN0cm9rZS1saW5lY2FwPSJyb3VuZCI+ICAgIDxhbmltYXRlVHJhbnNmb3JtIGF0dHJpYnV0ZU5hbWU9InRyYW5zZm9ybSIgdHlwZT0icm90YXRlIiByZXBlYXRDb3VudD0iaW5kZWZpbml0ZSIgZHVyPSIxcyIga2V5VGltZXM9IjA7MSIgdmFsdWVzPSIwIDUwIDUwOzM2MCA1MCA1MCI+PC9hbmltYXRlVHJhbnNmb3JtPiAgPC9jaXJjbGU+PC9zdmc+\\\")\\n    }\\n    \");\n    },\n    function(Bokeh) {\n      Bokeh.set_log_level(\"info\");\n    },\n    function(Bokeh) {} // ensure no trailing comma for IE\n  ];\n\n  function run_inline_js() {\n    if ((root.Bokeh !== undefined) || (force === true)) {\n      for (var i = 0; i < inline_js.length; i++) {\n        inline_js[i].call(root, root.Bokeh);\n      }} else if (Date.now() < root._bokeh_timeout) {\n      setTimeout(run_inline_js, 100);\n    } else if (!root._bokeh_failed_load) {\n      console.log(\"Bokeh: BokehJS failed to load within specified timeout.\");\n      root._bokeh_failed_load = true;\n    }\n  }\n\n  if (root._bokeh_is_loading === 0) {\n    console.debug(\"Bokeh: BokehJS loaded, going straight to plotting\");\n    run_inline_js();\n  } else {\n    load_libs(css_urls, js_urls, js_modules, function() {\n      console.debug(\"Bokeh: BokehJS plotting callback run at\", now());\n      run_inline_js();\n    });\n  }\n}(window));"
     },
     "metadata": {},
     "output_type": "display_data"
    },
    {
     "data": {
      "application/javascript": [
       "\n",
       "if ((window.PyViz === undefined) || (window.PyViz instanceof HTMLElement)) {\n",
       "  window.PyViz = {comms: {}, comm_status:{}, kernels:{}, receivers: {}, plot_index: []}\n",
       "}\n",
       "\n",
       "\n",
       "    function JupyterCommManager() {\n",
       "    }\n",
       "\n",
       "    JupyterCommManager.prototype.register_target = function(plot_id, comm_id, msg_handler) {\n",
       "      if (window.comm_manager || ((window.Jupyter !== undefined) && (Jupyter.notebook.kernel != null))) {\n",
       "        var comm_manager = window.comm_manager || Jupyter.notebook.kernel.comm_manager;\n",
       "        comm_manager.register_target(comm_id, function(comm) {\n",
       "          comm.on_msg(msg_handler);\n",
       "        });\n",
       "      } else if ((plot_id in window.PyViz.kernels) && (window.PyViz.kernels[plot_id])) {\n",
       "        window.PyViz.kernels[plot_id].registerCommTarget(comm_id, function(comm) {\n",
       "          comm.onMsg = msg_handler;\n",
       "        });\n",
       "      } else if (typeof google != 'undefined' && google.colab.kernel != null) {\n",
       "        google.colab.kernel.comms.registerTarget(comm_id, (comm) => {\n",
       "          var messages = comm.messages[Symbol.asyncIterator]();\n",
       "          function processIteratorResult(result) {\n",
       "            var message = result.value;\n",
       "            console.log(message)\n",
       "            var content = {data: message.data, comm_id};\n",
       "            var buffers = []\n",
       "            for (var buffer of message.buffers || []) {\n",
       "              buffers.push(new DataView(buffer))\n",
       "            }\n",
       "            var metadata = message.metadata || {};\n",
       "            var msg = {content, buffers, metadata}\n",
       "            msg_handler(msg);\n",
       "            return messages.next().then(processIteratorResult);\n",
       "          }\n",
       "          return messages.next().then(processIteratorResult);\n",
       "        })\n",
       "      }\n",
       "    }\n",
       "\n",
       "    JupyterCommManager.prototype.get_client_comm = function(plot_id, comm_id, msg_handler) {\n",
       "      if (comm_id in window.PyViz.comms) {\n",
       "        return window.PyViz.comms[comm_id];\n",
       "      } else if (window.comm_manager || ((window.Jupyter !== undefined) && (Jupyter.notebook.kernel != null))) {\n",
       "        var comm_manager = window.comm_manager || Jupyter.notebook.kernel.comm_manager;\n",
       "        var comm = comm_manager.new_comm(comm_id, {}, {}, {}, comm_id);\n",
       "        if (msg_handler) {\n",
       "          comm.on_msg(msg_handler);\n",
       "        }\n",
       "      } else if ((plot_id in window.PyViz.kernels) && (window.PyViz.kernels[plot_id])) {\n",
       "        var comm = window.PyViz.kernels[plot_id].connectToComm(comm_id);\n",
       "        comm.open();\n",
       "        if (msg_handler) {\n",
       "          comm.onMsg = msg_handler;\n",
       "        }\n",
       "      } else if (typeof google != 'undefined' && google.colab.kernel != null) {\n",
       "        var comm_promise = google.colab.kernel.comms.open(comm_id)\n",
       "        comm_promise.then((comm) => {\n",
       "          window.PyViz.comms[comm_id] = comm;\n",
       "          if (msg_handler) {\n",
       "            var messages = comm.messages[Symbol.asyncIterator]();\n",
       "            function processIteratorResult(result) {\n",
       "              var message = result.value;\n",
       "              var content = {data: message.data};\n",
       "              var metadata = message.metadata || {comm_id};\n",
       "              var msg = {content, metadata}\n",
       "              msg_handler(msg);\n",
       "              return messages.next().then(processIteratorResult);\n",
       "            }\n",
       "            return messages.next().then(processIteratorResult);\n",
       "          }\n",
       "        }) \n",
       "        var sendClosure = (data, metadata, buffers, disposeOnDone) => {\n",
       "          return comm_promise.then((comm) => {\n",
       "            comm.send(data, metadata, buffers, disposeOnDone);\n",
       "          });\n",
       "        };\n",
       "        var comm = {\n",
       "          send: sendClosure\n",
       "        };\n",
       "      }\n",
       "      window.PyViz.comms[comm_id] = comm;\n",
       "      return comm;\n",
       "    }\n",
       "    window.PyViz.comm_manager = new JupyterCommManager();\n",
       "    \n",
       "\n",
       "\n",
       "var JS_MIME_TYPE = 'application/javascript';\n",
       "var HTML_MIME_TYPE = 'text/html';\n",
       "var EXEC_MIME_TYPE = 'application/vnd.holoviews_exec.v0+json';\n",
       "var CLASS_NAME = 'output';\n",
       "\n",
       "/**\n",
       " * Render data to the DOM node\n",
       " */\n",
       "function render(props, node) {\n",
       "  var div = document.createElement(\"div\");\n",
       "  var script = document.createElement(\"script\");\n",
       "  node.appendChild(div);\n",
       "  node.appendChild(script);\n",
       "}\n",
       "\n",
       "/**\n",
       " * Handle when a new output is added\n",
       " */\n",
       "function handle_add_output(event, handle) {\n",
       "  var output_area = handle.output_area;\n",
       "  var output = handle.output;\n",
       "  if ((output.data == undefined) || (!output.data.hasOwnProperty(EXEC_MIME_TYPE))) {\n",
       "    return\n",
       "  }\n",
       "  var id = output.metadata[EXEC_MIME_TYPE][\"id\"];\n",
       "  var toinsert = output_area.element.find(\".\" + CLASS_NAME.split(' ')[0]);\n",
       "  if (id !== undefined) {\n",
       "    var nchildren = toinsert.length;\n",
       "    var html_node = toinsert[nchildren-1].children[0];\n",
       "    html_node.innerHTML = output.data[HTML_MIME_TYPE];\n",
       "    var scripts = [];\n",
       "    var nodelist = html_node.querySelectorAll(\"script\");\n",
       "    for (var i in nodelist) {\n",
       "      if (nodelist.hasOwnProperty(i)) {\n",
       "        scripts.push(nodelist[i])\n",
       "      }\n",
       "    }\n",
       "\n",
       "    scripts.forEach( function (oldScript) {\n",
       "      var newScript = document.createElement(\"script\");\n",
       "      var attrs = [];\n",
       "      var nodemap = oldScript.attributes;\n",
       "      for (var j in nodemap) {\n",
       "        if (nodemap.hasOwnProperty(j)) {\n",
       "          attrs.push(nodemap[j])\n",
       "        }\n",
       "      }\n",
       "      attrs.forEach(function(attr) { newScript.setAttribute(attr.name, attr.value) });\n",
       "      newScript.appendChild(document.createTextNode(oldScript.innerHTML));\n",
       "      oldScript.parentNode.replaceChild(newScript, oldScript);\n",
       "    });\n",
       "    if (JS_MIME_TYPE in output.data) {\n",
       "      toinsert[nchildren-1].children[1].textContent = output.data[JS_MIME_TYPE];\n",
       "    }\n",
       "    output_area._hv_plot_id = id;\n",
       "    if ((window.Bokeh !== undefined) && (id in Bokeh.index)) {\n",
       "      window.PyViz.plot_index[id] = Bokeh.index[id];\n",
       "    } else {\n",
       "      window.PyViz.plot_index[id] = null;\n",
       "    }\n",
       "  } else if (output.metadata[EXEC_MIME_TYPE][\"server_id\"] !== undefined) {\n",
       "    var bk_div = document.createElement(\"div\");\n",
       "    bk_div.innerHTML = output.data[HTML_MIME_TYPE];\n",
       "    var script_attrs = bk_div.children[0].attributes;\n",
       "    for (var i = 0; i < script_attrs.length; i++) {\n",
       "      toinsert[toinsert.length - 1].childNodes[1].setAttribute(script_attrs[i].name, script_attrs[i].value);\n",
       "    }\n",
       "    // store reference to server id on output_area\n",
       "    output_area._bokeh_server_id = output.metadata[EXEC_MIME_TYPE][\"server_id\"];\n",
       "  }\n",
       "}\n",
       "\n",
       "/**\n",
       " * Handle when an output is cleared or removed\n",
       " */\n",
       "function handle_clear_output(event, handle) {\n",
       "  var id = handle.cell.output_area._hv_plot_id;\n",
       "  var server_id = handle.cell.output_area._bokeh_server_id;\n",
       "  if (((id === undefined) || !(id in PyViz.plot_index)) && (server_id !== undefined)) { return; }\n",
       "  var comm = window.PyViz.comm_manager.get_client_comm(\"hv-extension-comm\", \"hv-extension-comm\", function () {});\n",
       "  if (server_id !== null) {\n",
       "    comm.send({event_type: 'server_delete', 'id': server_id});\n",
       "    return;\n",
       "  } else if (comm !== null) {\n",
       "    comm.send({event_type: 'delete', 'id': id});\n",
       "  }\n",
       "  delete PyViz.plot_index[id];\n",
       "  if ((window.Bokeh !== undefined) & (id in window.Bokeh.index)) {\n",
       "    var doc = window.Bokeh.index[id].model.document\n",
       "    doc.clear();\n",
       "    const i = window.Bokeh.documents.indexOf(doc);\n",
       "    if (i > -1) {\n",
       "      window.Bokeh.documents.splice(i, 1);\n",
       "    }\n",
       "  }\n",
       "}\n",
       "\n",
       "/**\n",
       " * Handle kernel restart event\n",
       " */\n",
       "function handle_kernel_cleanup(event, handle) {\n",
       "  delete PyViz.comms[\"hv-extension-comm\"];\n",
       "  window.PyViz.plot_index = {}\n",
       "}\n",
       "\n",
       "/**\n",
       " * Handle update_display_data messages\n",
       " */\n",
       "function handle_update_output(event, handle) {\n",
       "  handle_clear_output(event, {cell: {output_area: handle.output_area}})\n",
       "  handle_add_output(event, handle)\n",
       "}\n",
       "\n",
       "function register_renderer(events, OutputArea) {\n",
       "  function append_mime(data, metadata, element) {\n",
       "    // create a DOM node to render to\n",
       "    var toinsert = this.create_output_subarea(\n",
       "    metadata,\n",
       "    CLASS_NAME,\n",
       "    EXEC_MIME_TYPE\n",
       "    );\n",
       "    this.keyboard_manager.register_events(toinsert);\n",
       "    // Render to node\n",
       "    var props = {data: data, metadata: metadata[EXEC_MIME_TYPE]};\n",
       "    render(props, toinsert[0]);\n",
       "    element.append(toinsert);\n",
       "    return toinsert\n",
       "  }\n",
       "\n",
       "  events.on('output_added.OutputArea', handle_add_output);\n",
       "  events.on('output_updated.OutputArea', handle_update_output);\n",
       "  events.on('clear_output.CodeCell', handle_clear_output);\n",
       "  events.on('delete.Cell', handle_clear_output);\n",
       "  events.on('kernel_ready.Kernel', handle_kernel_cleanup);\n",
       "\n",
       "  OutputArea.prototype.register_mime_type(EXEC_MIME_TYPE, append_mime, {\n",
       "    safe: true,\n",
       "    index: 0\n",
       "  });\n",
       "}\n",
       "\n",
       "if (window.Jupyter !== undefined) {\n",
       "  try {\n",
       "    var events = require('base/js/events');\n",
       "    var OutputArea = require('notebook/js/outputarea').OutputArea;\n",
       "    if (OutputArea.prototype.mime_types().indexOf(EXEC_MIME_TYPE) == -1) {\n",
       "      register_renderer(events, OutputArea);\n",
       "    }\n",
       "  } catch(err) {\n",
       "  }\n",
       "}\n"
      ],
      "application/vnd.holoviews_load.v0+json": "\nif ((window.PyViz === undefined) || (window.PyViz instanceof HTMLElement)) {\n  window.PyViz = {comms: {}, comm_status:{}, kernels:{}, receivers: {}, plot_index: []}\n}\n\n\n    function JupyterCommManager() {\n    }\n\n    JupyterCommManager.prototype.register_target = function(plot_id, comm_id, msg_handler) {\n      if (window.comm_manager || ((window.Jupyter !== undefined) && (Jupyter.notebook.kernel != null))) {\n        var comm_manager = window.comm_manager || Jupyter.notebook.kernel.comm_manager;\n        comm_manager.register_target(comm_id, function(comm) {\n          comm.on_msg(msg_handler);\n        });\n      } else if ((plot_id in window.PyViz.kernels) && (window.PyViz.kernels[plot_id])) {\n        window.PyViz.kernels[plot_id].registerCommTarget(comm_id, function(comm) {\n          comm.onMsg = msg_handler;\n        });\n      } else if (typeof google != 'undefined' && google.colab.kernel != null) {\n        google.colab.kernel.comms.registerTarget(comm_id, (comm) => {\n          var messages = comm.messages[Symbol.asyncIterator]();\n          function processIteratorResult(result) {\n            var message = result.value;\n            console.log(message)\n            var content = {data: message.data, comm_id};\n            var buffers = []\n            for (var buffer of message.buffers || []) {\n              buffers.push(new DataView(buffer))\n            }\n            var metadata = message.metadata || {};\n            var msg = {content, buffers, metadata}\n            msg_handler(msg);\n            return messages.next().then(processIteratorResult);\n          }\n          return messages.next().then(processIteratorResult);\n        })\n      }\n    }\n\n    JupyterCommManager.prototype.get_client_comm = function(plot_id, comm_id, msg_handler) {\n      if (comm_id in window.PyViz.comms) {\n        return window.PyViz.comms[comm_id];\n      } else if (window.comm_manager || ((window.Jupyter !== undefined) && (Jupyter.notebook.kernel != null))) {\n        var comm_manager = window.comm_manager || Jupyter.notebook.kernel.comm_manager;\n        var comm = comm_manager.new_comm(comm_id, {}, {}, {}, comm_id);\n        if (msg_handler) {\n          comm.on_msg(msg_handler);\n        }\n      } else if ((plot_id in window.PyViz.kernels) && (window.PyViz.kernels[plot_id])) {\n        var comm = window.PyViz.kernels[plot_id].connectToComm(comm_id);\n        comm.open();\n        if (msg_handler) {\n          comm.onMsg = msg_handler;\n        }\n      } else if (typeof google != 'undefined' && google.colab.kernel != null) {\n        var comm_promise = google.colab.kernel.comms.open(comm_id)\n        comm_promise.then((comm) => {\n          window.PyViz.comms[comm_id] = comm;\n          if (msg_handler) {\n            var messages = comm.messages[Symbol.asyncIterator]();\n            function processIteratorResult(result) {\n              var message = result.value;\n              var content = {data: message.data};\n              var metadata = message.metadata || {comm_id};\n              var msg = {content, metadata}\n              msg_handler(msg);\n              return messages.next().then(processIteratorResult);\n            }\n            return messages.next().then(processIteratorResult);\n          }\n        }) \n        var sendClosure = (data, metadata, buffers, disposeOnDone) => {\n          return comm_promise.then((comm) => {\n            comm.send(data, metadata, buffers, disposeOnDone);\n          });\n        };\n        var comm = {\n          send: sendClosure\n        };\n      }\n      window.PyViz.comms[comm_id] = comm;\n      return comm;\n    }\n    window.PyViz.comm_manager = new JupyterCommManager();\n    \n\n\nvar JS_MIME_TYPE = 'application/javascript';\nvar HTML_MIME_TYPE = 'text/html';\nvar EXEC_MIME_TYPE = 'application/vnd.holoviews_exec.v0+json';\nvar CLASS_NAME = 'output';\n\n/**\n * Render data to the DOM node\n */\nfunction render(props, node) {\n  var div = document.createElement(\"div\");\n  var script = document.createElement(\"script\");\n  node.appendChild(div);\n  node.appendChild(script);\n}\n\n/**\n * Handle when a new output is added\n */\nfunction handle_add_output(event, handle) {\n  var output_area = handle.output_area;\n  var output = handle.output;\n  if ((output.data == undefined) || (!output.data.hasOwnProperty(EXEC_MIME_TYPE))) {\n    return\n  }\n  var id = output.metadata[EXEC_MIME_TYPE][\"id\"];\n  var toinsert = output_area.element.find(\".\" + CLASS_NAME.split(' ')[0]);\n  if (id !== undefined) {\n    var nchildren = toinsert.length;\n    var html_node = toinsert[nchildren-1].children[0];\n    html_node.innerHTML = output.data[HTML_MIME_TYPE];\n    var scripts = [];\n    var nodelist = html_node.querySelectorAll(\"script\");\n    for (var i in nodelist) {\n      if (nodelist.hasOwnProperty(i)) {\n        scripts.push(nodelist[i])\n      }\n    }\n\n    scripts.forEach( function (oldScript) {\n      var newScript = document.createElement(\"script\");\n      var attrs = [];\n      var nodemap = oldScript.attributes;\n      for (var j in nodemap) {\n        if (nodemap.hasOwnProperty(j)) {\n          attrs.push(nodemap[j])\n        }\n      }\n      attrs.forEach(function(attr) { newScript.setAttribute(attr.name, attr.value) });\n      newScript.appendChild(document.createTextNode(oldScript.innerHTML));\n      oldScript.parentNode.replaceChild(newScript, oldScript);\n    });\n    if (JS_MIME_TYPE in output.data) {\n      toinsert[nchildren-1].children[1].textContent = output.data[JS_MIME_TYPE];\n    }\n    output_area._hv_plot_id = id;\n    if ((window.Bokeh !== undefined) && (id in Bokeh.index)) {\n      window.PyViz.plot_index[id] = Bokeh.index[id];\n    } else {\n      window.PyViz.plot_index[id] = null;\n    }\n  } else if (output.metadata[EXEC_MIME_TYPE][\"server_id\"] !== undefined) {\n    var bk_div = document.createElement(\"div\");\n    bk_div.innerHTML = output.data[HTML_MIME_TYPE];\n    var script_attrs = bk_div.children[0].attributes;\n    for (var i = 0; i < script_attrs.length; i++) {\n      toinsert[toinsert.length - 1].childNodes[1].setAttribute(script_attrs[i].name, script_attrs[i].value);\n    }\n    // store reference to server id on output_area\n    output_area._bokeh_server_id = output.metadata[EXEC_MIME_TYPE][\"server_id\"];\n  }\n}\n\n/**\n * Handle when an output is cleared or removed\n */\nfunction handle_clear_output(event, handle) {\n  var id = handle.cell.output_area._hv_plot_id;\n  var server_id = handle.cell.output_area._bokeh_server_id;\n  if (((id === undefined) || !(id in PyViz.plot_index)) && (server_id !== undefined)) { return; }\n  var comm = window.PyViz.comm_manager.get_client_comm(\"hv-extension-comm\", \"hv-extension-comm\", function () {});\n  if (server_id !== null) {\n    comm.send({event_type: 'server_delete', 'id': server_id});\n    return;\n  } else if (comm !== null) {\n    comm.send({event_type: 'delete', 'id': id});\n  }\n  delete PyViz.plot_index[id];\n  if ((window.Bokeh !== undefined) & (id in window.Bokeh.index)) {\n    var doc = window.Bokeh.index[id].model.document\n    doc.clear();\n    const i = window.Bokeh.documents.indexOf(doc);\n    if (i > -1) {\n      window.Bokeh.documents.splice(i, 1);\n    }\n  }\n}\n\n/**\n * Handle kernel restart event\n */\nfunction handle_kernel_cleanup(event, handle) {\n  delete PyViz.comms[\"hv-extension-comm\"];\n  window.PyViz.plot_index = {}\n}\n\n/**\n * Handle update_display_data messages\n */\nfunction handle_update_output(event, handle) {\n  handle_clear_output(event, {cell: {output_area: handle.output_area}})\n  handle_add_output(event, handle)\n}\n\nfunction register_renderer(events, OutputArea) {\n  function append_mime(data, metadata, element) {\n    // create a DOM node to render to\n    var toinsert = this.create_output_subarea(\n    metadata,\n    CLASS_NAME,\n    EXEC_MIME_TYPE\n    );\n    this.keyboard_manager.register_events(toinsert);\n    // Render to node\n    var props = {data: data, metadata: metadata[EXEC_MIME_TYPE]};\n    render(props, toinsert[0]);\n    element.append(toinsert);\n    return toinsert\n  }\n\n  events.on('output_added.OutputArea', handle_add_output);\n  events.on('output_updated.OutputArea', handle_update_output);\n  events.on('clear_output.CodeCell', handle_clear_output);\n  events.on('delete.Cell', handle_clear_output);\n  events.on('kernel_ready.Kernel', handle_kernel_cleanup);\n\n  OutputArea.prototype.register_mime_type(EXEC_MIME_TYPE, append_mime, {\n    safe: true,\n    index: 0\n  });\n}\n\nif (window.Jupyter !== undefined) {\n  try {\n    var events = require('base/js/events');\n    var OutputArea = require('notebook/js/outputarea').OutputArea;\n    if (OutputArea.prototype.mime_types().indexOf(EXEC_MIME_TYPE) == -1) {\n      register_renderer(events, OutputArea);\n    }\n  } catch(err) {\n  }\n}\n"
     },
     "metadata": {},
     "output_type": "display_data"
    }
   ],
   "source": [
    "import pandas as pd\n",
    "import numpy as np\n",
    "import sys\n",
    "import plotly.express as px\n",
    "from FiberClass import fiberObj\n",
    "from pathlib import Path"
   ]
  },
  {
   "cell_type": "code",
   "execution_count": 27,
   "id": "5b0b5fe2-c978-4105-9bcf-e1a93809dd98",
   "metadata": {},
   "outputs": [
    {
     "name": "stdin",
     "output_type": "stream",
     "text": [
      "Enter a name for the object:  poo\n",
      "Enter the fiber number:  1\n",
      "Enter the animal number:  1\n",
      "Enter the date of the experiment:  today\n",
      "Enter the time of the experiment:  1:20\n"
     ]
    }
   ],
   "source": [
    "fiber_dict = {}\n",
    "\n",
    "def parse_input(file_in, entries):\n",
    "    if file_in:\n",
    "        try:\n",
    "            # string_io = io.StringIO(file_in.decode(\"utf8\"))\n",
    "            df = pd.read_csv(file_in)\n",
    "        except FileNotFoundError:\n",
    "            print(\"Could not find file: \" + file_in)\n",
    "            sys.exit(2)\n",
    "        except PermissionError:\n",
    "            print(\"Could not access file: \" + file_in)\n",
    "            sys.exit(3)\n",
    "    \n",
    "    if df.empty:\n",
    "        print(\"Dataframe is empty\")\n",
    "        sys.exit(4)\n",
    "    else:\n",
    "        new_obj = fiberObj(df, entries[0], entries[1], entries[2], entries[3], entries[4])\n",
    "        # fiber_dict.append(new_obj)\n",
    "        fiber_dict[entries[0]] = new_obj\n",
    "\n",
    "        \n",
    "# file_path = \"/Users/yobae/Desktop/CS Stuff/fiberphotometry-master/Python/Yobe_test/FiberPhoSig(Small).csv\"\n",
    "# file = open(file_path, \"r\")\n",
    "file = \"FiberPhoSig(Small).csv\"\n",
    "file_2 = \"FiberPhoSig2020-12-19T17_38_46.csv\"\n",
    "\n",
    "# keys = [\"Fiber_Names\", \"Animal_Nums\", \"Exp_Dates\", \"Exp_Times\"]\n",
    "# input_params = dict.fromkeys(keys)\n",
    "\n",
    "while True:  # loop while we don't get a valid input\n",
    "    input_params = []\n",
    "    #Ask for required input for fiber object creation\n",
    "    input_params.append(input('Enter a name for the object: '))\n",
    "    input_params.append(int(input('Enter the fiber number: ')))\n",
    "    input_params.append((int(input('Enter the animal number: '))))\n",
    "    input_params.append(str(input('Enter the date of the experiment: ')))\n",
    "    input_params.append(str(input('Enter the time of the experiment: ')))\n",
    "    if bool(input_params):  # if valid input\n",
    "        with open(file, \"r+\") as file1:\n",
    "            parse_input(file1, input_params)\n",
    "            break\n",
    "    else:\n",
    "        print('Missing/Invalid inputs, try again...')\n",
    "\n",
    "# with open(file, \"r+\") as file1:\n",
    "#     obj_name = \"poop\"\n",
    "#     parse_input(file1, obj_name)\n",
    "# plot_1 = fiber_dict[0].raw_signal_trace()\n",
    "# plot_2, data_dict = fiber_dict[1].plot_fitted_exp()"
   ]
  },
  {
   "cell_type": "code",
   "execution_count": 29,
   "id": "912b1b46-50ba-4244-a542-b8564a2d1a46",
   "metadata": {},
   "outputs": [
    {
     "name": "stdout",
     "output_type": "stream",
     "text": [
      "dict_keys(['poo'])\n"
     ]
    },
    {
     "data": {
      "application/vnd.plotly.v1+json": {
       "config": {
        "plotlyServerURL": "https://plot.ly"
       },
       "data": [
        {
         "line": {
          "color": "Green"
         },
         "mode": "lines",
         "name": "f1Green",
         "showlegend": false,
         "text": "f1Green",
         "type": "scatter",
         "x": [
          1.6717099999987113,
          1.6883899999993446,
          1.7050299999973504,
          1.7216999999982363,
          1.7383699999991222,
          1.7550400000000081,
          1.771679999998014,
          1.7883499999988999,
          1.8050299999995332,
          1.821669999997539,
          1.838339999998425,
          1.8550099999993108,
          1.8716799999965588,
          1.8883199999982025,
          1.9049899999990885,
          1.9216699999997218,
          1.9383099999977276,
          1.9549799999986135,
          1.9716499999994994,
          1.9882899999975052,
          2.004959999998391,
          2.021629999999277,
          2.038269999997283,
          2.054949999997916,
          2.071619999998802,
          2.088259999996808,
          2.104929999997694,
          2.1215999999985797,
          2.1382399999965855,
          2.1549099999974715,
          2.1715899999981048,
          2.1882299999997485,
          2.2048999999969965,
          2.2215699999978824,
          2.238209999999526,
          2.254879999996774,
          2.27154999999766,
          2.2882299999982934,
          2.304869999999937,
          2.321539999997185,
          2.338209999998071,
          2.354849999999715,
          2.3715199999969627,
          2.3881899999978486,
          2.4048299999994924,
          2.4215099999964877,
          2.4381799999973737,
          2.4548499999982596,
          2.4714899999999034,
          2.488129999997909,
          2.504799999998795,
          2.521439999996801,
          2.538109999997687,
          2.55478999999832,
          2.571429999999964,
          2.588099999997212,
          2.6047699999980978,
          2.6214099999997416,
          2.6380799999969895,
          2.6547499999978754,
          2.671389999999519,
          2.6880699999965145,
          2.7047399999974004,
          2.7214099999982864,
          2.73804999999993,
          2.754719999997178,
          2.771389999998064,
          2.788029999999708,
          2.804709999996703,
          2.821379999997589,
          2.838019999999233,
          2.8546899999964808,
          2.8713599999973667,
          2.8880299999982526,
          2.9046699999998964,
          2.9213499999968917,
          2.9380199999977776,
          2.9546599999994214,
          2.9713299999966694,
          2.9879999999975553,
          3.004639999999199,
          3.021310000000085,
          3.0379899999970803,
          3.054629999998724,
          3.07129999999961,
          3.087969999996858,
          3.1046099999985017,
          3.1212799999993877,
          3.1379499999966356,
          3.1545899999982794,
          3.1712699999989127,
          3.1879399999997986,
          3.2046099999970465,
          3.2212499999986903,
          3.2379199999995762,
          3.254589999996824,
          3.271229999998468,
          3.2879099999991013,
          3.304579999999987,
          3.321219999997993,
          3.337889999998879,
          3.354559999999765,
          3.3711999999977706,
          3.3878699999986566,
          3.40454999999929,
          3.4211899999972957,
          3.4378599999981816,
          3.4545299999990675,
          3.4711699999970733,
          3.4878399999979592,
          3.504509999998845,
          3.521149999996851,
          3.5378299999974843,
          3.55449999999837,
          3.571169999999256,
          3.587809999997262,
          3.604479999998148,
          3.6211499999990338,
          3.637829999999667,
          3.654469999997673,
          3.671139999998559,
          3.6878099999994447,
          3.7044499999974505,
          3.7211199999983364,
          3.737829999998212,
          3.754429999997228,
          3.7711099999978615,
          3.7878099999979895,
          3.804419999996753,
          3.821089999997639,
          3.837759999998525,
          3.854399999996531,
          3.8710699999974167,
          3.88774999999805,
          3.904389999999694,
          3.9210599999969418,
          3.9377299999978277,
          3.9543699999994715,
          3.9710399999967194,
          3.9877099999976053,
          4.004349999999249,
          4.021029999999882,
          4.03769999999713,
          4.054369999998016,
          4.07100999999966,
          4.087679999996908,
          4.104349999997794,
          4.120989999999438,
          4.137670000000071,
          4.154339999997319,
          4.170979999998963,
          4.187649999999849,
          4.204319999997097,
          4.22095999999874,
          4.237629999999626,
          4.254309999996622,
          4.270949999998265,
          4.287619999999151,
          4.304290000000037,
          4.320929999998043,
          4.337599999998929,
          4.354269999999815,
          4.37094999999681,
          4.387589999998454,
          4.40425999999934,
          4.420929999996588,
          4.437569999998232,
          4.454239999999118,
          4.4709100000000035,
          4.487549999998009,
          4.504229999998643,
          4.5208999999995285,
          4.5375699999967765,
          4.55420999999842,
          4.570879999999306,
          4.587549999996554,
          4.604189999998198,
          4.620869999998831,
          4.637539999999717,
          4.654179999997723,
          4.670849999998609,
          4.687519999999495,
          4.704159999997501,
          4.7208299999983865,
          4.73750999999902,
          4.754149999997026,
          4.7708199999979115,
          4.787489999998797,
          4.804159999999683,
          4.820799999997689,
          4.837469999998575,
          4.854149999999208,
          4.870789999997214,
          4.8874599999981,
          4.904129999998986,
          4.920769999996992,
          4.937439999997878,
          4.954109999998764,
          4.9707499999967695,
          4.987429999997403,
          5.004099999998289,
          5.020769999999175,
          5.03740999999718,
          5.054079999998066,
          5.070749999998952,
          5.087389999996958,
          5.104069999997591,
          5.120739999998477,
          5.137379999996483,
          5.154049999997369,
          5.170719999998255,
          5.187359999999899,
          5.204029999997147,
          5.22070999999778,
          5.237349999999424,
          5.254019999996672,
          5.270689999997558,
          5.287329999999201,
          5.304000000000087,
          5.320669999997335,
          5.337309999998979,
          5.353989999999612,
          5.37065999999686,
          5.387299999998504,
          5.40396999999939,
          5.420639999996638,
          5.437309999997524,
          5.453989999998157,
          5.470629999999801,
          5.487299999997049,
          5.503939999998693,
          5.520609999999579
         ],
         "xaxis": "x",
         "y": [
          0.087913768,
          0.088345984,
          0.088356525,
          0.088477757,
          0.088562092,
          0.08826692,
          0.088251107,
          0.088259013,
          0.088461944,
          0.088796648,
          0.088448767,
          0.088409235,
          0.088085073,
          0.088132511,
          0.088335442,
          0.088003373,
          0.088013915,
          0.088116698,
          0.088066624,
          0.087776724,
          0.087328695,
          0.08724436,
          0.087341872,
          0.087391946,
          0.08727335,
          0.087041429,
          0.087030888,
          0.086983449,
          0.087228547,
          0.087489458,
          0.087378769,
          0.087465739,
          0.086880666,
          0.087041429,
          0.087254902,
          0.08747101,
          0.087552709,
          0.08741303,
          0.087600148,
          0.087513177,
          0.087260173,
          0.087220641,
          0.087175838,
          0.087291798,
          0.087418301,
          0.087394581,
          0.087086232,
          0.086862218,
          0.08709941,
          0.087260173,
          0.08738404,
          0.087484187,
          0.087210099,
          0.087323424,
          0.087051971,
          0.087146848,
          0.086846405,
          0.086725174,
          0.086880666,
          0.086680371,
          0.086885937,
          0.086817415,
          0.087007168,
          0.087102045,
          0.087254902,
          0.087426207,
          0.08735505,
          0.087347143,
          0.086996627,
          0.087476281,
          0.087905861,
          0.087866329,
          0.0878716,
          0.087518448,
          0.087550074,
          0.08772665,
          0.087671305,
          0.087610689,
          0.08778463,
          0.087629138,
          0.087486823,
          0.087410394,
          0.087344508,
          0.087531626,
          0.087568522,
          0.087776724,
          0.087473645,
          0.087007168,
          0.087065149,
          0.086809509,
          0.087044065,
          0.086993991,
          0.086978178,
          0.08670409,
          0.086387835,
          0.086324584,
          0.08639047,
          0.086300864,
          0.086295594,
          0.086680371,
          0.086593401,
          0.086596036,
          0.087033523,
          0.087136306,
          0.08747101,
          0.087552709,
          0.087333966,
          0.087207464,
          0.087170567,
          0.087320789,
          0.087386675,
          0.087291798,
          0.087225912,
          0.087299705,
          0.086949188,
          0.08709941,
          0.087033523,
          0.087120493,
          0.087199557,
          0.087347143,
          0.086833228,
          0.086709361,
          0.086596036,
          0.086949188,
          0.086622391,
          0.086880666,
          0.086590765,
          0.086401012,
          0.085858107,
          0.085881826,
          0.086148008,
          0.086524879,
          0.086701455,
          0.086535421,
          0.08639047,
          0.08653015,
          0.086756799,
          0.086751529,
          0.086775248,
          0.086667194,
          0.086553869,
          0.086161185,
          0.085945077,
          0.085997786,
          0.086171727,
          0.086013599,
          0.085913451,
          0.085620915,
          0.085779043,
          0.085847565,
          0.085752688,
          0.085715792,
          0.085765865,
          0.086182269,
          0.086195446,
          0.086263968,
          0.086261332,
          0.085966161,
          0.086029412,
          0.086256062,
          0.086061037,
          0.085884461,
          0.085815939,
          0.085921358,
          0.086398377,
          0.086540692,
          0.086353574,
          0.086208623,
          0.086321948,
          0.086487982,
          0.086443179,
          0.086440544,
          0.086804238,
          0.08653015,
          0.0859319,
          0.085779043,
          0.085979338,
          0.086474805,
          0.086195446,
          0.086253426,
          0.086372022,
          0.086097934,
          0.086208623,
          0.086358845,
          0.086385199,
          0.086261332,
          0.086693548,
          0.086622391,
          0.086271874,
          0.0858502,
          0.086184904,
          0.086208623,
          0.086087392,
          0.086021505,
          0.086058402,
          0.086026776,
          0.086169091,
          0.086016234,
          0.08579222,
          0.085839658,
          0.085731604,
          0.085475965,
          0.085341556,
          0.085428526,
          0.085823846,
          0.085852836,
          0.085510226,
          0.085628821,
          0.085215054,
          0.085663082,
          0.085694708,
          0.085489142,
          0.085670989,
          0.085829117,
          0.085974067,
          0.08579222,
          0.085702614,
          0.085797491,
          0.085718427,
          0.08613483,
          0.086569682,
          0.085863378,
          0.085781678,
          0.085818575,
          0.086013599,
          0.086184904,
          0.086208623,
          0.086050495,
          0.086082121,
          0.086329855,
          0.086308771,
          0.086424731
         ],
         "yaxis": "y"
        },
        {
         "line": {
          "color": "Cyan"
         },
         "mode": "lines",
         "name": "green_iso",
         "showlegend": false,
         "text": "green_iso",
         "type": "scatter",
         "x": [
          1.6828199999981734,
          1.6994899999990594,
          1.7161599999999453,
          1.732799999997951,
          1.749469999998837,
          1.7661499999994703,
          1.7828199999967183,
          1.799459999998362,
          1.816129999999248,
          1.832799999996496,
          1.8494399999981397,
          1.8661099999990256,
          1.882789999999659,
          1.8994299999976647,
          1.9160999999985506,
          1.9327699999994365,
          1.9494099999974424,
          1.9660799999983283,
          1.9827499999992142,
          1.99938999999722,
          2.0160699999978533,
          2.0327399999987392,
          2.049379999996745,
          2.066049999997631,
          2.082719999998517,
          2.0993599999965227,
          2.1160299999974086,
          2.132709999998042,
          2.149379999998928,
          2.1660199999969336,
          2.1826899999978195,
          2.1993599999987055,
          2.2159999999967113,
          2.232669999997597,
          2.2493499999982305,
          2.2660199999991164,
          2.282659999997122,
          2.299329999998008,
          2.315999999998894,
          2.3326399999969,
          2.349309999997786,
          2.365989999998419,
          2.382630000000063,
          2.399299999997311,
          2.4159699999981967,
          2.4326099999998405,
          2.4492799999970885,
          2.4659499999979744,
          2.482559999996738,
          2.499229999997624,
          2.5159099999982573,
          2.532549999999901,
          2.549219999997149,
          2.565889999998035,
          2.5825299999996787,
          2.5991999999969266,
          2.6158699999978126,
          2.6325099999994563,
          2.6491900000000896,
          2.6658599999973376,
          2.6824999999989814,
          2.6991699999998673,
          2.7158399999971152,
          2.732509999998001,
          2.749149999999645,
          2.7658299999966403,
          2.782499999997526,
          2.79913999999917,
          2.815810000000056,
          2.832479999997304,
          2.8491199999989476,
          2.865829999998823,
          2.882469999996829,
          2.8991399999977148,
          2.9158099999986007,
          2.9324499999966065,
          2.9491199999974924,
          2.965829999997368,
          2.982430000000022,
          2.9991099999970174,
          3.0158099999971455,
          3.032419999999547,
          3.049089999996795,
          3.065729999998439,
          3.082399999999325,
          3.0990699999965727,
          3.1157099999982165,
          3.13238999999885,
          3.1490599999997357,
          3.1657299999969837,
          3.1823699999986275,
          3.1990399999995134,
          3.2157099999967613,
          3.232349999998405,
          3.2490299999990384,
          3.2656999999999243,
          3.28233999999793,
          3.299009999998816,
          3.315679999999702,
          3.332319999997708,
          3.3489899999985937,
          3.365669999999227,
          3.382309999997233,
          3.3989799999981187,
          3.4156499999990046,
          3.4322899999970105,
          3.4489599999978964,
          3.4656299999987823,
          3.4823099999994156,
          3.4989499999974214,
          3.5156199999983073,
          3.5322899999991932,
          3.548929999997199,
          3.565599999998085,
          3.582269999998971,
          3.5989099999969767,
          3.61558999999761,
          3.632259999998496,
          3.648929999999382,
          3.6655699999973876,
          3.6822399999982736,
          3.6989099999991595,
          3.7155499999971653,
          3.7322299999977986,
          3.7488999999986845,
          3.7655399999966903,
          3.7822099999975762,
          3.798879999998462,
          3.815520000000106,
          3.832189999997354,
          3.848869999997987,
          3.865509999999631,
          3.882179999996879,
          3.898849999997765,
          3.9154899999994086,
          3.9321599999966566,
          3.9488299999975425,
          3.9654699999991863,
          3.9821499999998196,
          3.9988199999970675,
          4.015489999997953,
          4.032129999999597,
          4.048799999996845,
          4.065469999997731,
          4.082149999998364,
          4.098790000000008,
          4.115459999997256,
          4.132129999998142,
          4.148769999999786,
          4.165439999997034,
          4.18210999999792,
          4.198749999999563,
          4.215429999996559,
          4.232099999997445,
          4.2487399999990885,
          4.265409999999974,
          4.282079999997222,
          4.298719999998866,
          4.315389999999752,
          4.332069999996747,
          4.348709999998391,
          4.365379999999277,
          4.382049999996525,
          4.398689999998169,
          4.415359999999055,
          4.432029999999941,
          4.448669999997946,
          4.46534999999858,
          4.482019999999466,
          4.4986599999974715,
          4.515329999998357,
          4.531999999999243,
          4.548669999996491,
          4.565309999998135,
          4.581989999998768,
          4.598659999999654,
          4.61529999999766,
          4.631969999998546,
          4.648639999999432,
          4.665279999997438,
          4.681949999998324,
          4.698629999998957,
          4.715269999996963,
          4.731939999997849,
          4.748609999998735,
          4.76524999999674,
          4.781919999997626,
          4.798589999998512,
          4.8152699999991455,
          4.831909999997151,
          4.848579999998037,
          4.865249999998923,
          4.881889999996929,
          4.898559999997815,
          4.915229999998701,
          4.931869999996707,
          4.94854999999734,
          4.965219999998226,
          4.981889999999112,
          4.998529999997118,
          5.0151999999980035,
          5.031869999998889,
          5.048509999996895,
          5.0651899999975285,
          5.081859999998414,
          5.098500000000058,
          5.115169999997306,
          5.131839999998192,
          5.148479999999836,
          5.165149999997084,
          5.181829999997717,
          5.198469999999361,
          5.215139999996609,
          5.231809999997495,
          5.2484499999991385,
          5.2651200000000244,
          5.2818299999999,
          5.298429999998916,
          5.3151099999995495,
          5.3318099999996775,
          5.348419999998441,
          5.365089999999327,
          5.381829999998445,
          5.398429999997461,
          5.415069999999105,
          5.431749999999738,
          5.448419999996986,
          5.46505999999863,
          5.481729999999516,
          5.498399999996764,
          5.51506999999765,
          5.531709999999293
         ],
         "xaxis": "x",
         "y": [
          0.093158339,
          0.093269028,
          0.093440333,
          0.093551023,
          0.093464052,
          0.093208412,
          0.093097723,
          0.093545752,
          0.093875184,
          0.09362218,
          0.093590555,
          0.093295383,
          0.092942231,
          0.093034472,
          0.092799916,
          0.093058191,
          0.093255851,
          0.093408708,
          0.093018659,
          0.092515286,
          0.092386148,
          0.092686591,
          0.092847354,
          0.092863167,
          0.092918511,
          0.092449399,
          0.092560089,
          0.092565359,
          0.092947502,
          0.093047649,
          0.092976492,
          0.092462576,
          0.092206937,
          0.092694497,
          0.092902699,
          0.093016024,
          0.09325058,
          0.09350622,
          0.093442969,
          0.09293696,
          0.092604891,
          0.092678684,
          0.092705039,
          0.093063462,
          0.093100358,
          0.092723487,
          0.092325532,
          0.092088341,
          0.092235927,
          0.09287898,
          0.093050285,
          0.093010753,
          0.092365064,
          0.092415138,
          0.092346616,
          0.092201666,
          0.092249104,
          0.092444128,
          0.092523192,
          0.09245467,
          0.092156863,
          0.092249104,
          0.092491567,
          0.092536369,
          0.092873709,
          0.092773561,
          0.092172676,
          0.092006641,
          0.092301813,
          0.092554818,
          0.092926418,
          0.093200506,
          0.092481025,
          0.092362429,
          0.092752477,
          0.092649694,
          0.09282627,
          0.093084546,
          0.092952773,
          0.092586443,
          0.092438857,
          0.092560089,
          0.092620704,
          0.092805187,
          0.093087181,
          0.09279728,
          0.092188488,
          0.092233291,
          0.092388783,
          0.092470483,
          0.092823635,
          0.09271031,
          0.092249104,
          0.091851149,
          0.091766814,
          0.091837972,
          0.091766814,
          0.091946026,
          0.092420409,
          0.092254375,
          0.092164769,
          0.092499473,
          0.092794645,
          0.092968585,
          0.093290112,
          0.093092452,
          0.092407232,
          0.092417774,
          0.092628611,
          0.092913241,
          0.093095087,
          0.093174151,
          0.093155703,
          0.092328168,
          0.092098883,
          0.092233291,
          0.092834177,
          0.092763019,
          0.093126713,
          0.092504744,
          0.091946026,
          0.091911765,
          0.092085705,
          0.092138415,
          0.092061986,
          0.092064622,
          0.091669302,
          0.091144845,
          0.091139574,
          0.091479549,
          0.091953932,
          0.092243833,
          0.092346616,
          0.091938119,
          0.091893316,
          0.091861691,
          0.09217004,
          0.092209572,
          0.092072528,
          0.092233291,
          0.091606051,
          0.091476913,
          0.091308244,
          0.091664031,
          0.09182743,
          0.091664031,
          0.091492726,
          0.091305608,
          0.091461101,
          0.091627135,
          0.091632406,
          0.091674573,
          0.092098883,
          0.091869597,
          0.091777356,
          0.091695657,
          0.091777356,
          0.091603416,
          0.091832701,
          0.092138415,
          0.0919144,
          0.091461101,
          0.091608686,
          0.091901223,
          0.092267552,
          0.092444128,
          0.091980287,
          0.091816888,
          0.092030361,
          0.092177946,
          0.092220114,
          0.092098883,
          0.092420409,
          0.09160078,
          0.09134514,
          0.091395214,
          0.091848514,
          0.092051444,
          0.091922307,
          0.09233871,
          0.091777356,
          0.091961838,
          0.091851149,
          0.091874868,
          0.091948661,
          0.092101518,
          0.092275459,
          0.091679844,
          0.09128716,
          0.091627135,
          0.091845878,
          0.091851149,
          0.091764179,
          0.091951297,
          0.091693021,
          0.091990829,
          0.092038267,
          0.091882775,
          0.091640312,
          0.091832701,
          0.091337234,
          0.091097407,
          0.091126397,
          0.091447923,
          0.091835336,
          0.091474278,
          0.091806346,
          0.091234451,
          0.09137413,
          0.091674573,
          0.091350411,
          0.091708834,
          0.091693021,
          0.091919671,
          0.091656125,
          0.09122918,
          0.091505903,
          0.091592874,
          0.091350411,
          0.091930213,
          0.091619228,
          0.091121126,
          0.090870757,
          0.091347776,
          0.091582332,
          0.09143211,
          0.091656125,
          0.091437381,
          0.091155387,
          0.091123761,
          0.091458465,
          0.091400485
         ],
         "yaxis": "y"
        },
        {
         "line": {
          "color": "Red"
         },
         "mode": "lines",
         "name": "f1Red",
         "showlegend": false,
         "text": "f1Red",
         "type": "scatter",
         "x": [
          1.6772799999998824,
          1.6939499999971304,
          1.7105899999987741,
          1.7272699999994074,
          1.7439399999966554,
          1.7605799999982992,
          1.777249999999185,
          1.793920000000071,
          1.8105599999980768,
          1.8272299999989627,
          1.843909999999596,
          1.8605499999976018,
          1.8772199999984878,
          1.8938899999993737,
          1.9105299999973795,
          1.9271999999982654,
          1.9438699999991513,
          1.9605099999971571,
          1.9771899999977904,
          1.9938599999986764,
          2.0105299999995623,
          2.027169999997568,
          2.043839999998454,
          2.06050999999934,
          2.0771499999973457,
          2.093859999997221,
          2.110499999998865,
          2.1271399999968708,
          2.143839999996999,
          2.1604799999986426,
          2.1771199999966484,
          2.193859999999404,
          2.2104699999981676,
          2.2271099999998114,
          2.2437799999970593,
          2.2604499999979453,
          2.277119999998831,
          2.293759999996837,
          2.310429999997723,
          2.327109999998356,
          2.34375,
          2.360419999997248,
          2.377089999998134,
          2.3937299999997776,
          2.4103999999970256,
          2.4270699999979115,
          2.4437099999995553,
          2.4603899999965506,
          2.4770299999981944,
          2.493669999999838,
          2.510339999997086,
          2.527009999997972,
          2.543649999999616,
          2.5603199999968638,
          2.5769899999977497,
          2.593669999998383,
          2.6103100000000268,
          2.6269799999972747,
          2.6436499999981606,
          2.6602899999998044,
          2.6769599999970524,
          2.6936299999979383,
          2.710269999999582,
          2.7269499999965774,
          2.7436199999974633,
          2.7602899999983492,
          2.776929999999993,
          2.793599999997241,
          2.810269999998127,
          2.8269099999997707,
          2.843589999996766,
          2.860259999997652,
          2.8768999999992957,
          2.8935699999965436,
          2.9102399999974295,
          2.9268799999990733,
          2.9435499999999593,
          2.9602299999969546,
          2.9768699999985984,
          2.9935399999994843,
          3.010209999996732,
          3.026849999998376,
          3.043519999999262,
          3.06018999999651,
          3.0768299999981537,
          3.093509999998787,
          3.110179999999673,
          3.1268199999976787,
          3.1434899999985646,
          3.1601599999994505,
          3.1768299999966985,
          3.1934699999983422,
          3.2101499999989755,
          3.2268199999998615,
          3.2434599999978673,
          3.260129999998753,
          3.276799999999639,
          3.293439999997645,
          3.310109999998531,
          3.326789999999164,
          3.34346000000005,
          3.360099999998056,
          3.376769999998942,
          3.3934399999998277,
          3.4100799999978335,
          3.4267499999987194,
          3.4434299999993527,
          3.4600999999966007,
          3.4767399999982445,
          3.4934099999991304,
          3.510049999997136,
          3.526719999998022,
          3.543389999998908,
          3.5600699999995413,
          3.576709999997547,
          3.593379999998433,
          3.610049999999319,
          3.6266899999973248,
          3.6433599999982107,
          3.6600299999990966,
          3.6766699999971024,
          3.6933499999977357,
          3.7100199999986216,
          3.7266599999966274,
          3.7433299999975134,
          3.7599999999983993,
          3.776640000000043,
          3.793309999997291,
          3.8099899999979243,
          3.826629999999568,
          3.843299999996816,
          3.859969999997702,
          3.8766099999993457,
          3.8932799999965937,
          3.9099499999974796,
          3.926629999998113,
          3.9432699999997567,
          3.9599399999970046,
          3.9766099999978906,
          3.9932499999995343,
          4.009919999996782,
          4.026589999997668,
          4.043229999999312,
          4.059909999999945,
          4.076579999997193,
          4.093249999998079,
          4.109889999999723,
          4.126559999996971,
          4.143229999997857,
          4.159869999999501,
          4.176549999996496,
          4.193219999997382,
          4.209859999999026,
          4.2265299999999115,
          4.2431999999971595,
          4.259839999998803,
          4.276509999999689,
          4.2931899999966845,
          4.30985999999757,
          4.326499999999214,
          4.3431700000001,
          4.359839999997348,
          4.376479999998992,
          4.393149999999878,
          4.409829999996873,
          4.426469999998517,
          4.443139999999403,
          4.459809999996651,
          4.4764499999982945,
          4.49311999999918,
          4.509829999999056,
          4.526429999998072,
          4.5431099999987055,
          4.5598099999988335,
          4.576419999997597,
          4.593089999998483,
          4.609829999997601,
          4.626399999997375,
          4.643069999998261,
          4.659749999998894,
          4.67641999999978,
          4.693059999997786,
          4.709729999998672,
          4.726399999999558,
          4.743039999997563,
          4.759709999998449,
          4.776389999999083,
          4.7930299999970885,
          4.809699999997974,
          4.82636999999886,
          4.843009999996866,
          4.859679999997752,
          4.876349999998638,
          4.892989999996644,
          4.909669999997277,
          4.926339999998163,
          4.942979999999807,
          4.959649999997055,
          4.976319999997941,
          4.9929899999988265,
          5.009629999996832,
          5.026309999997466,
          5.042979999998352,
          5.059619999999995,
          5.076289999997243,
          5.092959999998129,
          5.109599999999773,
          5.126269999997021,
          5.142949999997654,
          5.159589999999298,
          5.176259999996546,
          5.192929999997432,
          5.209569999999076,
          5.226239999999962,
          5.2429099999972095,
          5.259589999997843,
          5.276229999999487,
          5.2928999999967346,
          5.3095699999976205,
          5.326209999999264,
          5.342879999996512,
          5.359549999997398,
          5.376189999999042,
          5.392869999999675,
          5.409539999996923,
          5.426209999997809,
          5.442849999999453,
          5.459519999996701,
          5.476189999997587,
          5.4928299999992305,
          5.509509999999864,
          5.526179999997112
         ],
         "xaxis": "x2",
         "y": [
          0.012912546,
          0.012899413,
          0.012904666,
          0.01285476,
          0.012867893,
          0.012925679,
          0.012875773,
          0.012925679,
          0.01289416,
          0.012899413,
          0.012820614,
          0.012962452,
          0.012904666,
          0.012904666,
          0.012860013,
          0.012904666,
          0.012833747,
          0.01288628,
          0.012891533,
          0.01288628,
          0.012833747,
          0.012875773,
          0.012907293,
          0.01286264,
          0.012944066,
          0.012883653,
          0.012923053,
          0.01290204,
          0.012972959,
          0.012888906,
          0.012881026,
          0.012896786,
          0.012915173,
          0.012865267,
          0.012917799,
          0.012941439,
          0.012917799,
          0.012991345,
          0.012923053,
          0.012925679,
          0.012941439,
          0.012896786,
          0.013014985,
          0.012896786,
          0.012954572,
          0.012896786,
          0.012920426,
          0.0128784,
          0.012857387,
          0.012883653,
          0.012907293,
          0.01286264,
          0.012867893,
          0.012852133,
          0.012899413,
          0.012867893,
          0.012909919,
          0.012909919,
          0.012957199,
          0.01289416,
          0.012920426,
          0.01288628,
          0.012881026,
          0.012875773,
          0.012828494,
          0.012946692,
          0.012891533,
          0.01287052,
          0.012915173,
          0.012957199,
          0.012938812,
          0.01288628,
          0.012983465,
          0.012873147,
          0.012986092,
          0.012962452,
          0.012807481,
          0.01284688,
          0.012912546,
          0.012836374,
          0.012930933,
          0.012852133,
          0.012875773,
          0.012833747,
          0.012915173,
          0.012891533,
          0.012909919,
          0.01288628,
          0.012891533,
          0.012899413,
          0.012857387,
          0.012891533,
          0.01287052,
          0.012860013,
          0.012849507,
          0.0128784,
          0.0128784,
          0.012938812,
          0.012867893,
          0.012789094,
          0.012865267,
          0.0128784,
          0.012946692,
          0.012825867,
          0.01282324,
          0.01289416,
          0.012836374,
          0.012867893,
          0.012936186,
          0.01288628,
          0.012912546,
          0.012817987,
          0.012857387,
          0.012909919,
          0.012957199,
          0.012920426,
          0.01289416,
          0.012928306,
          0.01288628,
          0.012896786,
          0.012875773,
          0.012923053,
          0.012841627,
          0.01285476,
          0.012920426,
          0.012875773,
          0.012820614,
          0.01288628,
          0.012891533,
          0.012970332,
          0.012896786,
          0.01288628,
          0.012839,
          0.012909919,
          0.01287052,
          0.012867893,
          0.012841627,
          0.012820614,
          0.01287052,
          0.012860013,
          0.012875773,
          0.01290204,
          0.012844254,
          0.012904666,
          0.01283112,
          0.012807481,
          0.01286264,
          0.01283112,
          0.012812734,
          0.01287052,
          0.01288628,
          0.012825867,
          0.0128784,
          0.012841627,
          0.012857387,
          0.01283112,
          0.01286264,
          0.012923053,
          0.01284688,
          0.01288628,
          0.012881026,
          0.012867893,
          0.012865267,
          0.012852133,
          0.012915173,
          0.012783841,
          0.012949319,
          0.012807481,
          0.012839,
          0.012875773,
          0.012912546,
          0.012825867,
          0.012883653,
          0.012883653,
          0.012825867,
          0.012852133,
          0.01288628,
          0.012891533,
          0.012888906,
          0.013028118,
          0.012849507,
          0.012852133,
          0.012860013,
          0.01284688,
          0.012844254,
          0.01285476,
          0.012849507,
          0.012875773,
          0.012883653,
          0.012920426,
          0.012881026,
          0.012828494,
          0.01288628,
          0.0128784,
          0.012865267,
          0.012757575,
          0.012752321,
          0.012867893,
          0.012841627,
          0.012865267,
          0.012857387,
          0.012865267,
          0.012783841,
          0.012781214,
          0.012825867,
          0.012825867,
          0.012891533,
          0.012833747,
          0.01285476,
          0.012875773,
          0.012891533,
          0.012896786,
          0.0128784,
          0.012844254,
          0.012883653,
          0.012841627,
          0.01287052,
          0.012852133,
          0.012799601,
          0.012896786,
          0.012836374,
          0.012907293,
          0.012951946,
          0.012891533,
          0.01290204,
          0.012844254,
          0.01283112,
          0.012860013,
          0.01282324,
          0.012828494,
          0.0128784,
          0.01288628
         ],
         "yaxis": "y2"
        },
        {
         "line": {
          "color": "Violet"
         },
         "mode": "lines",
         "name": "red_iso",
         "showlegend": false,
         "text": "red_iso",
         "type": "scatter",
         "x": [
          1.6828199999981734,
          1.6994899999990594,
          1.7161599999999453,
          1.732799999997951,
          1.749469999998837,
          1.7661499999994703,
          1.7828199999967183,
          1.799459999998362,
          1.816129999999248,
          1.832799999996496,
          1.8494399999981397,
          1.8661099999990256,
          1.882789999999659,
          1.8994299999976647,
          1.9160999999985506,
          1.9327699999994365,
          1.9494099999974424,
          1.9660799999983283,
          1.9827499999992142,
          1.99938999999722,
          2.0160699999978533,
          2.0327399999987392,
          2.049379999996745,
          2.066049999997631,
          2.082719999998517,
          2.0993599999965227,
          2.1160299999974086,
          2.132709999998042,
          2.149379999998928,
          2.1660199999969336,
          2.1826899999978195,
          2.1993599999987055,
          2.2159999999967113,
          2.232669999997597,
          2.2493499999982305,
          2.2660199999991164,
          2.282659999997122,
          2.299329999998008,
          2.315999999998894,
          2.3326399999969,
          2.349309999997786,
          2.365989999998419,
          2.382630000000063,
          2.399299999997311,
          2.4159699999981967,
          2.4326099999998405,
          2.4492799999970885,
          2.4659499999979744,
          2.482559999996738,
          2.499229999997624,
          2.5159099999982573,
          2.532549999999901,
          2.549219999997149,
          2.565889999998035,
          2.5825299999996787,
          2.5991999999969266,
          2.6158699999978126,
          2.6325099999994563,
          2.6491900000000896,
          2.6658599999973376,
          2.6824999999989814,
          2.6991699999998673,
          2.7158399999971152,
          2.732509999998001,
          2.749149999999645,
          2.7658299999966403,
          2.782499999997526,
          2.79913999999917,
          2.815810000000056,
          2.832479999997304,
          2.8491199999989476,
          2.865829999998823,
          2.882469999996829,
          2.8991399999977148,
          2.9158099999986007,
          2.9324499999966065,
          2.9491199999974924,
          2.965829999997368,
          2.982430000000022,
          2.9991099999970174,
          3.0158099999971455,
          3.032419999999547,
          3.049089999996795,
          3.065729999998439,
          3.082399999999325,
          3.0990699999965727,
          3.1157099999982165,
          3.13238999999885,
          3.1490599999997357,
          3.1657299999969837,
          3.1823699999986275,
          3.1990399999995134,
          3.2157099999967613,
          3.232349999998405,
          3.2490299999990384,
          3.2656999999999243,
          3.28233999999793,
          3.299009999998816,
          3.315679999999702,
          3.332319999997708,
          3.3489899999985937,
          3.365669999999227,
          3.382309999997233,
          3.3989799999981187,
          3.4156499999990046,
          3.4322899999970105,
          3.4489599999978964,
          3.4656299999987823,
          3.4823099999994156,
          3.4989499999974214,
          3.5156199999983073,
          3.5322899999991932,
          3.548929999997199,
          3.565599999998085,
          3.582269999998971,
          3.5989099999969767,
          3.61558999999761,
          3.632259999998496,
          3.648929999999382,
          3.6655699999973876,
          3.6822399999982736,
          3.6989099999991595,
          3.7155499999971653,
          3.7322299999977986,
          3.7488999999986845,
          3.7655399999966903,
          3.7822099999975762,
          3.798879999998462,
          3.815520000000106,
          3.832189999997354,
          3.848869999997987,
          3.865509999999631,
          3.882179999996879,
          3.898849999997765,
          3.9154899999994086,
          3.9321599999966566,
          3.9488299999975425,
          3.9654699999991863,
          3.9821499999998196,
          3.9988199999970675,
          4.015489999997953,
          4.032129999999597,
          4.048799999996845,
          4.065469999997731,
          4.082149999998364,
          4.098790000000008,
          4.115459999997256,
          4.132129999998142,
          4.148769999999786,
          4.165439999997034,
          4.18210999999792,
          4.198749999999563,
          4.215429999996559,
          4.232099999997445,
          4.2487399999990885,
          4.265409999999974,
          4.282079999997222,
          4.298719999998866,
          4.315389999999752,
          4.332069999996747,
          4.348709999998391,
          4.365379999999277,
          4.382049999996525,
          4.398689999998169,
          4.415359999999055,
          4.432029999999941,
          4.448669999997946,
          4.46534999999858,
          4.482019999999466,
          4.4986599999974715,
          4.515329999998357,
          4.531999999999243,
          4.548669999996491,
          4.565309999998135,
          4.581989999998768,
          4.598659999999654,
          4.61529999999766,
          4.631969999998546,
          4.648639999999432,
          4.665279999997438,
          4.681949999998324,
          4.698629999998957,
          4.715269999996963,
          4.731939999997849,
          4.748609999998735,
          4.76524999999674,
          4.781919999997626,
          4.798589999998512,
          4.8152699999991455,
          4.831909999997151,
          4.848579999998037,
          4.865249999998923,
          4.881889999996929,
          4.898559999997815,
          4.915229999998701,
          4.931869999996707,
          4.94854999999734,
          4.965219999998226,
          4.981889999999112,
          4.998529999997118,
          5.0151999999980035,
          5.031869999998889,
          5.048509999996895,
          5.0651899999975285,
          5.081859999998414,
          5.098500000000058,
          5.115169999997306,
          5.131839999998192,
          5.148479999999836,
          5.165149999997084,
          5.181829999997717,
          5.198469999999361,
          5.215139999996609,
          5.231809999997495,
          5.2484499999991385,
          5.2651200000000244,
          5.2818299999999,
          5.298429999998916,
          5.3151099999995495,
          5.3318099999996775,
          5.348419999998441,
          5.365089999999327,
          5.381829999998445,
          5.398429999997461,
          5.415069999999105,
          5.431749999999738,
          5.448419999996986,
          5.46505999999863,
          5.481729999999516,
          5.498399999996764,
          5.51506999999765,
          5.531709999999293
         ],
         "xaxis": "x2",
         "y": [
          0.025291885,
          0.025284005,
          0.025291885,
          0.025347044,
          0.025328658,
          0.025278752,
          0.025202579,
          0.025320778,
          0.025291885,
          0.025268245,
          0.025223592,
          0.025202579,
          0.025265619,
          0.025234099,
          0.025284005,
          0.025265619,
          0.02518682,
          0.025291885,
          0.025202579,
          0.025249859,
          0.025286632,
          0.025239352,
          0.025134287,
          0.025184193,
          0.025205206,
          0.025223592,
          0.025192073,
          0.025226219,
          0.025168433,
          0.025276125,
          0.025270872,
          0.025239352,
          0.025031848,
          0.025220966,
          0.025220966,
          0.025252485,
          0.025333911,
          0.025189446,
          0.025320778,
          0.025320778,
          0.025228846,
          0.025205206,
          0.025262992,
          0.025257739,
          0.025244606,
          0.025226219,
          0.025079127,
          0.025160553,
          0.02517106,
          0.025273499,
          0.025202579,
          0.025228846,
          0.0251553,
          0.02514742,
          0.02517106,
          0.025205206,
          0.025226219,
          0.025160553,
          0.025168433,
          0.025113274,
          0.025060741,
          0.025197326,
          0.025055488,
          0.025202579,
          0.025234099,
          0.025152673,
          0.025165806,
          0.025094887,
          0.025150047,
          0.025302392,
          0.025181566,
          0.025252485,
          0.025126407,
          0.025071248,
          0.025213086,
          0.025199953,
          0.02512378,
          0.025228846,
          0.025165806,
          0.02510802,
          0.025092261,
          0.025160553,
          0.025205206,
          0.025097514,
          0.025286632,
          0.025205206,
          0.025113274,
          0.025071248,
          0.025081754,
          0.02513166,
          0.025194699,
          0.025241979,
          0.025079127,
          0.02512378,
          0.024989822,
          0.025071248,
          0.025060741,
          0.025052861,
          0.025173686,
          0.025058114,
          0.02510802,
          0.025010835,
          0.025042355,
          0.025220966,
          0.025181566,
          0.0251553,
          0.025042355,
          0.025105394,
          0.025055488,
          0.0251553,
          0.025257739,
          0.025249859,
          0.025210459,
          0.025002955,
          0.025044981,
          0.025113274,
          0.025215713,
          0.025247232,
          0.025260365,
          0.025160553,
          0.025005582,
          0.025047608,
          0.02517894,
          0.025094887,
          0.025002955,
          0.025079127,
          0.024968809,
          0.024945169,
          0.024926783,
          0.024989822,
          0.024984569,
          0.025176313,
          0.025034475,
          0.025026595,
          0.025026595,
          0.024984569,
          0.02512378,
          0.025100141,
          0.025076501,
          0.025097514,
          0.025021341,
          0.025052861,
          0.025026595,
          0.024987195,
          0.025018715,
          0.025052861,
          0.025058114,
          0.024997702,
          0.025110647,
          0.024958302,
          0.024987195,
          0.024984569,
          0.025063368,
          0.025097514,
          0.025018715,
          0.025058114,
          0.025042355,
          0.025094887,
          0.025008208,
          0.02512378,
          0.025010835,
          0.024971435,
          0.024932036,
          0.025055488,
          0.025023968,
          0.025173686,
          0.025021341,
          0.024932036,
          0.025018715,
          0.025063368,
          0.025042355,
          0.025037101,
          0.025081754,
          0.024887383,
          0.024997702,
          0.025071248,
          0.025000328,
          0.024997702,
          0.025113274,
          0.025121154,
          0.025050234,
          0.024989822,
          0.024908396,
          0.024911023,
          0.025008208,
          0.025076501,
          0.02512378,
          0.024953049,
          0.024879503,
          0.024903143,
          0.025013462,
          0.024968809,
          0.024981942,
          0.025037101,
          0.025058114,
          0.024884756,
          0.024955676,
          0.024987195,
          0.024900516,
          0.025037101,
          0.024989822,
          0.024905769,
          0.024932036,
          0.024905769,
          0.025023968,
          0.024987195,
          0.025005582,
          0.024929409,
          0.024974062,
          0.024984569,
          0.024863743,
          0.025055488,
          0.024968809,
          0.025013462,
          0.024840103,
          0.024958302,
          0.024947796,
          0.024981942,
          0.024853237,
          0.025000328,
          0.024924156,
          0.024926783,
          0.024887383,
          0.024939916,
          0.025005582,
          0.024974062,
          0.02489001,
          0.024897889,
          0.024932036,
          0.024989822,
          0.024821717,
          0.025026595
         ],
         "yaxis": "y2"
        }
       ],
       "layout": {
        "annotations": [
         {
          "font": {
           "size": 16
          },
          "showarrow": false,
          "text": "Time (s)",
          "x": 0.5,
          "xanchor": "center",
          "xref": "paper",
          "y": 0,
          "yanchor": "top",
          "yref": "paper",
          "yshift": -30
         },
         {
          "font": {
           "size": 16
          },
          "showarrow": false,
          "text": "Fluorescence",
          "textangle": -90,
          "x": 0,
          "xanchor": "right",
          "xref": "paper",
          "xshift": -40,
          "y": 0.5,
          "yanchor": "middle",
          "yref": "paper"
         }
        ],
        "template": {
         "data": {
          "bar": [
           {
            "error_x": {
             "color": "#2a3f5f"
            },
            "error_y": {
             "color": "#2a3f5f"
            },
            "marker": {
             "line": {
              "color": "#E5ECF6",
              "width": 0.5
             },
             "pattern": {
              "fillmode": "overlay",
              "size": 10,
              "solidity": 0.2
             }
            },
            "type": "bar"
           }
          ],
          "barpolar": [
           {
            "marker": {
             "line": {
              "color": "#E5ECF6",
              "width": 0.5
             },
             "pattern": {
              "fillmode": "overlay",
              "size": 10,
              "solidity": 0.2
             }
            },
            "type": "barpolar"
           }
          ],
          "carpet": [
           {
            "aaxis": {
             "endlinecolor": "#2a3f5f",
             "gridcolor": "white",
             "linecolor": "white",
             "minorgridcolor": "white",
             "startlinecolor": "#2a3f5f"
            },
            "baxis": {
             "endlinecolor": "#2a3f5f",
             "gridcolor": "white",
             "linecolor": "white",
             "minorgridcolor": "white",
             "startlinecolor": "#2a3f5f"
            },
            "type": "carpet"
           }
          ],
          "choropleth": [
           {
            "colorbar": {
             "outlinewidth": 0,
             "ticks": ""
            },
            "type": "choropleth"
           }
          ],
          "contour": [
           {
            "colorbar": {
             "outlinewidth": 0,
             "ticks": ""
            },
            "colorscale": [
             [
              0,
              "#0d0887"
             ],
             [
              0.1111111111111111,
              "#46039f"
             ],
             [
              0.2222222222222222,
              "#7201a8"
             ],
             [
              0.3333333333333333,
              "#9c179e"
             ],
             [
              0.4444444444444444,
              "#bd3786"
             ],
             [
              0.5555555555555556,
              "#d8576b"
             ],
             [
              0.6666666666666666,
              "#ed7953"
             ],
             [
              0.7777777777777778,
              "#fb9f3a"
             ],
             [
              0.8888888888888888,
              "#fdca26"
             ],
             [
              1,
              "#f0f921"
             ]
            ],
            "type": "contour"
           }
          ],
          "contourcarpet": [
           {
            "colorbar": {
             "outlinewidth": 0,
             "ticks": ""
            },
            "type": "contourcarpet"
           }
          ],
          "heatmap": [
           {
            "colorbar": {
             "outlinewidth": 0,
             "ticks": ""
            },
            "colorscale": [
             [
              0,
              "#0d0887"
             ],
             [
              0.1111111111111111,
              "#46039f"
             ],
             [
              0.2222222222222222,
              "#7201a8"
             ],
             [
              0.3333333333333333,
              "#9c179e"
             ],
             [
              0.4444444444444444,
              "#bd3786"
             ],
             [
              0.5555555555555556,
              "#d8576b"
             ],
             [
              0.6666666666666666,
              "#ed7953"
             ],
             [
              0.7777777777777778,
              "#fb9f3a"
             ],
             [
              0.8888888888888888,
              "#fdca26"
             ],
             [
              1,
              "#f0f921"
             ]
            ],
            "type": "heatmap"
           }
          ],
          "heatmapgl": [
           {
            "colorbar": {
             "outlinewidth": 0,
             "ticks": ""
            },
            "colorscale": [
             [
              0,
              "#0d0887"
             ],
             [
              0.1111111111111111,
              "#46039f"
             ],
             [
              0.2222222222222222,
              "#7201a8"
             ],
             [
              0.3333333333333333,
              "#9c179e"
             ],
             [
              0.4444444444444444,
              "#bd3786"
             ],
             [
              0.5555555555555556,
              "#d8576b"
             ],
             [
              0.6666666666666666,
              "#ed7953"
             ],
             [
              0.7777777777777778,
              "#fb9f3a"
             ],
             [
              0.8888888888888888,
              "#fdca26"
             ],
             [
              1,
              "#f0f921"
             ]
            ],
            "type": "heatmapgl"
           }
          ],
          "histogram": [
           {
            "marker": {
             "pattern": {
              "fillmode": "overlay",
              "size": 10,
              "solidity": 0.2
             }
            },
            "type": "histogram"
           }
          ],
          "histogram2d": [
           {
            "colorbar": {
             "outlinewidth": 0,
             "ticks": ""
            },
            "colorscale": [
             [
              0,
              "#0d0887"
             ],
             [
              0.1111111111111111,
              "#46039f"
             ],
             [
              0.2222222222222222,
              "#7201a8"
             ],
             [
              0.3333333333333333,
              "#9c179e"
             ],
             [
              0.4444444444444444,
              "#bd3786"
             ],
             [
              0.5555555555555556,
              "#d8576b"
             ],
             [
              0.6666666666666666,
              "#ed7953"
             ],
             [
              0.7777777777777778,
              "#fb9f3a"
             ],
             [
              0.8888888888888888,
              "#fdca26"
             ],
             [
              1,
              "#f0f921"
             ]
            ],
            "type": "histogram2d"
           }
          ],
          "histogram2dcontour": [
           {
            "colorbar": {
             "outlinewidth": 0,
             "ticks": ""
            },
            "colorscale": [
             [
              0,
              "#0d0887"
             ],
             [
              0.1111111111111111,
              "#46039f"
             ],
             [
              0.2222222222222222,
              "#7201a8"
             ],
             [
              0.3333333333333333,
              "#9c179e"
             ],
             [
              0.4444444444444444,
              "#bd3786"
             ],
             [
              0.5555555555555556,
              "#d8576b"
             ],
             [
              0.6666666666666666,
              "#ed7953"
             ],
             [
              0.7777777777777778,
              "#fb9f3a"
             ],
             [
              0.8888888888888888,
              "#fdca26"
             ],
             [
              1,
              "#f0f921"
             ]
            ],
            "type": "histogram2dcontour"
           }
          ],
          "mesh3d": [
           {
            "colorbar": {
             "outlinewidth": 0,
             "ticks": ""
            },
            "type": "mesh3d"
           }
          ],
          "parcoords": [
           {
            "line": {
             "colorbar": {
              "outlinewidth": 0,
              "ticks": ""
             }
            },
            "type": "parcoords"
           }
          ],
          "pie": [
           {
            "automargin": true,
            "type": "pie"
           }
          ],
          "scatter": [
           {
            "marker": {
             "colorbar": {
              "outlinewidth": 0,
              "ticks": ""
             }
            },
            "type": "scatter"
           }
          ],
          "scatter3d": [
           {
            "line": {
             "colorbar": {
              "outlinewidth": 0,
              "ticks": ""
             }
            },
            "marker": {
             "colorbar": {
              "outlinewidth": 0,
              "ticks": ""
             }
            },
            "type": "scatter3d"
           }
          ],
          "scattercarpet": [
           {
            "marker": {
             "colorbar": {
              "outlinewidth": 0,
              "ticks": ""
             }
            },
            "type": "scattercarpet"
           }
          ],
          "scattergeo": [
           {
            "marker": {
             "colorbar": {
              "outlinewidth": 0,
              "ticks": ""
             }
            },
            "type": "scattergeo"
           }
          ],
          "scattergl": [
           {
            "marker": {
             "colorbar": {
              "outlinewidth": 0,
              "ticks": ""
             }
            },
            "type": "scattergl"
           }
          ],
          "scattermapbox": [
           {
            "marker": {
             "colorbar": {
              "outlinewidth": 0,
              "ticks": ""
             }
            },
            "type": "scattermapbox"
           }
          ],
          "scatterpolar": [
           {
            "marker": {
             "colorbar": {
              "outlinewidth": 0,
              "ticks": ""
             }
            },
            "type": "scatterpolar"
           }
          ],
          "scatterpolargl": [
           {
            "marker": {
             "colorbar": {
              "outlinewidth": 0,
              "ticks": ""
             }
            },
            "type": "scatterpolargl"
           }
          ],
          "scatterternary": [
           {
            "marker": {
             "colorbar": {
              "outlinewidth": 0,
              "ticks": ""
             }
            },
            "type": "scatterternary"
           }
          ],
          "surface": [
           {
            "colorbar": {
             "outlinewidth": 0,
             "ticks": ""
            },
            "colorscale": [
             [
              0,
              "#0d0887"
             ],
             [
              0.1111111111111111,
              "#46039f"
             ],
             [
              0.2222222222222222,
              "#7201a8"
             ],
             [
              0.3333333333333333,
              "#9c179e"
             ],
             [
              0.4444444444444444,
              "#bd3786"
             ],
             [
              0.5555555555555556,
              "#d8576b"
             ],
             [
              0.6666666666666666,
              "#ed7953"
             ],
             [
              0.7777777777777778,
              "#fb9f3a"
             ],
             [
              0.8888888888888888,
              "#fdca26"
             ],
             [
              1,
              "#f0f921"
             ]
            ],
            "type": "surface"
           }
          ],
          "table": [
           {
            "cells": {
             "fill": {
              "color": "#EBF0F8"
             },
             "line": {
              "color": "white"
             }
            },
            "header": {
             "fill": {
              "color": "#C8D4E3"
             },
             "line": {
              "color": "white"
             }
            },
            "type": "table"
           }
          ]
         },
         "layout": {
          "annotationdefaults": {
           "arrowcolor": "#2a3f5f",
           "arrowhead": 0,
           "arrowwidth": 1
          },
          "autotypenumbers": "strict",
          "coloraxis": {
           "colorbar": {
            "outlinewidth": 0,
            "ticks": ""
           }
          },
          "colorscale": {
           "diverging": [
            [
             0,
             "#8e0152"
            ],
            [
             0.1,
             "#c51b7d"
            ],
            [
             0.2,
             "#de77ae"
            ],
            [
             0.3,
             "#f1b6da"
            ],
            [
             0.4,
             "#fde0ef"
            ],
            [
             0.5,
             "#f7f7f7"
            ],
            [
             0.6,
             "#e6f5d0"
            ],
            [
             0.7,
             "#b8e186"
            ],
            [
             0.8,
             "#7fbc41"
            ],
            [
             0.9,
             "#4d9221"
            ],
            [
             1,
             "#276419"
            ]
           ],
           "sequential": [
            [
             0,
             "#0d0887"
            ],
            [
             0.1111111111111111,
             "#46039f"
            ],
            [
             0.2222222222222222,
             "#7201a8"
            ],
            [
             0.3333333333333333,
             "#9c179e"
            ],
            [
             0.4444444444444444,
             "#bd3786"
            ],
            [
             0.5555555555555556,
             "#d8576b"
            ],
            [
             0.6666666666666666,
             "#ed7953"
            ],
            [
             0.7777777777777778,
             "#fb9f3a"
            ],
            [
             0.8888888888888888,
             "#fdca26"
            ],
            [
             1,
             "#f0f921"
            ]
           ],
           "sequentialminus": [
            [
             0,
             "#0d0887"
            ],
            [
             0.1111111111111111,
             "#46039f"
            ],
            [
             0.2222222222222222,
             "#7201a8"
            ],
            [
             0.3333333333333333,
             "#9c179e"
            ],
            [
             0.4444444444444444,
             "#bd3786"
            ],
            [
             0.5555555555555556,
             "#d8576b"
            ],
            [
             0.6666666666666666,
             "#ed7953"
            ],
            [
             0.7777777777777778,
             "#fb9f3a"
            ],
            [
             0.8888888888888888,
             "#fdca26"
            ],
            [
             1,
             "#f0f921"
            ]
           ]
          },
          "colorway": [
           "#636efa",
           "#EF553B",
           "#00cc96",
           "#ab63fa",
           "#FFA15A",
           "#19d3f3",
           "#FF6692",
           "#B6E880",
           "#FF97FF",
           "#FECB52"
          ],
          "font": {
           "color": "#2a3f5f"
          },
          "geo": {
           "bgcolor": "white",
           "lakecolor": "white",
           "landcolor": "#E5ECF6",
           "showlakes": true,
           "showland": true,
           "subunitcolor": "white"
          },
          "hoverlabel": {
           "align": "left"
          },
          "hovermode": "closest",
          "mapbox": {
           "style": "light"
          },
          "paper_bgcolor": "white",
          "plot_bgcolor": "#E5ECF6",
          "polar": {
           "angularaxis": {
            "gridcolor": "white",
            "linecolor": "white",
            "ticks": ""
           },
           "bgcolor": "#E5ECF6",
           "radialaxis": {
            "gridcolor": "white",
            "linecolor": "white",
            "ticks": ""
           }
          },
          "scene": {
           "xaxis": {
            "backgroundcolor": "#E5ECF6",
            "gridcolor": "white",
            "gridwidth": 2,
            "linecolor": "white",
            "showbackground": true,
            "ticks": "",
            "zerolinecolor": "white"
           },
           "yaxis": {
            "backgroundcolor": "#E5ECF6",
            "gridcolor": "white",
            "gridwidth": 2,
            "linecolor": "white",
            "showbackground": true,
            "ticks": "",
            "zerolinecolor": "white"
           },
           "zaxis": {
            "backgroundcolor": "#E5ECF6",
            "gridcolor": "white",
            "gridwidth": 2,
            "linecolor": "white",
            "showbackground": true,
            "ticks": "",
            "zerolinecolor": "white"
           }
          },
          "shapedefaults": {
           "line": {
            "color": "#2a3f5f"
           }
          },
          "ternary": {
           "aaxis": {
            "gridcolor": "white",
            "linecolor": "white",
            "ticks": ""
           },
           "baxis": {
            "gridcolor": "white",
            "linecolor": "white",
            "ticks": ""
           },
           "bgcolor": "#E5ECF6",
           "caxis": {
            "gridcolor": "white",
            "linecolor": "white",
            "ticks": ""
           }
          },
          "title": {
           "x": 0.05
          },
          "xaxis": {
           "automargin": true,
           "gridcolor": "white",
           "linecolor": "white",
           "ticks": "",
           "title": {
            "standoff": 15
           },
           "zerolinecolor": "white",
           "zerolinewidth": 2
          },
          "yaxis": {
           "automargin": true,
           "gridcolor": "white",
           "linecolor": "white",
           "ticks": "",
           "title": {
            "standoff": 15
           },
           "zerolinecolor": "white",
           "zerolinewidth": 2
          }
         }
        },
        "title": {
         "text": "Raw Traces from all channels for animal number 1 on today at 1:20"
        },
        "xaxis": {
         "anchor": "y",
         "domain": [
          0,
          0.45
         ]
        },
        "xaxis2": {
         "anchor": "y2",
         "domain": [
          0.55,
          1
         ]
        },
        "yaxis": {
         "anchor": "x",
         "domain": [
          0,
          1
         ]
        },
        "yaxis2": {
         "anchor": "x2",
         "domain": [
          0,
          1
         ]
        }
       }
      },
      "text/html": [
       "<div>                            <div id=\"5d16cf98-b2d2-4f44-9e6b-d00c51677f1e\" class=\"plotly-graph-div\" style=\"height:525px; width:100%;\"></div>            <script type=\"text/javascript\">                require([\"plotly\"], function(Plotly) {                    window.PLOTLYENV=window.PLOTLYENV || {};                                    if (document.getElementById(\"5d16cf98-b2d2-4f44-9e6b-d00c51677f1e\")) {                    Plotly.newPlot(                        \"5d16cf98-b2d2-4f44-9e6b-d00c51677f1e\",                        [{\"line\":{\"color\":\"Green\"},\"mode\":\"lines\",\"name\":\"f1Green\",\"showlegend\":false,\"text\":\"f1Green\",\"x\":[1.6717099999987113,1.6883899999993446,1.7050299999973504,1.7216999999982363,1.7383699999991222,1.7550400000000081,1.771679999998014,1.7883499999988999,1.8050299999995332,1.821669999997539,1.838339999998425,1.8550099999993108,1.8716799999965588,1.8883199999982025,1.9049899999990885,1.9216699999997218,1.9383099999977276,1.9549799999986135,1.9716499999994994,1.9882899999975052,2.004959999998391,2.021629999999277,2.038269999997283,2.054949999997916,2.071619999998802,2.088259999996808,2.104929999997694,2.1215999999985797,2.1382399999965855,2.1549099999974715,2.1715899999981048,2.1882299999997485,2.2048999999969965,2.2215699999978824,2.238209999999526,2.254879999996774,2.27154999999766,2.2882299999982934,2.304869999999937,2.321539999997185,2.338209999998071,2.354849999999715,2.3715199999969627,2.3881899999978486,2.4048299999994924,2.4215099999964877,2.4381799999973737,2.4548499999982596,2.4714899999999034,2.488129999997909,2.504799999998795,2.521439999996801,2.538109999997687,2.55478999999832,2.571429999999964,2.588099999997212,2.6047699999980978,2.6214099999997416,2.6380799999969895,2.6547499999978754,2.671389999999519,2.6880699999965145,2.7047399999974004,2.7214099999982864,2.73804999999993,2.754719999997178,2.771389999998064,2.788029999999708,2.804709999996703,2.821379999997589,2.838019999999233,2.8546899999964808,2.8713599999973667,2.8880299999982526,2.9046699999998964,2.9213499999968917,2.9380199999977776,2.9546599999994214,2.9713299999966694,2.9879999999975553,3.004639999999199,3.021310000000085,3.0379899999970803,3.054629999998724,3.07129999999961,3.087969999996858,3.1046099999985017,3.1212799999993877,3.1379499999966356,3.1545899999982794,3.1712699999989127,3.1879399999997986,3.2046099999970465,3.2212499999986903,3.2379199999995762,3.254589999996824,3.271229999998468,3.2879099999991013,3.304579999999987,3.321219999997993,3.337889999998879,3.354559999999765,3.3711999999977706,3.3878699999986566,3.40454999999929,3.4211899999972957,3.4378599999981816,3.4545299999990675,3.4711699999970733,3.4878399999979592,3.504509999998845,3.521149999996851,3.5378299999974843,3.55449999999837,3.571169999999256,3.587809999997262,3.604479999998148,3.6211499999990338,3.637829999999667,3.654469999997673,3.671139999998559,3.6878099999994447,3.7044499999974505,3.7211199999983364,3.737829999998212,3.754429999997228,3.7711099999978615,3.7878099999979895,3.804419999996753,3.821089999997639,3.837759999998525,3.854399999996531,3.8710699999974167,3.88774999999805,3.904389999999694,3.9210599999969418,3.9377299999978277,3.9543699999994715,3.9710399999967194,3.9877099999976053,4.004349999999249,4.021029999999882,4.03769999999713,4.054369999998016,4.07100999999966,4.087679999996908,4.104349999997794,4.120989999999438,4.137670000000071,4.154339999997319,4.170979999998963,4.187649999999849,4.204319999997097,4.22095999999874,4.237629999999626,4.254309999996622,4.270949999998265,4.287619999999151,4.304290000000037,4.320929999998043,4.337599999998929,4.354269999999815,4.37094999999681,4.387589999998454,4.40425999999934,4.420929999996588,4.437569999998232,4.454239999999118,4.4709100000000035,4.487549999998009,4.504229999998643,4.5208999999995285,4.5375699999967765,4.55420999999842,4.570879999999306,4.587549999996554,4.604189999998198,4.620869999998831,4.637539999999717,4.654179999997723,4.670849999998609,4.687519999999495,4.704159999997501,4.7208299999983865,4.73750999999902,4.754149999997026,4.7708199999979115,4.787489999998797,4.804159999999683,4.820799999997689,4.837469999998575,4.854149999999208,4.870789999997214,4.8874599999981,4.904129999998986,4.920769999996992,4.937439999997878,4.954109999998764,4.9707499999967695,4.987429999997403,5.004099999998289,5.020769999999175,5.03740999999718,5.054079999998066,5.070749999998952,5.087389999996958,5.104069999997591,5.120739999998477,5.137379999996483,5.154049999997369,5.170719999998255,5.187359999999899,5.204029999997147,5.22070999999778,5.237349999999424,5.254019999996672,5.270689999997558,5.287329999999201,5.304000000000087,5.320669999997335,5.337309999998979,5.353989999999612,5.37065999999686,5.387299999998504,5.40396999999939,5.420639999996638,5.437309999997524,5.453989999998157,5.470629999999801,5.487299999997049,5.503939999998693,5.520609999999579],\"y\":[0.087913768,0.088345984,0.088356525,0.088477757,0.088562092,0.08826692,0.088251107,0.088259013,0.088461944,0.088796648,0.088448767,0.088409235,0.088085073,0.088132511,0.088335442,0.088003373,0.088013915,0.088116698,0.088066624,0.087776724,0.087328695,0.08724436,0.087341872,0.087391946,0.08727335,0.087041429,0.087030888,0.086983449,0.087228547,0.087489458,0.087378769,0.087465739,0.086880666,0.087041429,0.087254902,0.08747101,0.087552709,0.08741303,0.087600148,0.087513177,0.087260173,0.087220641,0.087175838,0.087291798,0.087418301,0.087394581,0.087086232,0.086862218,0.08709941,0.087260173,0.08738404,0.087484187,0.087210099,0.087323424,0.087051971,0.087146848,0.086846405,0.086725174,0.086880666,0.086680371,0.086885937,0.086817415,0.087007168,0.087102045,0.087254902,0.087426207,0.08735505,0.087347143,0.086996627,0.087476281,0.087905861,0.087866329,0.0878716,0.087518448,0.087550074,0.08772665,0.087671305,0.087610689,0.08778463,0.087629138,0.087486823,0.087410394,0.087344508,0.087531626,0.087568522,0.087776724,0.087473645,0.087007168,0.087065149,0.086809509,0.087044065,0.086993991,0.086978178,0.08670409,0.086387835,0.086324584,0.08639047,0.086300864,0.086295594,0.086680371,0.086593401,0.086596036,0.087033523,0.087136306,0.08747101,0.087552709,0.087333966,0.087207464,0.087170567,0.087320789,0.087386675,0.087291798,0.087225912,0.087299705,0.086949188,0.08709941,0.087033523,0.087120493,0.087199557,0.087347143,0.086833228,0.086709361,0.086596036,0.086949188,0.086622391,0.086880666,0.086590765,0.086401012,0.085858107,0.085881826,0.086148008,0.086524879,0.086701455,0.086535421,0.08639047,0.08653015,0.086756799,0.086751529,0.086775248,0.086667194,0.086553869,0.086161185,0.085945077,0.085997786,0.086171727,0.086013599,0.085913451,0.085620915,0.085779043,0.085847565,0.085752688,0.085715792,0.085765865,0.086182269,0.086195446,0.086263968,0.086261332,0.085966161,0.086029412,0.086256062,0.086061037,0.085884461,0.085815939,0.085921358,0.086398377,0.086540692,0.086353574,0.086208623,0.086321948,0.086487982,0.086443179,0.086440544,0.086804238,0.08653015,0.0859319,0.085779043,0.085979338,0.086474805,0.086195446,0.086253426,0.086372022,0.086097934,0.086208623,0.086358845,0.086385199,0.086261332,0.086693548,0.086622391,0.086271874,0.0858502,0.086184904,0.086208623,0.086087392,0.086021505,0.086058402,0.086026776,0.086169091,0.086016234,0.08579222,0.085839658,0.085731604,0.085475965,0.085341556,0.085428526,0.085823846,0.085852836,0.085510226,0.085628821,0.085215054,0.085663082,0.085694708,0.085489142,0.085670989,0.085829117,0.085974067,0.08579222,0.085702614,0.085797491,0.085718427,0.08613483,0.086569682,0.085863378,0.085781678,0.085818575,0.086013599,0.086184904,0.086208623,0.086050495,0.086082121,0.086329855,0.086308771,0.086424731],\"type\":\"scatter\",\"xaxis\":\"x\",\"yaxis\":\"y\"},{\"line\":{\"color\":\"Cyan\"},\"mode\":\"lines\",\"name\":\"green_iso\",\"showlegend\":false,\"text\":\"green_iso\",\"x\":[1.6828199999981734,1.6994899999990594,1.7161599999999453,1.732799999997951,1.749469999998837,1.7661499999994703,1.7828199999967183,1.799459999998362,1.816129999999248,1.832799999996496,1.8494399999981397,1.8661099999990256,1.882789999999659,1.8994299999976647,1.9160999999985506,1.9327699999994365,1.9494099999974424,1.9660799999983283,1.9827499999992142,1.99938999999722,2.0160699999978533,2.0327399999987392,2.049379999996745,2.066049999997631,2.082719999998517,2.0993599999965227,2.1160299999974086,2.132709999998042,2.149379999998928,2.1660199999969336,2.1826899999978195,2.1993599999987055,2.2159999999967113,2.232669999997597,2.2493499999982305,2.2660199999991164,2.282659999997122,2.299329999998008,2.315999999998894,2.3326399999969,2.349309999997786,2.365989999998419,2.382630000000063,2.399299999997311,2.4159699999981967,2.4326099999998405,2.4492799999970885,2.4659499999979744,2.482559999996738,2.499229999997624,2.5159099999982573,2.532549999999901,2.549219999997149,2.565889999998035,2.5825299999996787,2.5991999999969266,2.6158699999978126,2.6325099999994563,2.6491900000000896,2.6658599999973376,2.6824999999989814,2.6991699999998673,2.7158399999971152,2.732509999998001,2.749149999999645,2.7658299999966403,2.782499999997526,2.79913999999917,2.815810000000056,2.832479999997304,2.8491199999989476,2.865829999998823,2.882469999996829,2.8991399999977148,2.9158099999986007,2.9324499999966065,2.9491199999974924,2.965829999997368,2.982430000000022,2.9991099999970174,3.0158099999971455,3.032419999999547,3.049089999996795,3.065729999998439,3.082399999999325,3.0990699999965727,3.1157099999982165,3.13238999999885,3.1490599999997357,3.1657299999969837,3.1823699999986275,3.1990399999995134,3.2157099999967613,3.232349999998405,3.2490299999990384,3.2656999999999243,3.28233999999793,3.299009999998816,3.315679999999702,3.332319999997708,3.3489899999985937,3.365669999999227,3.382309999997233,3.3989799999981187,3.4156499999990046,3.4322899999970105,3.4489599999978964,3.4656299999987823,3.4823099999994156,3.4989499999974214,3.5156199999983073,3.5322899999991932,3.548929999997199,3.565599999998085,3.582269999998971,3.5989099999969767,3.61558999999761,3.632259999998496,3.648929999999382,3.6655699999973876,3.6822399999982736,3.6989099999991595,3.7155499999971653,3.7322299999977986,3.7488999999986845,3.7655399999966903,3.7822099999975762,3.798879999998462,3.815520000000106,3.832189999997354,3.848869999997987,3.865509999999631,3.882179999996879,3.898849999997765,3.9154899999994086,3.9321599999966566,3.9488299999975425,3.9654699999991863,3.9821499999998196,3.9988199999970675,4.015489999997953,4.032129999999597,4.048799999996845,4.065469999997731,4.082149999998364,4.098790000000008,4.115459999997256,4.132129999998142,4.148769999999786,4.165439999997034,4.18210999999792,4.198749999999563,4.215429999996559,4.232099999997445,4.2487399999990885,4.265409999999974,4.282079999997222,4.298719999998866,4.315389999999752,4.332069999996747,4.348709999998391,4.365379999999277,4.382049999996525,4.398689999998169,4.415359999999055,4.432029999999941,4.448669999997946,4.46534999999858,4.482019999999466,4.4986599999974715,4.515329999998357,4.531999999999243,4.548669999996491,4.565309999998135,4.581989999998768,4.598659999999654,4.61529999999766,4.631969999998546,4.648639999999432,4.665279999997438,4.681949999998324,4.698629999998957,4.715269999996963,4.731939999997849,4.748609999998735,4.76524999999674,4.781919999997626,4.798589999998512,4.8152699999991455,4.831909999997151,4.848579999998037,4.865249999998923,4.881889999996929,4.898559999997815,4.915229999998701,4.931869999996707,4.94854999999734,4.965219999998226,4.981889999999112,4.998529999997118,5.0151999999980035,5.031869999998889,5.048509999996895,5.0651899999975285,5.081859999998414,5.098500000000058,5.115169999997306,5.131839999998192,5.148479999999836,5.165149999997084,5.181829999997717,5.198469999999361,5.215139999996609,5.231809999997495,5.2484499999991385,5.2651200000000244,5.2818299999999,5.298429999998916,5.3151099999995495,5.3318099999996775,5.348419999998441,5.365089999999327,5.381829999998445,5.398429999997461,5.415069999999105,5.431749999999738,5.448419999996986,5.46505999999863,5.481729999999516,5.498399999996764,5.51506999999765,5.531709999999293],\"y\":[0.093158339,0.093269028,0.093440333,0.093551023,0.093464052,0.093208412,0.093097723,0.093545752,0.093875184,0.09362218,0.093590555,0.093295383,0.092942231,0.093034472,0.092799916,0.093058191,0.093255851,0.093408708,0.093018659,0.092515286,0.092386148,0.092686591,0.092847354,0.092863167,0.092918511,0.092449399,0.092560089,0.092565359,0.092947502,0.093047649,0.092976492,0.092462576,0.092206937,0.092694497,0.092902699,0.093016024,0.09325058,0.09350622,0.093442969,0.09293696,0.092604891,0.092678684,0.092705039,0.093063462,0.093100358,0.092723487,0.092325532,0.092088341,0.092235927,0.09287898,0.093050285,0.093010753,0.092365064,0.092415138,0.092346616,0.092201666,0.092249104,0.092444128,0.092523192,0.09245467,0.092156863,0.092249104,0.092491567,0.092536369,0.092873709,0.092773561,0.092172676,0.092006641,0.092301813,0.092554818,0.092926418,0.093200506,0.092481025,0.092362429,0.092752477,0.092649694,0.09282627,0.093084546,0.092952773,0.092586443,0.092438857,0.092560089,0.092620704,0.092805187,0.093087181,0.09279728,0.092188488,0.092233291,0.092388783,0.092470483,0.092823635,0.09271031,0.092249104,0.091851149,0.091766814,0.091837972,0.091766814,0.091946026,0.092420409,0.092254375,0.092164769,0.092499473,0.092794645,0.092968585,0.093290112,0.093092452,0.092407232,0.092417774,0.092628611,0.092913241,0.093095087,0.093174151,0.093155703,0.092328168,0.092098883,0.092233291,0.092834177,0.092763019,0.093126713,0.092504744,0.091946026,0.091911765,0.092085705,0.092138415,0.092061986,0.092064622,0.091669302,0.091144845,0.091139574,0.091479549,0.091953932,0.092243833,0.092346616,0.091938119,0.091893316,0.091861691,0.09217004,0.092209572,0.092072528,0.092233291,0.091606051,0.091476913,0.091308244,0.091664031,0.09182743,0.091664031,0.091492726,0.091305608,0.091461101,0.091627135,0.091632406,0.091674573,0.092098883,0.091869597,0.091777356,0.091695657,0.091777356,0.091603416,0.091832701,0.092138415,0.0919144,0.091461101,0.091608686,0.091901223,0.092267552,0.092444128,0.091980287,0.091816888,0.092030361,0.092177946,0.092220114,0.092098883,0.092420409,0.09160078,0.09134514,0.091395214,0.091848514,0.092051444,0.091922307,0.09233871,0.091777356,0.091961838,0.091851149,0.091874868,0.091948661,0.092101518,0.092275459,0.091679844,0.09128716,0.091627135,0.091845878,0.091851149,0.091764179,0.091951297,0.091693021,0.091990829,0.092038267,0.091882775,0.091640312,0.091832701,0.091337234,0.091097407,0.091126397,0.091447923,0.091835336,0.091474278,0.091806346,0.091234451,0.09137413,0.091674573,0.091350411,0.091708834,0.091693021,0.091919671,0.091656125,0.09122918,0.091505903,0.091592874,0.091350411,0.091930213,0.091619228,0.091121126,0.090870757,0.091347776,0.091582332,0.09143211,0.091656125,0.091437381,0.091155387,0.091123761,0.091458465,0.091400485],\"type\":\"scatter\",\"xaxis\":\"x\",\"yaxis\":\"y\"},{\"line\":{\"color\":\"Red\"},\"mode\":\"lines\",\"name\":\"f1Red\",\"showlegend\":false,\"text\":\"f1Red\",\"x\":[1.6772799999998824,1.6939499999971304,1.7105899999987741,1.7272699999994074,1.7439399999966554,1.7605799999982992,1.777249999999185,1.793920000000071,1.8105599999980768,1.8272299999989627,1.843909999999596,1.8605499999976018,1.8772199999984878,1.8938899999993737,1.9105299999973795,1.9271999999982654,1.9438699999991513,1.9605099999971571,1.9771899999977904,1.9938599999986764,2.0105299999995623,2.027169999997568,2.043839999998454,2.06050999999934,2.0771499999973457,2.093859999997221,2.110499999998865,2.1271399999968708,2.143839999996999,2.1604799999986426,2.1771199999966484,2.193859999999404,2.2104699999981676,2.2271099999998114,2.2437799999970593,2.2604499999979453,2.277119999998831,2.293759999996837,2.310429999997723,2.327109999998356,2.34375,2.360419999997248,2.377089999998134,2.3937299999997776,2.4103999999970256,2.4270699999979115,2.4437099999995553,2.4603899999965506,2.4770299999981944,2.493669999999838,2.510339999997086,2.527009999997972,2.543649999999616,2.5603199999968638,2.5769899999977497,2.593669999998383,2.6103100000000268,2.6269799999972747,2.6436499999981606,2.6602899999998044,2.6769599999970524,2.6936299999979383,2.710269999999582,2.7269499999965774,2.7436199999974633,2.7602899999983492,2.776929999999993,2.793599999997241,2.810269999998127,2.8269099999997707,2.843589999996766,2.860259999997652,2.8768999999992957,2.8935699999965436,2.9102399999974295,2.9268799999990733,2.9435499999999593,2.9602299999969546,2.9768699999985984,2.9935399999994843,3.010209999996732,3.026849999998376,3.043519999999262,3.06018999999651,3.0768299999981537,3.093509999998787,3.110179999999673,3.1268199999976787,3.1434899999985646,3.1601599999994505,3.1768299999966985,3.1934699999983422,3.2101499999989755,3.2268199999998615,3.2434599999978673,3.260129999998753,3.276799999999639,3.293439999997645,3.310109999998531,3.326789999999164,3.34346000000005,3.360099999998056,3.376769999998942,3.3934399999998277,3.4100799999978335,3.4267499999987194,3.4434299999993527,3.4600999999966007,3.4767399999982445,3.4934099999991304,3.510049999997136,3.526719999998022,3.543389999998908,3.5600699999995413,3.576709999997547,3.593379999998433,3.610049999999319,3.6266899999973248,3.6433599999982107,3.6600299999990966,3.6766699999971024,3.6933499999977357,3.7100199999986216,3.7266599999966274,3.7433299999975134,3.7599999999983993,3.776640000000043,3.793309999997291,3.8099899999979243,3.826629999999568,3.843299999996816,3.859969999997702,3.8766099999993457,3.8932799999965937,3.9099499999974796,3.926629999998113,3.9432699999997567,3.9599399999970046,3.9766099999978906,3.9932499999995343,4.009919999996782,4.026589999997668,4.043229999999312,4.059909999999945,4.076579999997193,4.093249999998079,4.109889999999723,4.126559999996971,4.143229999997857,4.159869999999501,4.176549999996496,4.193219999997382,4.209859999999026,4.2265299999999115,4.2431999999971595,4.259839999998803,4.276509999999689,4.2931899999966845,4.30985999999757,4.326499999999214,4.3431700000001,4.359839999997348,4.376479999998992,4.393149999999878,4.409829999996873,4.426469999998517,4.443139999999403,4.459809999996651,4.4764499999982945,4.49311999999918,4.509829999999056,4.526429999998072,4.5431099999987055,4.5598099999988335,4.576419999997597,4.593089999998483,4.609829999997601,4.626399999997375,4.643069999998261,4.659749999998894,4.67641999999978,4.693059999997786,4.709729999998672,4.726399999999558,4.743039999997563,4.759709999998449,4.776389999999083,4.7930299999970885,4.809699999997974,4.82636999999886,4.843009999996866,4.859679999997752,4.876349999998638,4.892989999996644,4.909669999997277,4.926339999998163,4.942979999999807,4.959649999997055,4.976319999997941,4.9929899999988265,5.009629999996832,5.026309999997466,5.042979999998352,5.059619999999995,5.076289999997243,5.092959999998129,5.109599999999773,5.126269999997021,5.142949999997654,5.159589999999298,5.176259999996546,5.192929999997432,5.209569999999076,5.226239999999962,5.2429099999972095,5.259589999997843,5.276229999999487,5.2928999999967346,5.3095699999976205,5.326209999999264,5.342879999996512,5.359549999997398,5.376189999999042,5.392869999999675,5.409539999996923,5.426209999997809,5.442849999999453,5.459519999996701,5.476189999997587,5.4928299999992305,5.509509999999864,5.526179999997112],\"y\":[0.012912546,0.012899413,0.012904666,0.01285476,0.012867893,0.012925679,0.012875773,0.012925679,0.01289416,0.012899413,0.012820614,0.012962452,0.012904666,0.012904666,0.012860013,0.012904666,0.012833747,0.01288628,0.012891533,0.01288628,0.012833747,0.012875773,0.012907293,0.01286264,0.012944066,0.012883653,0.012923053,0.01290204,0.012972959,0.012888906,0.012881026,0.012896786,0.012915173,0.012865267,0.012917799,0.012941439,0.012917799,0.012991345,0.012923053,0.012925679,0.012941439,0.012896786,0.013014985,0.012896786,0.012954572,0.012896786,0.012920426,0.0128784,0.012857387,0.012883653,0.012907293,0.01286264,0.012867893,0.012852133,0.012899413,0.012867893,0.012909919,0.012909919,0.012957199,0.01289416,0.012920426,0.01288628,0.012881026,0.012875773,0.012828494,0.012946692,0.012891533,0.01287052,0.012915173,0.012957199,0.012938812,0.01288628,0.012983465,0.012873147,0.012986092,0.012962452,0.012807481,0.01284688,0.012912546,0.012836374,0.012930933,0.012852133,0.012875773,0.012833747,0.012915173,0.012891533,0.012909919,0.01288628,0.012891533,0.012899413,0.012857387,0.012891533,0.01287052,0.012860013,0.012849507,0.0128784,0.0128784,0.012938812,0.012867893,0.012789094,0.012865267,0.0128784,0.012946692,0.012825867,0.01282324,0.01289416,0.012836374,0.012867893,0.012936186,0.01288628,0.012912546,0.012817987,0.012857387,0.012909919,0.012957199,0.012920426,0.01289416,0.012928306,0.01288628,0.012896786,0.012875773,0.012923053,0.012841627,0.01285476,0.012920426,0.012875773,0.012820614,0.01288628,0.012891533,0.012970332,0.012896786,0.01288628,0.012839,0.012909919,0.01287052,0.012867893,0.012841627,0.012820614,0.01287052,0.012860013,0.012875773,0.01290204,0.012844254,0.012904666,0.01283112,0.012807481,0.01286264,0.01283112,0.012812734,0.01287052,0.01288628,0.012825867,0.0128784,0.012841627,0.012857387,0.01283112,0.01286264,0.012923053,0.01284688,0.01288628,0.012881026,0.012867893,0.012865267,0.012852133,0.012915173,0.012783841,0.012949319,0.012807481,0.012839,0.012875773,0.012912546,0.012825867,0.012883653,0.012883653,0.012825867,0.012852133,0.01288628,0.012891533,0.012888906,0.013028118,0.012849507,0.012852133,0.012860013,0.01284688,0.012844254,0.01285476,0.012849507,0.012875773,0.012883653,0.012920426,0.012881026,0.012828494,0.01288628,0.0128784,0.012865267,0.012757575,0.012752321,0.012867893,0.012841627,0.012865267,0.012857387,0.012865267,0.012783841,0.012781214,0.012825867,0.012825867,0.012891533,0.012833747,0.01285476,0.012875773,0.012891533,0.012896786,0.0128784,0.012844254,0.012883653,0.012841627,0.01287052,0.012852133,0.012799601,0.012896786,0.012836374,0.012907293,0.012951946,0.012891533,0.01290204,0.012844254,0.01283112,0.012860013,0.01282324,0.012828494,0.0128784,0.01288628],\"type\":\"scatter\",\"xaxis\":\"x2\",\"yaxis\":\"y2\"},{\"line\":{\"color\":\"Violet\"},\"mode\":\"lines\",\"name\":\"red_iso\",\"showlegend\":false,\"text\":\"red_iso\",\"x\":[1.6828199999981734,1.6994899999990594,1.7161599999999453,1.732799999997951,1.749469999998837,1.7661499999994703,1.7828199999967183,1.799459999998362,1.816129999999248,1.832799999996496,1.8494399999981397,1.8661099999990256,1.882789999999659,1.8994299999976647,1.9160999999985506,1.9327699999994365,1.9494099999974424,1.9660799999983283,1.9827499999992142,1.99938999999722,2.0160699999978533,2.0327399999987392,2.049379999996745,2.066049999997631,2.082719999998517,2.0993599999965227,2.1160299999974086,2.132709999998042,2.149379999998928,2.1660199999969336,2.1826899999978195,2.1993599999987055,2.2159999999967113,2.232669999997597,2.2493499999982305,2.2660199999991164,2.282659999997122,2.299329999998008,2.315999999998894,2.3326399999969,2.349309999997786,2.365989999998419,2.382630000000063,2.399299999997311,2.4159699999981967,2.4326099999998405,2.4492799999970885,2.4659499999979744,2.482559999996738,2.499229999997624,2.5159099999982573,2.532549999999901,2.549219999997149,2.565889999998035,2.5825299999996787,2.5991999999969266,2.6158699999978126,2.6325099999994563,2.6491900000000896,2.6658599999973376,2.6824999999989814,2.6991699999998673,2.7158399999971152,2.732509999998001,2.749149999999645,2.7658299999966403,2.782499999997526,2.79913999999917,2.815810000000056,2.832479999997304,2.8491199999989476,2.865829999998823,2.882469999996829,2.8991399999977148,2.9158099999986007,2.9324499999966065,2.9491199999974924,2.965829999997368,2.982430000000022,2.9991099999970174,3.0158099999971455,3.032419999999547,3.049089999996795,3.065729999998439,3.082399999999325,3.0990699999965727,3.1157099999982165,3.13238999999885,3.1490599999997357,3.1657299999969837,3.1823699999986275,3.1990399999995134,3.2157099999967613,3.232349999998405,3.2490299999990384,3.2656999999999243,3.28233999999793,3.299009999998816,3.315679999999702,3.332319999997708,3.3489899999985937,3.365669999999227,3.382309999997233,3.3989799999981187,3.4156499999990046,3.4322899999970105,3.4489599999978964,3.4656299999987823,3.4823099999994156,3.4989499999974214,3.5156199999983073,3.5322899999991932,3.548929999997199,3.565599999998085,3.582269999998971,3.5989099999969767,3.61558999999761,3.632259999998496,3.648929999999382,3.6655699999973876,3.6822399999982736,3.6989099999991595,3.7155499999971653,3.7322299999977986,3.7488999999986845,3.7655399999966903,3.7822099999975762,3.798879999998462,3.815520000000106,3.832189999997354,3.848869999997987,3.865509999999631,3.882179999996879,3.898849999997765,3.9154899999994086,3.9321599999966566,3.9488299999975425,3.9654699999991863,3.9821499999998196,3.9988199999970675,4.015489999997953,4.032129999999597,4.048799999996845,4.065469999997731,4.082149999998364,4.098790000000008,4.115459999997256,4.132129999998142,4.148769999999786,4.165439999997034,4.18210999999792,4.198749999999563,4.215429999996559,4.232099999997445,4.2487399999990885,4.265409999999974,4.282079999997222,4.298719999998866,4.315389999999752,4.332069999996747,4.348709999998391,4.365379999999277,4.382049999996525,4.398689999998169,4.415359999999055,4.432029999999941,4.448669999997946,4.46534999999858,4.482019999999466,4.4986599999974715,4.515329999998357,4.531999999999243,4.548669999996491,4.565309999998135,4.581989999998768,4.598659999999654,4.61529999999766,4.631969999998546,4.648639999999432,4.665279999997438,4.681949999998324,4.698629999998957,4.715269999996963,4.731939999997849,4.748609999998735,4.76524999999674,4.781919999997626,4.798589999998512,4.8152699999991455,4.831909999997151,4.848579999998037,4.865249999998923,4.881889999996929,4.898559999997815,4.915229999998701,4.931869999996707,4.94854999999734,4.965219999998226,4.981889999999112,4.998529999997118,5.0151999999980035,5.031869999998889,5.048509999996895,5.0651899999975285,5.081859999998414,5.098500000000058,5.115169999997306,5.131839999998192,5.148479999999836,5.165149999997084,5.181829999997717,5.198469999999361,5.215139999996609,5.231809999997495,5.2484499999991385,5.2651200000000244,5.2818299999999,5.298429999998916,5.3151099999995495,5.3318099999996775,5.348419999998441,5.365089999999327,5.381829999998445,5.398429999997461,5.415069999999105,5.431749999999738,5.448419999996986,5.46505999999863,5.481729999999516,5.498399999996764,5.51506999999765,5.531709999999293],\"y\":[0.025291885,0.025284005,0.025291885,0.025347044,0.025328658,0.025278752,0.025202579,0.025320778,0.025291885,0.025268245,0.025223592,0.025202579,0.025265619,0.025234099,0.025284005,0.025265619,0.02518682,0.025291885,0.025202579,0.025249859,0.025286632,0.025239352,0.025134287,0.025184193,0.025205206,0.025223592,0.025192073,0.025226219,0.025168433,0.025276125,0.025270872,0.025239352,0.025031848,0.025220966,0.025220966,0.025252485,0.025333911,0.025189446,0.025320778,0.025320778,0.025228846,0.025205206,0.025262992,0.025257739,0.025244606,0.025226219,0.025079127,0.025160553,0.02517106,0.025273499,0.025202579,0.025228846,0.0251553,0.02514742,0.02517106,0.025205206,0.025226219,0.025160553,0.025168433,0.025113274,0.025060741,0.025197326,0.025055488,0.025202579,0.025234099,0.025152673,0.025165806,0.025094887,0.025150047,0.025302392,0.025181566,0.025252485,0.025126407,0.025071248,0.025213086,0.025199953,0.02512378,0.025228846,0.025165806,0.02510802,0.025092261,0.025160553,0.025205206,0.025097514,0.025286632,0.025205206,0.025113274,0.025071248,0.025081754,0.02513166,0.025194699,0.025241979,0.025079127,0.02512378,0.024989822,0.025071248,0.025060741,0.025052861,0.025173686,0.025058114,0.02510802,0.025010835,0.025042355,0.025220966,0.025181566,0.0251553,0.025042355,0.025105394,0.025055488,0.0251553,0.025257739,0.025249859,0.025210459,0.025002955,0.025044981,0.025113274,0.025215713,0.025247232,0.025260365,0.025160553,0.025005582,0.025047608,0.02517894,0.025094887,0.025002955,0.025079127,0.024968809,0.024945169,0.024926783,0.024989822,0.024984569,0.025176313,0.025034475,0.025026595,0.025026595,0.024984569,0.02512378,0.025100141,0.025076501,0.025097514,0.025021341,0.025052861,0.025026595,0.024987195,0.025018715,0.025052861,0.025058114,0.024997702,0.025110647,0.024958302,0.024987195,0.024984569,0.025063368,0.025097514,0.025018715,0.025058114,0.025042355,0.025094887,0.025008208,0.02512378,0.025010835,0.024971435,0.024932036,0.025055488,0.025023968,0.025173686,0.025021341,0.024932036,0.025018715,0.025063368,0.025042355,0.025037101,0.025081754,0.024887383,0.024997702,0.025071248,0.025000328,0.024997702,0.025113274,0.025121154,0.025050234,0.024989822,0.024908396,0.024911023,0.025008208,0.025076501,0.02512378,0.024953049,0.024879503,0.024903143,0.025013462,0.024968809,0.024981942,0.025037101,0.025058114,0.024884756,0.024955676,0.024987195,0.024900516,0.025037101,0.024989822,0.024905769,0.024932036,0.024905769,0.025023968,0.024987195,0.025005582,0.024929409,0.024974062,0.024984569,0.024863743,0.025055488,0.024968809,0.025013462,0.024840103,0.024958302,0.024947796,0.024981942,0.024853237,0.025000328,0.024924156,0.024926783,0.024887383,0.024939916,0.025005582,0.024974062,0.02489001,0.024897889,0.024932036,0.024989822,0.024821717,0.025026595],\"type\":\"scatter\",\"xaxis\":\"x2\",\"yaxis\":\"y2\"}],                        {\"template\":{\"data\":{\"bar\":[{\"error_x\":{\"color\":\"#2a3f5f\"},\"error_y\":{\"color\":\"#2a3f5f\"},\"marker\":{\"line\":{\"color\":\"#E5ECF6\",\"width\":0.5},\"pattern\":{\"fillmode\":\"overlay\",\"size\":10,\"solidity\":0.2}},\"type\":\"bar\"}],\"barpolar\":[{\"marker\":{\"line\":{\"color\":\"#E5ECF6\",\"width\":0.5},\"pattern\":{\"fillmode\":\"overlay\",\"size\":10,\"solidity\":0.2}},\"type\":\"barpolar\"}],\"carpet\":[{\"aaxis\":{\"endlinecolor\":\"#2a3f5f\",\"gridcolor\":\"white\",\"linecolor\":\"white\",\"minorgridcolor\":\"white\",\"startlinecolor\":\"#2a3f5f\"},\"baxis\":{\"endlinecolor\":\"#2a3f5f\",\"gridcolor\":\"white\",\"linecolor\":\"white\",\"minorgridcolor\":\"white\",\"startlinecolor\":\"#2a3f5f\"},\"type\":\"carpet\"}],\"choropleth\":[{\"colorbar\":{\"outlinewidth\":0,\"ticks\":\"\"},\"type\":\"choropleth\"}],\"contour\":[{\"colorbar\":{\"outlinewidth\":0,\"ticks\":\"\"},\"colorscale\":[[0.0,\"#0d0887\"],[0.1111111111111111,\"#46039f\"],[0.2222222222222222,\"#7201a8\"],[0.3333333333333333,\"#9c179e\"],[0.4444444444444444,\"#bd3786\"],[0.5555555555555556,\"#d8576b\"],[0.6666666666666666,\"#ed7953\"],[0.7777777777777778,\"#fb9f3a\"],[0.8888888888888888,\"#fdca26\"],[1.0,\"#f0f921\"]],\"type\":\"contour\"}],\"contourcarpet\":[{\"colorbar\":{\"outlinewidth\":0,\"ticks\":\"\"},\"type\":\"contourcarpet\"}],\"heatmap\":[{\"colorbar\":{\"outlinewidth\":0,\"ticks\":\"\"},\"colorscale\":[[0.0,\"#0d0887\"],[0.1111111111111111,\"#46039f\"],[0.2222222222222222,\"#7201a8\"],[0.3333333333333333,\"#9c179e\"],[0.4444444444444444,\"#bd3786\"],[0.5555555555555556,\"#d8576b\"],[0.6666666666666666,\"#ed7953\"],[0.7777777777777778,\"#fb9f3a\"],[0.8888888888888888,\"#fdca26\"],[1.0,\"#f0f921\"]],\"type\":\"heatmap\"}],\"heatmapgl\":[{\"colorbar\":{\"outlinewidth\":0,\"ticks\":\"\"},\"colorscale\":[[0.0,\"#0d0887\"],[0.1111111111111111,\"#46039f\"],[0.2222222222222222,\"#7201a8\"],[0.3333333333333333,\"#9c179e\"],[0.4444444444444444,\"#bd3786\"],[0.5555555555555556,\"#d8576b\"],[0.6666666666666666,\"#ed7953\"],[0.7777777777777778,\"#fb9f3a\"],[0.8888888888888888,\"#fdca26\"],[1.0,\"#f0f921\"]],\"type\":\"heatmapgl\"}],\"histogram\":[{\"marker\":{\"pattern\":{\"fillmode\":\"overlay\",\"size\":10,\"solidity\":0.2}},\"type\":\"histogram\"}],\"histogram2d\":[{\"colorbar\":{\"outlinewidth\":0,\"ticks\":\"\"},\"colorscale\":[[0.0,\"#0d0887\"],[0.1111111111111111,\"#46039f\"],[0.2222222222222222,\"#7201a8\"],[0.3333333333333333,\"#9c179e\"],[0.4444444444444444,\"#bd3786\"],[0.5555555555555556,\"#d8576b\"],[0.6666666666666666,\"#ed7953\"],[0.7777777777777778,\"#fb9f3a\"],[0.8888888888888888,\"#fdca26\"],[1.0,\"#f0f921\"]],\"type\":\"histogram2d\"}],\"histogram2dcontour\":[{\"colorbar\":{\"outlinewidth\":0,\"ticks\":\"\"},\"colorscale\":[[0.0,\"#0d0887\"],[0.1111111111111111,\"#46039f\"],[0.2222222222222222,\"#7201a8\"],[0.3333333333333333,\"#9c179e\"],[0.4444444444444444,\"#bd3786\"],[0.5555555555555556,\"#d8576b\"],[0.6666666666666666,\"#ed7953\"],[0.7777777777777778,\"#fb9f3a\"],[0.8888888888888888,\"#fdca26\"],[1.0,\"#f0f921\"]],\"type\":\"histogram2dcontour\"}],\"mesh3d\":[{\"colorbar\":{\"outlinewidth\":0,\"ticks\":\"\"},\"type\":\"mesh3d\"}],\"parcoords\":[{\"line\":{\"colorbar\":{\"outlinewidth\":0,\"ticks\":\"\"}},\"type\":\"parcoords\"}],\"pie\":[{\"automargin\":true,\"type\":\"pie\"}],\"scatter\":[{\"marker\":{\"colorbar\":{\"outlinewidth\":0,\"ticks\":\"\"}},\"type\":\"scatter\"}],\"scatter3d\":[{\"line\":{\"colorbar\":{\"outlinewidth\":0,\"ticks\":\"\"}},\"marker\":{\"colorbar\":{\"outlinewidth\":0,\"ticks\":\"\"}},\"type\":\"scatter3d\"}],\"scattercarpet\":[{\"marker\":{\"colorbar\":{\"outlinewidth\":0,\"ticks\":\"\"}},\"type\":\"scattercarpet\"}],\"scattergeo\":[{\"marker\":{\"colorbar\":{\"outlinewidth\":0,\"ticks\":\"\"}},\"type\":\"scattergeo\"}],\"scattergl\":[{\"marker\":{\"colorbar\":{\"outlinewidth\":0,\"ticks\":\"\"}},\"type\":\"scattergl\"}],\"scattermapbox\":[{\"marker\":{\"colorbar\":{\"outlinewidth\":0,\"ticks\":\"\"}},\"type\":\"scattermapbox\"}],\"scatterpolar\":[{\"marker\":{\"colorbar\":{\"outlinewidth\":0,\"ticks\":\"\"}},\"type\":\"scatterpolar\"}],\"scatterpolargl\":[{\"marker\":{\"colorbar\":{\"outlinewidth\":0,\"ticks\":\"\"}},\"type\":\"scatterpolargl\"}],\"scatterternary\":[{\"marker\":{\"colorbar\":{\"outlinewidth\":0,\"ticks\":\"\"}},\"type\":\"scatterternary\"}],\"surface\":[{\"colorbar\":{\"outlinewidth\":0,\"ticks\":\"\"},\"colorscale\":[[0.0,\"#0d0887\"],[0.1111111111111111,\"#46039f\"],[0.2222222222222222,\"#7201a8\"],[0.3333333333333333,\"#9c179e\"],[0.4444444444444444,\"#bd3786\"],[0.5555555555555556,\"#d8576b\"],[0.6666666666666666,\"#ed7953\"],[0.7777777777777778,\"#fb9f3a\"],[0.8888888888888888,\"#fdca26\"],[1.0,\"#f0f921\"]],\"type\":\"surface\"}],\"table\":[{\"cells\":{\"fill\":{\"color\":\"#EBF0F8\"},\"line\":{\"color\":\"white\"}},\"header\":{\"fill\":{\"color\":\"#C8D4E3\"},\"line\":{\"color\":\"white\"}},\"type\":\"table\"}]},\"layout\":{\"annotationdefaults\":{\"arrowcolor\":\"#2a3f5f\",\"arrowhead\":0,\"arrowwidth\":1},\"autotypenumbers\":\"strict\",\"coloraxis\":{\"colorbar\":{\"outlinewidth\":0,\"ticks\":\"\"}},\"colorscale\":{\"diverging\":[[0,\"#8e0152\"],[0.1,\"#c51b7d\"],[0.2,\"#de77ae\"],[0.3,\"#f1b6da\"],[0.4,\"#fde0ef\"],[0.5,\"#f7f7f7\"],[0.6,\"#e6f5d0\"],[0.7,\"#b8e186\"],[0.8,\"#7fbc41\"],[0.9,\"#4d9221\"],[1,\"#276419\"]],\"sequential\":[[0.0,\"#0d0887\"],[0.1111111111111111,\"#46039f\"],[0.2222222222222222,\"#7201a8\"],[0.3333333333333333,\"#9c179e\"],[0.4444444444444444,\"#bd3786\"],[0.5555555555555556,\"#d8576b\"],[0.6666666666666666,\"#ed7953\"],[0.7777777777777778,\"#fb9f3a\"],[0.8888888888888888,\"#fdca26\"],[1.0,\"#f0f921\"]],\"sequentialminus\":[[0.0,\"#0d0887\"],[0.1111111111111111,\"#46039f\"],[0.2222222222222222,\"#7201a8\"],[0.3333333333333333,\"#9c179e\"],[0.4444444444444444,\"#bd3786\"],[0.5555555555555556,\"#d8576b\"],[0.6666666666666666,\"#ed7953\"],[0.7777777777777778,\"#fb9f3a\"],[0.8888888888888888,\"#fdca26\"],[1.0,\"#f0f921\"]]},\"colorway\":[\"#636efa\",\"#EF553B\",\"#00cc96\",\"#ab63fa\",\"#FFA15A\",\"#19d3f3\",\"#FF6692\",\"#B6E880\",\"#FF97FF\",\"#FECB52\"],\"font\":{\"color\":\"#2a3f5f\"},\"geo\":{\"bgcolor\":\"white\",\"lakecolor\":\"white\",\"landcolor\":\"#E5ECF6\",\"showlakes\":true,\"showland\":true,\"subunitcolor\":\"white\"},\"hoverlabel\":{\"align\":\"left\"},\"hovermode\":\"closest\",\"mapbox\":{\"style\":\"light\"},\"paper_bgcolor\":\"white\",\"plot_bgcolor\":\"#E5ECF6\",\"polar\":{\"angularaxis\":{\"gridcolor\":\"white\",\"linecolor\":\"white\",\"ticks\":\"\"},\"bgcolor\":\"#E5ECF6\",\"radialaxis\":{\"gridcolor\":\"white\",\"linecolor\":\"white\",\"ticks\":\"\"}},\"scene\":{\"xaxis\":{\"backgroundcolor\":\"#E5ECF6\",\"gridcolor\":\"white\",\"gridwidth\":2,\"linecolor\":\"white\",\"showbackground\":true,\"ticks\":\"\",\"zerolinecolor\":\"white\"},\"yaxis\":{\"backgroundcolor\":\"#E5ECF6\",\"gridcolor\":\"white\",\"gridwidth\":2,\"linecolor\":\"white\",\"showbackground\":true,\"ticks\":\"\",\"zerolinecolor\":\"white\"},\"zaxis\":{\"backgroundcolor\":\"#E5ECF6\",\"gridcolor\":\"white\",\"gridwidth\":2,\"linecolor\":\"white\",\"showbackground\":true,\"ticks\":\"\",\"zerolinecolor\":\"white\"}},\"shapedefaults\":{\"line\":{\"color\":\"#2a3f5f\"}},\"ternary\":{\"aaxis\":{\"gridcolor\":\"white\",\"linecolor\":\"white\",\"ticks\":\"\"},\"baxis\":{\"gridcolor\":\"white\",\"linecolor\":\"white\",\"ticks\":\"\"},\"bgcolor\":\"#E5ECF6\",\"caxis\":{\"gridcolor\":\"white\",\"linecolor\":\"white\",\"ticks\":\"\"}},\"title\":{\"x\":0.05},\"xaxis\":{\"automargin\":true,\"gridcolor\":\"white\",\"linecolor\":\"white\",\"ticks\":\"\",\"title\":{\"standoff\":15},\"zerolinecolor\":\"white\",\"zerolinewidth\":2},\"yaxis\":{\"automargin\":true,\"gridcolor\":\"white\",\"linecolor\":\"white\",\"ticks\":\"\",\"title\":{\"standoff\":15},\"zerolinecolor\":\"white\",\"zerolinewidth\":2}}},\"xaxis\":{\"anchor\":\"y\",\"domain\":[0.0,0.45]},\"yaxis\":{\"anchor\":\"x\",\"domain\":[0.0,1.0]},\"xaxis2\":{\"anchor\":\"y2\",\"domain\":[0.55,1.0]},\"yaxis2\":{\"anchor\":\"x2\",\"domain\":[0.0,1.0]},\"annotations\":[{\"font\":{\"size\":16},\"showarrow\":false,\"text\":\"Time (s)\",\"x\":0.5,\"xanchor\":\"center\",\"xref\":\"paper\",\"y\":0,\"yanchor\":\"top\",\"yref\":\"paper\",\"yshift\":-30},{\"font\":{\"size\":16},\"showarrow\":false,\"text\":\"Fluorescence\",\"textangle\":-90,\"x\":0,\"xanchor\":\"right\",\"xref\":\"paper\",\"xshift\":-40,\"y\":0.5,\"yanchor\":\"middle\",\"yref\":\"paper\"}],\"title\":{\"text\":\"Raw Traces from all channels for animal number 1 on today at 1:20\"}},                        {\"responsive\": true}                    ).then(function(){\n",
       "                            \n",
       "var gd = document.getElementById('5d16cf98-b2d2-4f44-9e6b-d00c51677f1e');\n",
       "var x = new MutationObserver(function (mutations, observer) {{\n",
       "        var display = window.getComputedStyle(gd).display;\n",
       "        if (!display || display === 'none') {{\n",
       "            console.log([gd, 'removed!']);\n",
       "            Plotly.purge(gd);\n",
       "            observer.disconnect();\n",
       "        }}\n",
       "}});\n",
       "\n",
       "// Listen for the removal of the full notebook cells\n",
       "var notebookContainer = gd.closest('#notebook-container');\n",
       "if (notebookContainer) {{\n",
       "    x.observe(notebookContainer, {childList: true});\n",
       "}}\n",
       "\n",
       "// Listen for the clearing of the current output cell\n",
       "var outputEl = gd.closest('.output');\n",
       "if (outputEl) {{\n",
       "    x.observe(outputEl, {childList: true});\n",
       "}}\n",
       "\n",
       "                        })                };                });            </script>        </div>"
      ]
     },
     "metadata": {},
     "output_type": "display_data"
    }
   ],
   "source": [
    "# print(len(fiber_dict))\n",
    "print(fiber_dict.keys())\n",
    "fig = fiber_dict['poo'].raw_signal_trace()\n",
    "fig.show()"
   ]
  },
  {
   "cell_type": "code",
   "execution_count": 10,
   "id": "500e081a-4d18-44c2-9409-bd59aeb781ab",
   "metadata": {},
   "outputs": [
    {
     "data": {
      "application/vnd.plotly.v1+json": {
       "config": {
        "plotlyServerURL": "https://plot.ly"
       },
       "data": [
        {
         "hovertemplate": "x=%{x}<br>y=%{y}<extra></extra>",
         "legendgroup": "",
         "marker": {
          "color": "#636efa",
          "symbol": "circle"
         },
         "mode": "markers",
         "name": "",
         "orientation": "v",
         "showlegend": false,
         "type": "scatter",
         "x": [
          0,
          1,
          2,
          3,
          4
         ],
         "xaxis": "x",
         "y": [
          0,
          1,
          4,
          9,
          16
         ],
         "yaxis": "y"
        }
       ],
       "layout": {
        "legend": {
         "tracegroupgap": 0
        },
        "margin": {
         "t": 60
        },
        "template": {
         "data": {
          "bar": [
           {
            "error_x": {
             "color": "#2a3f5f"
            },
            "error_y": {
             "color": "#2a3f5f"
            },
            "marker": {
             "line": {
              "color": "#E5ECF6",
              "width": 0.5
             },
             "pattern": {
              "fillmode": "overlay",
              "size": 10,
              "solidity": 0.2
             }
            },
            "type": "bar"
           }
          ],
          "barpolar": [
           {
            "marker": {
             "line": {
              "color": "#E5ECF6",
              "width": 0.5
             },
             "pattern": {
              "fillmode": "overlay",
              "size": 10,
              "solidity": 0.2
             }
            },
            "type": "barpolar"
           }
          ],
          "carpet": [
           {
            "aaxis": {
             "endlinecolor": "#2a3f5f",
             "gridcolor": "white",
             "linecolor": "white",
             "minorgridcolor": "white",
             "startlinecolor": "#2a3f5f"
            },
            "baxis": {
             "endlinecolor": "#2a3f5f",
             "gridcolor": "white",
             "linecolor": "white",
             "minorgridcolor": "white",
             "startlinecolor": "#2a3f5f"
            },
            "type": "carpet"
           }
          ],
          "choropleth": [
           {
            "colorbar": {
             "outlinewidth": 0,
             "ticks": ""
            },
            "type": "choropleth"
           }
          ],
          "contour": [
           {
            "colorbar": {
             "outlinewidth": 0,
             "ticks": ""
            },
            "colorscale": [
             [
              0,
              "#0d0887"
             ],
             [
              0.1111111111111111,
              "#46039f"
             ],
             [
              0.2222222222222222,
              "#7201a8"
             ],
             [
              0.3333333333333333,
              "#9c179e"
             ],
             [
              0.4444444444444444,
              "#bd3786"
             ],
             [
              0.5555555555555556,
              "#d8576b"
             ],
             [
              0.6666666666666666,
              "#ed7953"
             ],
             [
              0.7777777777777778,
              "#fb9f3a"
             ],
             [
              0.8888888888888888,
              "#fdca26"
             ],
             [
              1,
              "#f0f921"
             ]
            ],
            "type": "contour"
           }
          ],
          "contourcarpet": [
           {
            "colorbar": {
             "outlinewidth": 0,
             "ticks": ""
            },
            "type": "contourcarpet"
           }
          ],
          "heatmap": [
           {
            "colorbar": {
             "outlinewidth": 0,
             "ticks": ""
            },
            "colorscale": [
             [
              0,
              "#0d0887"
             ],
             [
              0.1111111111111111,
              "#46039f"
             ],
             [
              0.2222222222222222,
              "#7201a8"
             ],
             [
              0.3333333333333333,
              "#9c179e"
             ],
             [
              0.4444444444444444,
              "#bd3786"
             ],
             [
              0.5555555555555556,
              "#d8576b"
             ],
             [
              0.6666666666666666,
              "#ed7953"
             ],
             [
              0.7777777777777778,
              "#fb9f3a"
             ],
             [
              0.8888888888888888,
              "#fdca26"
             ],
             [
              1,
              "#f0f921"
             ]
            ],
            "type": "heatmap"
           }
          ],
          "heatmapgl": [
           {
            "colorbar": {
             "outlinewidth": 0,
             "ticks": ""
            },
            "colorscale": [
             [
              0,
              "#0d0887"
             ],
             [
              0.1111111111111111,
              "#46039f"
             ],
             [
              0.2222222222222222,
              "#7201a8"
             ],
             [
              0.3333333333333333,
              "#9c179e"
             ],
             [
              0.4444444444444444,
              "#bd3786"
             ],
             [
              0.5555555555555556,
              "#d8576b"
             ],
             [
              0.6666666666666666,
              "#ed7953"
             ],
             [
              0.7777777777777778,
              "#fb9f3a"
             ],
             [
              0.8888888888888888,
              "#fdca26"
             ],
             [
              1,
              "#f0f921"
             ]
            ],
            "type": "heatmapgl"
           }
          ],
          "histogram": [
           {
            "marker": {
             "pattern": {
              "fillmode": "overlay",
              "size": 10,
              "solidity": 0.2
             }
            },
            "type": "histogram"
           }
          ],
          "histogram2d": [
           {
            "colorbar": {
             "outlinewidth": 0,
             "ticks": ""
            },
            "colorscale": [
             [
              0,
              "#0d0887"
             ],
             [
              0.1111111111111111,
              "#46039f"
             ],
             [
              0.2222222222222222,
              "#7201a8"
             ],
             [
              0.3333333333333333,
              "#9c179e"
             ],
             [
              0.4444444444444444,
              "#bd3786"
             ],
             [
              0.5555555555555556,
              "#d8576b"
             ],
             [
              0.6666666666666666,
              "#ed7953"
             ],
             [
              0.7777777777777778,
              "#fb9f3a"
             ],
             [
              0.8888888888888888,
              "#fdca26"
             ],
             [
              1,
              "#f0f921"
             ]
            ],
            "type": "histogram2d"
           }
          ],
          "histogram2dcontour": [
           {
            "colorbar": {
             "outlinewidth": 0,
             "ticks": ""
            },
            "colorscale": [
             [
              0,
              "#0d0887"
             ],
             [
              0.1111111111111111,
              "#46039f"
             ],
             [
              0.2222222222222222,
              "#7201a8"
             ],
             [
              0.3333333333333333,
              "#9c179e"
             ],
             [
              0.4444444444444444,
              "#bd3786"
             ],
             [
              0.5555555555555556,
              "#d8576b"
             ],
             [
              0.6666666666666666,
              "#ed7953"
             ],
             [
              0.7777777777777778,
              "#fb9f3a"
             ],
             [
              0.8888888888888888,
              "#fdca26"
             ],
             [
              1,
              "#f0f921"
             ]
            ],
            "type": "histogram2dcontour"
           }
          ],
          "mesh3d": [
           {
            "colorbar": {
             "outlinewidth": 0,
             "ticks": ""
            },
            "type": "mesh3d"
           }
          ],
          "parcoords": [
           {
            "line": {
             "colorbar": {
              "outlinewidth": 0,
              "ticks": ""
             }
            },
            "type": "parcoords"
           }
          ],
          "pie": [
           {
            "automargin": true,
            "type": "pie"
           }
          ],
          "scatter": [
           {
            "marker": {
             "colorbar": {
              "outlinewidth": 0,
              "ticks": ""
             }
            },
            "type": "scatter"
           }
          ],
          "scatter3d": [
           {
            "line": {
             "colorbar": {
              "outlinewidth": 0,
              "ticks": ""
             }
            },
            "marker": {
             "colorbar": {
              "outlinewidth": 0,
              "ticks": ""
             }
            },
            "type": "scatter3d"
           }
          ],
          "scattercarpet": [
           {
            "marker": {
             "colorbar": {
              "outlinewidth": 0,
              "ticks": ""
             }
            },
            "type": "scattercarpet"
           }
          ],
          "scattergeo": [
           {
            "marker": {
             "colorbar": {
              "outlinewidth": 0,
              "ticks": ""
             }
            },
            "type": "scattergeo"
           }
          ],
          "scattergl": [
           {
            "marker": {
             "colorbar": {
              "outlinewidth": 0,
              "ticks": ""
             }
            },
            "type": "scattergl"
           }
          ],
          "scattermapbox": [
           {
            "marker": {
             "colorbar": {
              "outlinewidth": 0,
              "ticks": ""
             }
            },
            "type": "scattermapbox"
           }
          ],
          "scatterpolar": [
           {
            "marker": {
             "colorbar": {
              "outlinewidth": 0,
              "ticks": ""
             }
            },
            "type": "scatterpolar"
           }
          ],
          "scatterpolargl": [
           {
            "marker": {
             "colorbar": {
              "outlinewidth": 0,
              "ticks": ""
             }
            },
            "type": "scatterpolargl"
           }
          ],
          "scatterternary": [
           {
            "marker": {
             "colorbar": {
              "outlinewidth": 0,
              "ticks": ""
             }
            },
            "type": "scatterternary"
           }
          ],
          "surface": [
           {
            "colorbar": {
             "outlinewidth": 0,
             "ticks": ""
            },
            "colorscale": [
             [
              0,
              "#0d0887"
             ],
             [
              0.1111111111111111,
              "#46039f"
             ],
             [
              0.2222222222222222,
              "#7201a8"
             ],
             [
              0.3333333333333333,
              "#9c179e"
             ],
             [
              0.4444444444444444,
              "#bd3786"
             ],
             [
              0.5555555555555556,
              "#d8576b"
             ],
             [
              0.6666666666666666,
              "#ed7953"
             ],
             [
              0.7777777777777778,
              "#fb9f3a"
             ],
             [
              0.8888888888888888,
              "#fdca26"
             ],
             [
              1,
              "#f0f921"
             ]
            ],
            "type": "surface"
           }
          ],
          "table": [
           {
            "cells": {
             "fill": {
              "color": "#EBF0F8"
             },
             "line": {
              "color": "white"
             }
            },
            "header": {
             "fill": {
              "color": "#C8D4E3"
             },
             "line": {
              "color": "white"
             }
            },
            "type": "table"
           }
          ]
         },
         "layout": {
          "annotationdefaults": {
           "arrowcolor": "#2a3f5f",
           "arrowhead": 0,
           "arrowwidth": 1
          },
          "autotypenumbers": "strict",
          "coloraxis": {
           "colorbar": {
            "outlinewidth": 0,
            "ticks": ""
           }
          },
          "colorscale": {
           "diverging": [
            [
             0,
             "#8e0152"
            ],
            [
             0.1,
             "#c51b7d"
            ],
            [
             0.2,
             "#de77ae"
            ],
            [
             0.3,
             "#f1b6da"
            ],
            [
             0.4,
             "#fde0ef"
            ],
            [
             0.5,
             "#f7f7f7"
            ],
            [
             0.6,
             "#e6f5d0"
            ],
            [
             0.7,
             "#b8e186"
            ],
            [
             0.8,
             "#7fbc41"
            ],
            [
             0.9,
             "#4d9221"
            ],
            [
             1,
             "#276419"
            ]
           ],
           "sequential": [
            [
             0,
             "#0d0887"
            ],
            [
             0.1111111111111111,
             "#46039f"
            ],
            [
             0.2222222222222222,
             "#7201a8"
            ],
            [
             0.3333333333333333,
             "#9c179e"
            ],
            [
             0.4444444444444444,
             "#bd3786"
            ],
            [
             0.5555555555555556,
             "#d8576b"
            ],
            [
             0.6666666666666666,
             "#ed7953"
            ],
            [
             0.7777777777777778,
             "#fb9f3a"
            ],
            [
             0.8888888888888888,
             "#fdca26"
            ],
            [
             1,
             "#f0f921"
            ]
           ],
           "sequentialminus": [
            [
             0,
             "#0d0887"
            ],
            [
             0.1111111111111111,
             "#46039f"
            ],
            [
             0.2222222222222222,
             "#7201a8"
            ],
            [
             0.3333333333333333,
             "#9c179e"
            ],
            [
             0.4444444444444444,
             "#bd3786"
            ],
            [
             0.5555555555555556,
             "#d8576b"
            ],
            [
             0.6666666666666666,
             "#ed7953"
            ],
            [
             0.7777777777777778,
             "#fb9f3a"
            ],
            [
             0.8888888888888888,
             "#fdca26"
            ],
            [
             1,
             "#f0f921"
            ]
           ]
          },
          "colorway": [
           "#636efa",
           "#EF553B",
           "#00cc96",
           "#ab63fa",
           "#FFA15A",
           "#19d3f3",
           "#FF6692",
           "#B6E880",
           "#FF97FF",
           "#FECB52"
          ],
          "font": {
           "color": "#2a3f5f"
          },
          "geo": {
           "bgcolor": "white",
           "lakecolor": "white",
           "landcolor": "#E5ECF6",
           "showlakes": true,
           "showland": true,
           "subunitcolor": "white"
          },
          "hoverlabel": {
           "align": "left"
          },
          "hovermode": "closest",
          "mapbox": {
           "style": "light"
          },
          "paper_bgcolor": "white",
          "plot_bgcolor": "#E5ECF6",
          "polar": {
           "angularaxis": {
            "gridcolor": "white",
            "linecolor": "white",
            "ticks": ""
           },
           "bgcolor": "#E5ECF6",
           "radialaxis": {
            "gridcolor": "white",
            "linecolor": "white",
            "ticks": ""
           }
          },
          "scene": {
           "xaxis": {
            "backgroundcolor": "#E5ECF6",
            "gridcolor": "white",
            "gridwidth": 2,
            "linecolor": "white",
            "showbackground": true,
            "ticks": "",
            "zerolinecolor": "white"
           },
           "yaxis": {
            "backgroundcolor": "#E5ECF6",
            "gridcolor": "white",
            "gridwidth": 2,
            "linecolor": "white",
            "showbackground": true,
            "ticks": "",
            "zerolinecolor": "white"
           },
           "zaxis": {
            "backgroundcolor": "#E5ECF6",
            "gridcolor": "white",
            "gridwidth": 2,
            "linecolor": "white",
            "showbackground": true,
            "ticks": "",
            "zerolinecolor": "white"
           }
          },
          "shapedefaults": {
           "line": {
            "color": "#2a3f5f"
           }
          },
          "ternary": {
           "aaxis": {
            "gridcolor": "white",
            "linecolor": "white",
            "ticks": ""
           },
           "baxis": {
            "gridcolor": "white",
            "linecolor": "white",
            "ticks": ""
           },
           "bgcolor": "#E5ECF6",
           "caxis": {
            "gridcolor": "white",
            "linecolor": "white",
            "ticks": ""
           }
          },
          "title": {
           "x": 0.05
          },
          "xaxis": {
           "automargin": true,
           "gridcolor": "white",
           "linecolor": "white",
           "ticks": "",
           "title": {
            "standoff": 15
           },
           "zerolinecolor": "white",
           "zerolinewidth": 2
          },
          "yaxis": {
           "automargin": true,
           "gridcolor": "white",
           "linecolor": "white",
           "ticks": "",
           "title": {
            "standoff": 15
           },
           "zerolinecolor": "white",
           "zerolinewidth": 2
          }
         }
        },
        "xaxis": {
         "anchor": "y",
         "domain": [
          0,
          1
         ],
         "title": {
          "text": "x"
         }
        },
        "yaxis": {
         "anchor": "x",
         "domain": [
          0,
          1
         ],
         "title": {
          "text": "y"
         }
        }
       }
      },
      "text/html": [
       "<div>                            <div id=\"8db18d01-9086-4225-b34e-cd32c19dcb38\" class=\"plotly-graph-div\" style=\"height:525px; width:100%;\"></div>            <script type=\"text/javascript\">                require([\"plotly\"], function(Plotly) {                    window.PLOTLYENV=window.PLOTLYENV || {};                                    if (document.getElementById(\"8db18d01-9086-4225-b34e-cd32c19dcb38\")) {                    Plotly.newPlot(                        \"8db18d01-9086-4225-b34e-cd32c19dcb38\",                        [{\"hovertemplate\":\"x=%{x}<br>y=%{y}<extra></extra>\",\"legendgroup\":\"\",\"marker\":{\"color\":\"#636efa\",\"symbol\":\"circle\"},\"mode\":\"markers\",\"name\":\"\",\"orientation\":\"v\",\"showlegend\":false,\"x\":[0,1,2,3,4],\"xaxis\":\"x\",\"y\":[0,1,4,9,16],\"yaxis\":\"y\",\"type\":\"scatter\"}],                        {\"template\":{\"data\":{\"bar\":[{\"error_x\":{\"color\":\"#2a3f5f\"},\"error_y\":{\"color\":\"#2a3f5f\"},\"marker\":{\"line\":{\"color\":\"#E5ECF6\",\"width\":0.5},\"pattern\":{\"fillmode\":\"overlay\",\"size\":10,\"solidity\":0.2}},\"type\":\"bar\"}],\"barpolar\":[{\"marker\":{\"line\":{\"color\":\"#E5ECF6\",\"width\":0.5},\"pattern\":{\"fillmode\":\"overlay\",\"size\":10,\"solidity\":0.2}},\"type\":\"barpolar\"}],\"carpet\":[{\"aaxis\":{\"endlinecolor\":\"#2a3f5f\",\"gridcolor\":\"white\",\"linecolor\":\"white\",\"minorgridcolor\":\"white\",\"startlinecolor\":\"#2a3f5f\"},\"baxis\":{\"endlinecolor\":\"#2a3f5f\",\"gridcolor\":\"white\",\"linecolor\":\"white\",\"minorgridcolor\":\"white\",\"startlinecolor\":\"#2a3f5f\"},\"type\":\"carpet\"}],\"choropleth\":[{\"colorbar\":{\"outlinewidth\":0,\"ticks\":\"\"},\"type\":\"choropleth\"}],\"contour\":[{\"colorbar\":{\"outlinewidth\":0,\"ticks\":\"\"},\"colorscale\":[[0.0,\"#0d0887\"],[0.1111111111111111,\"#46039f\"],[0.2222222222222222,\"#7201a8\"],[0.3333333333333333,\"#9c179e\"],[0.4444444444444444,\"#bd3786\"],[0.5555555555555556,\"#d8576b\"],[0.6666666666666666,\"#ed7953\"],[0.7777777777777778,\"#fb9f3a\"],[0.8888888888888888,\"#fdca26\"],[1.0,\"#f0f921\"]],\"type\":\"contour\"}],\"contourcarpet\":[{\"colorbar\":{\"outlinewidth\":0,\"ticks\":\"\"},\"type\":\"contourcarpet\"}],\"heatmap\":[{\"colorbar\":{\"outlinewidth\":0,\"ticks\":\"\"},\"colorscale\":[[0.0,\"#0d0887\"],[0.1111111111111111,\"#46039f\"],[0.2222222222222222,\"#7201a8\"],[0.3333333333333333,\"#9c179e\"],[0.4444444444444444,\"#bd3786\"],[0.5555555555555556,\"#d8576b\"],[0.6666666666666666,\"#ed7953\"],[0.7777777777777778,\"#fb9f3a\"],[0.8888888888888888,\"#fdca26\"],[1.0,\"#f0f921\"]],\"type\":\"heatmap\"}],\"heatmapgl\":[{\"colorbar\":{\"outlinewidth\":0,\"ticks\":\"\"},\"colorscale\":[[0.0,\"#0d0887\"],[0.1111111111111111,\"#46039f\"],[0.2222222222222222,\"#7201a8\"],[0.3333333333333333,\"#9c179e\"],[0.4444444444444444,\"#bd3786\"],[0.5555555555555556,\"#d8576b\"],[0.6666666666666666,\"#ed7953\"],[0.7777777777777778,\"#fb9f3a\"],[0.8888888888888888,\"#fdca26\"],[1.0,\"#f0f921\"]],\"type\":\"heatmapgl\"}],\"histogram\":[{\"marker\":{\"pattern\":{\"fillmode\":\"overlay\",\"size\":10,\"solidity\":0.2}},\"type\":\"histogram\"}],\"histogram2d\":[{\"colorbar\":{\"outlinewidth\":0,\"ticks\":\"\"},\"colorscale\":[[0.0,\"#0d0887\"],[0.1111111111111111,\"#46039f\"],[0.2222222222222222,\"#7201a8\"],[0.3333333333333333,\"#9c179e\"],[0.4444444444444444,\"#bd3786\"],[0.5555555555555556,\"#d8576b\"],[0.6666666666666666,\"#ed7953\"],[0.7777777777777778,\"#fb9f3a\"],[0.8888888888888888,\"#fdca26\"],[1.0,\"#f0f921\"]],\"type\":\"histogram2d\"}],\"histogram2dcontour\":[{\"colorbar\":{\"outlinewidth\":0,\"ticks\":\"\"},\"colorscale\":[[0.0,\"#0d0887\"],[0.1111111111111111,\"#46039f\"],[0.2222222222222222,\"#7201a8\"],[0.3333333333333333,\"#9c179e\"],[0.4444444444444444,\"#bd3786\"],[0.5555555555555556,\"#d8576b\"],[0.6666666666666666,\"#ed7953\"],[0.7777777777777778,\"#fb9f3a\"],[0.8888888888888888,\"#fdca26\"],[1.0,\"#f0f921\"]],\"type\":\"histogram2dcontour\"}],\"mesh3d\":[{\"colorbar\":{\"outlinewidth\":0,\"ticks\":\"\"},\"type\":\"mesh3d\"}],\"parcoords\":[{\"line\":{\"colorbar\":{\"outlinewidth\":0,\"ticks\":\"\"}},\"type\":\"parcoords\"}],\"pie\":[{\"automargin\":true,\"type\":\"pie\"}],\"scatter\":[{\"marker\":{\"colorbar\":{\"outlinewidth\":0,\"ticks\":\"\"}},\"type\":\"scatter\"}],\"scatter3d\":[{\"line\":{\"colorbar\":{\"outlinewidth\":0,\"ticks\":\"\"}},\"marker\":{\"colorbar\":{\"outlinewidth\":0,\"ticks\":\"\"}},\"type\":\"scatter3d\"}],\"scattercarpet\":[{\"marker\":{\"colorbar\":{\"outlinewidth\":0,\"ticks\":\"\"}},\"type\":\"scattercarpet\"}],\"scattergeo\":[{\"marker\":{\"colorbar\":{\"outlinewidth\":0,\"ticks\":\"\"}},\"type\":\"scattergeo\"}],\"scattergl\":[{\"marker\":{\"colorbar\":{\"outlinewidth\":0,\"ticks\":\"\"}},\"type\":\"scattergl\"}],\"scattermapbox\":[{\"marker\":{\"colorbar\":{\"outlinewidth\":0,\"ticks\":\"\"}},\"type\":\"scattermapbox\"}],\"scatterpolar\":[{\"marker\":{\"colorbar\":{\"outlinewidth\":0,\"ticks\":\"\"}},\"type\":\"scatterpolar\"}],\"scatterpolargl\":[{\"marker\":{\"colorbar\":{\"outlinewidth\":0,\"ticks\":\"\"}},\"type\":\"scatterpolargl\"}],\"scatterternary\":[{\"marker\":{\"colorbar\":{\"outlinewidth\":0,\"ticks\":\"\"}},\"type\":\"scatterternary\"}],\"surface\":[{\"colorbar\":{\"outlinewidth\":0,\"ticks\":\"\"},\"colorscale\":[[0.0,\"#0d0887\"],[0.1111111111111111,\"#46039f\"],[0.2222222222222222,\"#7201a8\"],[0.3333333333333333,\"#9c179e\"],[0.4444444444444444,\"#bd3786\"],[0.5555555555555556,\"#d8576b\"],[0.6666666666666666,\"#ed7953\"],[0.7777777777777778,\"#fb9f3a\"],[0.8888888888888888,\"#fdca26\"],[1.0,\"#f0f921\"]],\"type\":\"surface\"}],\"table\":[{\"cells\":{\"fill\":{\"color\":\"#EBF0F8\"},\"line\":{\"color\":\"white\"}},\"header\":{\"fill\":{\"color\":\"#C8D4E3\"},\"line\":{\"color\":\"white\"}},\"type\":\"table\"}]},\"layout\":{\"annotationdefaults\":{\"arrowcolor\":\"#2a3f5f\",\"arrowhead\":0,\"arrowwidth\":1},\"autotypenumbers\":\"strict\",\"coloraxis\":{\"colorbar\":{\"outlinewidth\":0,\"ticks\":\"\"}},\"colorscale\":{\"diverging\":[[0,\"#8e0152\"],[0.1,\"#c51b7d\"],[0.2,\"#de77ae\"],[0.3,\"#f1b6da\"],[0.4,\"#fde0ef\"],[0.5,\"#f7f7f7\"],[0.6,\"#e6f5d0\"],[0.7,\"#b8e186\"],[0.8,\"#7fbc41\"],[0.9,\"#4d9221\"],[1,\"#276419\"]],\"sequential\":[[0.0,\"#0d0887\"],[0.1111111111111111,\"#46039f\"],[0.2222222222222222,\"#7201a8\"],[0.3333333333333333,\"#9c179e\"],[0.4444444444444444,\"#bd3786\"],[0.5555555555555556,\"#d8576b\"],[0.6666666666666666,\"#ed7953\"],[0.7777777777777778,\"#fb9f3a\"],[0.8888888888888888,\"#fdca26\"],[1.0,\"#f0f921\"]],\"sequentialminus\":[[0.0,\"#0d0887\"],[0.1111111111111111,\"#46039f\"],[0.2222222222222222,\"#7201a8\"],[0.3333333333333333,\"#9c179e\"],[0.4444444444444444,\"#bd3786\"],[0.5555555555555556,\"#d8576b\"],[0.6666666666666666,\"#ed7953\"],[0.7777777777777778,\"#fb9f3a\"],[0.8888888888888888,\"#fdca26\"],[1.0,\"#f0f921\"]]},\"colorway\":[\"#636efa\",\"#EF553B\",\"#00cc96\",\"#ab63fa\",\"#FFA15A\",\"#19d3f3\",\"#FF6692\",\"#B6E880\",\"#FF97FF\",\"#FECB52\"],\"font\":{\"color\":\"#2a3f5f\"},\"geo\":{\"bgcolor\":\"white\",\"lakecolor\":\"white\",\"landcolor\":\"#E5ECF6\",\"showlakes\":true,\"showland\":true,\"subunitcolor\":\"white\"},\"hoverlabel\":{\"align\":\"left\"},\"hovermode\":\"closest\",\"mapbox\":{\"style\":\"light\"},\"paper_bgcolor\":\"white\",\"plot_bgcolor\":\"#E5ECF6\",\"polar\":{\"angularaxis\":{\"gridcolor\":\"white\",\"linecolor\":\"white\",\"ticks\":\"\"},\"bgcolor\":\"#E5ECF6\",\"radialaxis\":{\"gridcolor\":\"white\",\"linecolor\":\"white\",\"ticks\":\"\"}},\"scene\":{\"xaxis\":{\"backgroundcolor\":\"#E5ECF6\",\"gridcolor\":\"white\",\"gridwidth\":2,\"linecolor\":\"white\",\"showbackground\":true,\"ticks\":\"\",\"zerolinecolor\":\"white\"},\"yaxis\":{\"backgroundcolor\":\"#E5ECF6\",\"gridcolor\":\"white\",\"gridwidth\":2,\"linecolor\":\"white\",\"showbackground\":true,\"ticks\":\"\",\"zerolinecolor\":\"white\"},\"zaxis\":{\"backgroundcolor\":\"#E5ECF6\",\"gridcolor\":\"white\",\"gridwidth\":2,\"linecolor\":\"white\",\"showbackground\":true,\"ticks\":\"\",\"zerolinecolor\":\"white\"}},\"shapedefaults\":{\"line\":{\"color\":\"#2a3f5f\"}},\"ternary\":{\"aaxis\":{\"gridcolor\":\"white\",\"linecolor\":\"white\",\"ticks\":\"\"},\"baxis\":{\"gridcolor\":\"white\",\"linecolor\":\"white\",\"ticks\":\"\"},\"bgcolor\":\"#E5ECF6\",\"caxis\":{\"gridcolor\":\"white\",\"linecolor\":\"white\",\"ticks\":\"\"}},\"title\":{\"x\":0.05},\"xaxis\":{\"automargin\":true,\"gridcolor\":\"white\",\"linecolor\":\"white\",\"ticks\":\"\",\"title\":{\"standoff\":15},\"zerolinecolor\":\"white\",\"zerolinewidth\":2},\"yaxis\":{\"automargin\":true,\"gridcolor\":\"white\",\"linecolor\":\"white\",\"ticks\":\"\",\"title\":{\"standoff\":15},\"zerolinecolor\":\"white\",\"zerolinewidth\":2}}},\"xaxis\":{\"anchor\":\"y\",\"domain\":[0.0,1.0],\"title\":{\"text\":\"x\"}},\"yaxis\":{\"anchor\":\"x\",\"domain\":[0.0,1.0],\"title\":{\"text\":\"y\"}},\"legend\":{\"tracegroupgap\":0},\"margin\":{\"t\":60}},                        {\"responsive\": true}                    ).then(function(){\n",
       "                            \n",
       "var gd = document.getElementById('8db18d01-9086-4225-b34e-cd32c19dcb38');\n",
       "var x = new MutationObserver(function (mutations, observer) {{\n",
       "        var display = window.getComputedStyle(gd).display;\n",
       "        if (!display || display === 'none') {{\n",
       "            console.log([gd, 'removed!']);\n",
       "            Plotly.purge(gd);\n",
       "            observer.disconnect();\n",
       "        }}\n",
       "}});\n",
       "\n",
       "// Listen for the removal of the full notebook cells\n",
       "var notebookContainer = gd.closest('#notebook-container');\n",
       "if (notebookContainer) {{\n",
       "    x.observe(notebookContainer, {childList: true});\n",
       "}}\n",
       "\n",
       "// Listen for the clearing of the current output cell\n",
       "var outputEl = gd.closest('.output');\n",
       "if (outputEl) {{\n",
       "    x.observe(outputEl, {childList: true});\n",
       "}}\n",
       "\n",
       "                        })                };                });            </script>        </div>"
      ]
     },
     "metadata": {},
     "output_type": "display_data"
    }
   ],
   "source": [
    "fig = px.scatter(x=[0, 1, 2, 3, 4], y=[0, 1, 4, 9, 16])\n",
    "fig.show()"
   ]
  },
  {
   "cell_type": "code",
   "execution_count": 4,
   "id": "f0b7af19-5077-4531-bb79-79435d7b7174",
   "metadata": {},
   "outputs": [
    {
     "data": {
      "application/javascript": [
       "\n",
       "(function(root) {\n",
       "  function now() {\n",
       "    return new Date();\n",
       "  }\n",
       "\n",
       "  var force = true;\n",
       "\n",
       "  if (typeof root._bokeh_onload_callbacks === \"undefined\" || force === true) {\n",
       "    root._bokeh_onload_callbacks = [];\n",
       "    root._bokeh_is_loading = undefined;\n",
       "  }\n",
       "\n",
       "  if (typeof (root._bokeh_timeout) === \"undefined\" || force === true) {\n",
       "    root._bokeh_timeout = Date.now() + 5000;\n",
       "    root._bokeh_failed_load = false;\n",
       "  }\n",
       "\n",
       "  function run_callbacks() {\n",
       "    try {\n",
       "      root._bokeh_onload_callbacks.forEach(function(callback) {\n",
       "        if (callback != null)\n",
       "          callback();\n",
       "      });\n",
       "    } finally {\n",
       "      delete root._bokeh_onload_callbacks\n",
       "    }\n",
       "    console.debug(\"Bokeh: all callbacks have finished\");\n",
       "  }\n",
       "\n",
       "  function load_libs(css_urls, js_urls, js_modules, callback) {\n",
       "    if (css_urls == null) css_urls = [];\n",
       "    if (js_urls == null) js_urls = [];\n",
       "    if (js_modules == null) js_modules = [];\n",
       "\n",
       "    root._bokeh_onload_callbacks.push(callback);\n",
       "    if (root._bokeh_is_loading > 0) {\n",
       "      console.debug(\"Bokeh: BokehJS is being loaded, scheduling callback at\", now());\n",
       "      return null;\n",
       "    }\n",
       "    if (js_urls.length === 0 && js_modules.length === 0) {\n",
       "      run_callbacks();\n",
       "      return null;\n",
       "    }\n",
       "    console.debug(\"Bokeh: BokehJS not loaded, scheduling load and callback at\", now());\n",
       "    root._bokeh_is_loading = css_urls.length + js_urls.length + js_modules.length;\n",
       "\n",
       "    function on_load() {\n",
       "      root._bokeh_is_loading--;\n",
       "      if (root._bokeh_is_loading === 0) {\n",
       "        console.debug(\"Bokeh: all BokehJS libraries/stylesheets loaded\");\n",
       "        run_callbacks()\n",
       "      }\n",
       "    }\n",
       "\n",
       "    function on_error() {\n",
       "      console.error(\"failed to load \" + url);\n",
       "    }\n",
       "\n",
       "    for (var i = 0; i < css_urls.length; i++) {\n",
       "      var url = css_urls[i];\n",
       "      const element = document.createElement(\"link\");\n",
       "      element.onload = on_load;\n",
       "      element.onerror = on_error;\n",
       "      element.rel = \"stylesheet\";\n",
       "      element.type = \"text/css\";\n",
       "      element.href = url;\n",
       "      console.debug(\"Bokeh: injecting link tag for BokehJS stylesheet: \", url);\n",
       "      document.body.appendChild(element);\n",
       "    }\n",
       "\n",
       "    var skip = [];\n",
       "    if (window.requirejs) {\n",
       "      window.requirejs.config({'packages': {}, 'paths': {}, 'shim': {}});\n",
       "      \n",
       "    }\n",
       "    for (var i = 0; i < js_urls.length; i++) {\n",
       "      var url = js_urls[i];\n",
       "      if (skip.indexOf(url) >= 0) { on_load(); continue; }\n",
       "      var element = document.createElement('script');\n",
       "      element.onload = on_load;\n",
       "      element.onerror = on_error;\n",
       "      element.async = false;\n",
       "      element.src = url;\n",
       "      console.debug(\"Bokeh: injecting script tag for BokehJS library: \", url);\n",
       "      document.head.appendChild(element);\n",
       "    }\n",
       "    for (var i = 0; i < js_modules.length; i++) {\n",
       "      var url = js_modules[i];\n",
       "      if (skip.indexOf(url) >= 0) { on_load(); continue; }\n",
       "      var element = document.createElement('script');\n",
       "      element.onload = on_load;\n",
       "      element.onerror = on_error;\n",
       "      element.async = false;\n",
       "      element.src = url;\n",
       "      element.type = \"module\";\n",
       "      console.debug(\"Bokeh: injecting script tag for BokehJS library: \", url);\n",
       "      document.head.appendChild(element);\n",
       "    }\n",
       "    if (!js_urls.length && !js_modules.length) {\n",
       "      on_load()\n",
       "    }\n",
       "  };\n",
       "\n",
       "  function inject_raw_css(css) {\n",
       "    const element = document.createElement(\"style\");\n",
       "    element.appendChild(document.createTextNode(css));\n",
       "    document.body.appendChild(element);\n",
       "  }\n",
       "\n",
       "  var js_urls = [\"https://cdn.bokeh.org/bokeh/release/bokeh-2.4.1.min.js\", \"https://cdn.bokeh.org/bokeh/release/bokeh-gl-2.4.1.min.js\", \"https://cdn.bokeh.org/bokeh/release/bokeh-widgets-2.4.1.min.js\", \"https://cdn.bokeh.org/bokeh/release/bokeh-tables-2.4.1.min.js\", \"https://cdn.bokeh.org/bokeh/release/bokeh-mathjax-2.4.1.min.js\", \"https://unpkg.com/@holoviz/panel@0.12.4/dist/panel.min.js\"];\n",
       "  var js_modules = [];\n",
       "  var css_urls = [\"https://unpkg.com/@holoviz/panel@0.12.4/dist/css/alerts.css\", \"https://unpkg.com/@holoviz/panel@0.12.4/dist/css/card.css\", \"https://unpkg.com/@holoviz/panel@0.12.4/dist/css/widgets.css\", \"https://unpkg.com/@holoviz/panel@0.12.4/dist/css/markdown.css\", \"https://unpkg.com/@holoviz/panel@0.12.4/dist/css/json.css\", \"https://unpkg.com/@holoviz/panel@0.12.4/dist/css/loading.css\", \"https://unpkg.com/@holoviz/panel@0.12.4/dist/css/dataframe.css\"];\n",
       "  var inline_js = [\n",
       "    function(Bokeh) {\n",
       "      inject_raw_css(\"\\n    .bk.pn-loading.arcs:before {\\n      background-image: url(\\\"data:image/svg+xml;base64,PHN2ZyB4bWxucz0iaHR0cDovL3d3dy53My5vcmcvMjAwMC9zdmciIHhtbG5zOnhsaW5rPSJodHRwOi8vd3d3LnczLm9yZy8xOTk5L3hsaW5rIiBzdHlsZT0ibWFyZ2luOiBhdXRvOyBiYWNrZ3JvdW5kOiBub25lOyBkaXNwbGF5OiBibG9jazsgc2hhcGUtcmVuZGVyaW5nOiBhdXRvOyIgdmlld0JveD0iMCAwIDEwMCAxMDAiIHByZXNlcnZlQXNwZWN0UmF0aW89InhNaWRZTWlkIj4gIDxjaXJjbGUgY3g9IjUwIiBjeT0iNTAiIHI9IjMyIiBzdHJva2Utd2lkdGg9IjgiIHN0cm9rZT0iI2MzYzNjMyIgc3Ryb2tlLWRhc2hhcnJheT0iNTAuMjY1NDgyNDU3NDM2NjkgNTAuMjY1NDgyNDU3NDM2NjkiIGZpbGw9Im5vbmUiIHN0cm9rZS1saW5lY2FwPSJyb3VuZCI+ICAgIDxhbmltYXRlVHJhbnNmb3JtIGF0dHJpYnV0ZU5hbWU9InRyYW5zZm9ybSIgdHlwZT0icm90YXRlIiByZXBlYXRDb3VudD0iaW5kZWZpbml0ZSIgZHVyPSIxcyIga2V5VGltZXM9IjA7MSIgdmFsdWVzPSIwIDUwIDUwOzM2MCA1MCA1MCI+PC9hbmltYXRlVHJhbnNmb3JtPiAgPC9jaXJjbGU+PC9zdmc+\\\")\\n    }\\n    \");\n",
       "    },\n",
       "    function(Bokeh) {\n",
       "      Bokeh.set_log_level(\"info\");\n",
       "    },\n",
       "    function(Bokeh) {} // ensure no trailing comma for IE\n",
       "  ];\n",
       "\n",
       "  function run_inline_js() {\n",
       "    if ((root.Bokeh !== undefined) || (force === true)) {\n",
       "      for (var i = 0; i < inline_js.length; i++) {\n",
       "        inline_js[i].call(root, root.Bokeh);\n",
       "      }} else if (Date.now() < root._bokeh_timeout) {\n",
       "      setTimeout(run_inline_js, 100);\n",
       "    } else if (!root._bokeh_failed_load) {\n",
       "      console.log(\"Bokeh: BokehJS failed to load within specified timeout.\");\n",
       "      root._bokeh_failed_load = true;\n",
       "    }\n",
       "  }\n",
       "\n",
       "  if (root._bokeh_is_loading === 0) {\n",
       "    console.debug(\"Bokeh: BokehJS loaded, going straight to plotting\");\n",
       "    run_inline_js();\n",
       "  } else {\n",
       "    load_libs(css_urls, js_urls, js_modules, function() {\n",
       "      console.debug(\"Bokeh: BokehJS plotting callback run at\", now());\n",
       "      run_inline_js();\n",
       "    });\n",
       "  }\n",
       "}(window));"
      ],
      "application/vnd.holoviews_load.v0+json": "\n(function(root) {\n  function now() {\n    return new Date();\n  }\n\n  var force = true;\n\n  if (typeof root._bokeh_onload_callbacks === \"undefined\" || force === true) {\n    root._bokeh_onload_callbacks = [];\n    root._bokeh_is_loading = undefined;\n  }\n\n  if (typeof (root._bokeh_timeout) === \"undefined\" || force === true) {\n    root._bokeh_timeout = Date.now() + 5000;\n    root._bokeh_failed_load = false;\n  }\n\n  function run_callbacks() {\n    try {\n      root._bokeh_onload_callbacks.forEach(function(callback) {\n        if (callback != null)\n          callback();\n      });\n    } finally {\n      delete root._bokeh_onload_callbacks\n    }\n    console.debug(\"Bokeh: all callbacks have finished\");\n  }\n\n  function load_libs(css_urls, js_urls, js_modules, callback) {\n    if (css_urls == null) css_urls = [];\n    if (js_urls == null) js_urls = [];\n    if (js_modules == null) js_modules = [];\n\n    root._bokeh_onload_callbacks.push(callback);\n    if (root._bokeh_is_loading > 0) {\n      console.debug(\"Bokeh: BokehJS is being loaded, scheduling callback at\", now());\n      return null;\n    }\n    if (js_urls.length === 0 && js_modules.length === 0) {\n      run_callbacks();\n      return null;\n    }\n    console.debug(\"Bokeh: BokehJS not loaded, scheduling load and callback at\", now());\n    root._bokeh_is_loading = css_urls.length + js_urls.length + js_modules.length;\n\n    function on_load() {\n      root._bokeh_is_loading--;\n      if (root._bokeh_is_loading === 0) {\n        console.debug(\"Bokeh: all BokehJS libraries/stylesheets loaded\");\n        run_callbacks()\n      }\n    }\n\n    function on_error() {\n      console.error(\"failed to load \" + url);\n    }\n\n    for (var i = 0; i < css_urls.length; i++) {\n      var url = css_urls[i];\n      const element = document.createElement(\"link\");\n      element.onload = on_load;\n      element.onerror = on_error;\n      element.rel = \"stylesheet\";\n      element.type = \"text/css\";\n      element.href = url;\n      console.debug(\"Bokeh: injecting link tag for BokehJS stylesheet: \", url);\n      document.body.appendChild(element);\n    }\n\n    var skip = [];\n    if (window.requirejs) {\n      window.requirejs.config({'packages': {}, 'paths': {}, 'shim': {}});\n      \n    }\n    for (var i = 0; i < js_urls.length; i++) {\n      var url = js_urls[i];\n      if (skip.indexOf(url) >= 0) { on_load(); continue; }\n      var element = document.createElement('script');\n      element.onload = on_load;\n      element.onerror = on_error;\n      element.async = false;\n      element.src = url;\n      console.debug(\"Bokeh: injecting script tag for BokehJS library: \", url);\n      document.head.appendChild(element);\n    }\n    for (var i = 0; i < js_modules.length; i++) {\n      var url = js_modules[i];\n      if (skip.indexOf(url) >= 0) { on_load(); continue; }\n      var element = document.createElement('script');\n      element.onload = on_load;\n      element.onerror = on_error;\n      element.async = false;\n      element.src = url;\n      element.type = \"module\";\n      console.debug(\"Bokeh: injecting script tag for BokehJS library: \", url);\n      document.head.appendChild(element);\n    }\n    if (!js_urls.length && !js_modules.length) {\n      on_load()\n    }\n  };\n\n  function inject_raw_css(css) {\n    const element = document.createElement(\"style\");\n    element.appendChild(document.createTextNode(css));\n    document.body.appendChild(element);\n  }\n\n  var js_urls = [\"https://cdn.bokeh.org/bokeh/release/bokeh-2.4.1.min.js\", \"https://cdn.bokeh.org/bokeh/release/bokeh-gl-2.4.1.min.js\", \"https://cdn.bokeh.org/bokeh/release/bokeh-widgets-2.4.1.min.js\", \"https://cdn.bokeh.org/bokeh/release/bokeh-tables-2.4.1.min.js\", \"https://cdn.bokeh.org/bokeh/release/bokeh-mathjax-2.4.1.min.js\", \"https://unpkg.com/@holoviz/panel@0.12.4/dist/panel.min.js\"];\n  var js_modules = [];\n  var css_urls = [\"https://unpkg.com/@holoviz/panel@0.12.4/dist/css/alerts.css\", \"https://unpkg.com/@holoviz/panel@0.12.4/dist/css/card.css\", \"https://unpkg.com/@holoviz/panel@0.12.4/dist/css/widgets.css\", \"https://unpkg.com/@holoviz/panel@0.12.4/dist/css/markdown.css\", \"https://unpkg.com/@holoviz/panel@0.12.4/dist/css/json.css\", \"https://unpkg.com/@holoviz/panel@0.12.4/dist/css/loading.css\", \"https://unpkg.com/@holoviz/panel@0.12.4/dist/css/dataframe.css\"];\n  var inline_js = [\n    function(Bokeh) {\n      inject_raw_css(\"\\n    .bk.pn-loading.arcs:before {\\n      background-image: url(\\\"data:image/svg+xml;base64,PHN2ZyB4bWxucz0iaHR0cDovL3d3dy53My5vcmcvMjAwMC9zdmciIHhtbG5zOnhsaW5rPSJodHRwOi8vd3d3LnczLm9yZy8xOTk5L3hsaW5rIiBzdHlsZT0ibWFyZ2luOiBhdXRvOyBiYWNrZ3JvdW5kOiBub25lOyBkaXNwbGF5OiBibG9jazsgc2hhcGUtcmVuZGVyaW5nOiBhdXRvOyIgdmlld0JveD0iMCAwIDEwMCAxMDAiIHByZXNlcnZlQXNwZWN0UmF0aW89InhNaWRZTWlkIj4gIDxjaXJjbGUgY3g9IjUwIiBjeT0iNTAiIHI9IjMyIiBzdHJva2Utd2lkdGg9IjgiIHN0cm9rZT0iI2MzYzNjMyIgc3Ryb2tlLWRhc2hhcnJheT0iNTAuMjY1NDgyNDU3NDM2NjkgNTAuMjY1NDgyNDU3NDM2NjkiIGZpbGw9Im5vbmUiIHN0cm9rZS1saW5lY2FwPSJyb3VuZCI+ICAgIDxhbmltYXRlVHJhbnNmb3JtIGF0dHJpYnV0ZU5hbWU9InRyYW5zZm9ybSIgdHlwZT0icm90YXRlIiByZXBlYXRDb3VudD0iaW5kZWZpbml0ZSIgZHVyPSIxcyIga2V5VGltZXM9IjA7MSIgdmFsdWVzPSIwIDUwIDUwOzM2MCA1MCA1MCI+PC9hbmltYXRlVHJhbnNmb3JtPiAgPC9jaXJjbGU+PC9zdmc+\\\")\\n    }\\n    \");\n    },\n    function(Bokeh) {\n      Bokeh.set_log_level(\"info\");\n    },\n    function(Bokeh) {} // ensure no trailing comma for IE\n  ];\n\n  function run_inline_js() {\n    if ((root.Bokeh !== undefined) || (force === true)) {\n      for (var i = 0; i < inline_js.length; i++) {\n        inline_js[i].call(root, root.Bokeh);\n      }} else if (Date.now() < root._bokeh_timeout) {\n      setTimeout(run_inline_js, 100);\n    } else if (!root._bokeh_failed_load) {\n      console.log(\"Bokeh: BokehJS failed to load within specified timeout.\");\n      root._bokeh_failed_load = true;\n    }\n  }\n\n  if (root._bokeh_is_loading === 0) {\n    console.debug(\"Bokeh: BokehJS loaded, going straight to plotting\");\n    run_inline_js();\n  } else {\n    load_libs(css_urls, js_urls, js_modules, function() {\n      console.debug(\"Bokeh: BokehJS plotting callback run at\", now());\n      run_inline_js();\n    });\n  }\n}(window));"
     },
     "metadata": {},
     "output_type": "display_data"
    },
    {
     "data": {
      "application/javascript": [
       "\n",
       "if ((window.PyViz === undefined) || (window.PyViz instanceof HTMLElement)) {\n",
       "  window.PyViz = {comms: {}, comm_status:{}, kernels:{}, receivers: {}, plot_index: []}\n",
       "}\n",
       "\n",
       "\n",
       "    function JupyterCommManager() {\n",
       "    }\n",
       "\n",
       "    JupyterCommManager.prototype.register_target = function(plot_id, comm_id, msg_handler) {\n",
       "      if (window.comm_manager || ((window.Jupyter !== undefined) && (Jupyter.notebook.kernel != null))) {\n",
       "        var comm_manager = window.comm_manager || Jupyter.notebook.kernel.comm_manager;\n",
       "        comm_manager.register_target(comm_id, function(comm) {\n",
       "          comm.on_msg(msg_handler);\n",
       "        });\n",
       "      } else if ((plot_id in window.PyViz.kernels) && (window.PyViz.kernels[plot_id])) {\n",
       "        window.PyViz.kernels[plot_id].registerCommTarget(comm_id, function(comm) {\n",
       "          comm.onMsg = msg_handler;\n",
       "        });\n",
       "      } else if (typeof google != 'undefined' && google.colab.kernel != null) {\n",
       "        google.colab.kernel.comms.registerTarget(comm_id, (comm) => {\n",
       "          var messages = comm.messages[Symbol.asyncIterator]();\n",
       "          function processIteratorResult(result) {\n",
       "            var message = result.value;\n",
       "            console.log(message)\n",
       "            var content = {data: message.data, comm_id};\n",
       "            var buffers = []\n",
       "            for (var buffer of message.buffers || []) {\n",
       "              buffers.push(new DataView(buffer))\n",
       "            }\n",
       "            var metadata = message.metadata || {};\n",
       "            var msg = {content, buffers, metadata}\n",
       "            msg_handler(msg);\n",
       "            return messages.next().then(processIteratorResult);\n",
       "          }\n",
       "          return messages.next().then(processIteratorResult);\n",
       "        })\n",
       "      }\n",
       "    }\n",
       "\n",
       "    JupyterCommManager.prototype.get_client_comm = function(plot_id, comm_id, msg_handler) {\n",
       "      if (comm_id in window.PyViz.comms) {\n",
       "        return window.PyViz.comms[comm_id];\n",
       "      } else if (window.comm_manager || ((window.Jupyter !== undefined) && (Jupyter.notebook.kernel != null))) {\n",
       "        var comm_manager = window.comm_manager || Jupyter.notebook.kernel.comm_manager;\n",
       "        var comm = comm_manager.new_comm(comm_id, {}, {}, {}, comm_id);\n",
       "        if (msg_handler) {\n",
       "          comm.on_msg(msg_handler);\n",
       "        }\n",
       "      } else if ((plot_id in window.PyViz.kernels) && (window.PyViz.kernels[plot_id])) {\n",
       "        var comm = window.PyViz.kernels[plot_id].connectToComm(comm_id);\n",
       "        comm.open();\n",
       "        if (msg_handler) {\n",
       "          comm.onMsg = msg_handler;\n",
       "        }\n",
       "      } else if (typeof google != 'undefined' && google.colab.kernel != null) {\n",
       "        var comm_promise = google.colab.kernel.comms.open(comm_id)\n",
       "        comm_promise.then((comm) => {\n",
       "          window.PyViz.comms[comm_id] = comm;\n",
       "          if (msg_handler) {\n",
       "            var messages = comm.messages[Symbol.asyncIterator]();\n",
       "            function processIteratorResult(result) {\n",
       "              var message = result.value;\n",
       "              var content = {data: message.data};\n",
       "              var metadata = message.metadata || {comm_id};\n",
       "              var msg = {content, metadata}\n",
       "              msg_handler(msg);\n",
       "              return messages.next().then(processIteratorResult);\n",
       "            }\n",
       "            return messages.next().then(processIteratorResult);\n",
       "          }\n",
       "        }) \n",
       "        var sendClosure = (data, metadata, buffers, disposeOnDone) => {\n",
       "          return comm_promise.then((comm) => {\n",
       "            comm.send(data, metadata, buffers, disposeOnDone);\n",
       "          });\n",
       "        };\n",
       "        var comm = {\n",
       "          send: sendClosure\n",
       "        };\n",
       "      }\n",
       "      window.PyViz.comms[comm_id] = comm;\n",
       "      return comm;\n",
       "    }\n",
       "    window.PyViz.comm_manager = new JupyterCommManager();\n",
       "    \n",
       "\n",
       "\n",
       "var JS_MIME_TYPE = 'application/javascript';\n",
       "var HTML_MIME_TYPE = 'text/html';\n",
       "var EXEC_MIME_TYPE = 'application/vnd.holoviews_exec.v0+json';\n",
       "var CLASS_NAME = 'output';\n",
       "\n",
       "/**\n",
       " * Render data to the DOM node\n",
       " */\n",
       "function render(props, node) {\n",
       "  var div = document.createElement(\"div\");\n",
       "  var script = document.createElement(\"script\");\n",
       "  node.appendChild(div);\n",
       "  node.appendChild(script);\n",
       "}\n",
       "\n",
       "/**\n",
       " * Handle when a new output is added\n",
       " */\n",
       "function handle_add_output(event, handle) {\n",
       "  var output_area = handle.output_area;\n",
       "  var output = handle.output;\n",
       "  if ((output.data == undefined) || (!output.data.hasOwnProperty(EXEC_MIME_TYPE))) {\n",
       "    return\n",
       "  }\n",
       "  var id = output.metadata[EXEC_MIME_TYPE][\"id\"];\n",
       "  var toinsert = output_area.element.find(\".\" + CLASS_NAME.split(' ')[0]);\n",
       "  if (id !== undefined) {\n",
       "    var nchildren = toinsert.length;\n",
       "    var html_node = toinsert[nchildren-1].children[0];\n",
       "    html_node.innerHTML = output.data[HTML_MIME_TYPE];\n",
       "    var scripts = [];\n",
       "    var nodelist = html_node.querySelectorAll(\"script\");\n",
       "    for (var i in nodelist) {\n",
       "      if (nodelist.hasOwnProperty(i)) {\n",
       "        scripts.push(nodelist[i])\n",
       "      }\n",
       "    }\n",
       "\n",
       "    scripts.forEach( function (oldScript) {\n",
       "      var newScript = document.createElement(\"script\");\n",
       "      var attrs = [];\n",
       "      var nodemap = oldScript.attributes;\n",
       "      for (var j in nodemap) {\n",
       "        if (nodemap.hasOwnProperty(j)) {\n",
       "          attrs.push(nodemap[j])\n",
       "        }\n",
       "      }\n",
       "      attrs.forEach(function(attr) { newScript.setAttribute(attr.name, attr.value) });\n",
       "      newScript.appendChild(document.createTextNode(oldScript.innerHTML));\n",
       "      oldScript.parentNode.replaceChild(newScript, oldScript);\n",
       "    });\n",
       "    if (JS_MIME_TYPE in output.data) {\n",
       "      toinsert[nchildren-1].children[1].textContent = output.data[JS_MIME_TYPE];\n",
       "    }\n",
       "    output_area._hv_plot_id = id;\n",
       "    if ((window.Bokeh !== undefined) && (id in Bokeh.index)) {\n",
       "      window.PyViz.plot_index[id] = Bokeh.index[id];\n",
       "    } else {\n",
       "      window.PyViz.plot_index[id] = null;\n",
       "    }\n",
       "  } else if (output.metadata[EXEC_MIME_TYPE][\"server_id\"] !== undefined) {\n",
       "    var bk_div = document.createElement(\"div\");\n",
       "    bk_div.innerHTML = output.data[HTML_MIME_TYPE];\n",
       "    var script_attrs = bk_div.children[0].attributes;\n",
       "    for (var i = 0; i < script_attrs.length; i++) {\n",
       "      toinsert[toinsert.length - 1].childNodes[1].setAttribute(script_attrs[i].name, script_attrs[i].value);\n",
       "    }\n",
       "    // store reference to server id on output_area\n",
       "    output_area._bokeh_server_id = output.metadata[EXEC_MIME_TYPE][\"server_id\"];\n",
       "  }\n",
       "}\n",
       "\n",
       "/**\n",
       " * Handle when an output is cleared or removed\n",
       " */\n",
       "function handle_clear_output(event, handle) {\n",
       "  var id = handle.cell.output_area._hv_plot_id;\n",
       "  var server_id = handle.cell.output_area._bokeh_server_id;\n",
       "  if (((id === undefined) || !(id in PyViz.plot_index)) && (server_id !== undefined)) { return; }\n",
       "  var comm = window.PyViz.comm_manager.get_client_comm(\"hv-extension-comm\", \"hv-extension-comm\", function () {});\n",
       "  if (server_id !== null) {\n",
       "    comm.send({event_type: 'server_delete', 'id': server_id});\n",
       "    return;\n",
       "  } else if (comm !== null) {\n",
       "    comm.send({event_type: 'delete', 'id': id});\n",
       "  }\n",
       "  delete PyViz.plot_index[id];\n",
       "  if ((window.Bokeh !== undefined) & (id in window.Bokeh.index)) {\n",
       "    var doc = window.Bokeh.index[id].model.document\n",
       "    doc.clear();\n",
       "    const i = window.Bokeh.documents.indexOf(doc);\n",
       "    if (i > -1) {\n",
       "      window.Bokeh.documents.splice(i, 1);\n",
       "    }\n",
       "  }\n",
       "}\n",
       "\n",
       "/**\n",
       " * Handle kernel restart event\n",
       " */\n",
       "function handle_kernel_cleanup(event, handle) {\n",
       "  delete PyViz.comms[\"hv-extension-comm\"];\n",
       "  window.PyViz.plot_index = {}\n",
       "}\n",
       "\n",
       "/**\n",
       " * Handle update_display_data messages\n",
       " */\n",
       "function handle_update_output(event, handle) {\n",
       "  handle_clear_output(event, {cell: {output_area: handle.output_area}})\n",
       "  handle_add_output(event, handle)\n",
       "}\n",
       "\n",
       "function register_renderer(events, OutputArea) {\n",
       "  function append_mime(data, metadata, element) {\n",
       "    // create a DOM node to render to\n",
       "    var toinsert = this.create_output_subarea(\n",
       "    metadata,\n",
       "    CLASS_NAME,\n",
       "    EXEC_MIME_TYPE\n",
       "    );\n",
       "    this.keyboard_manager.register_events(toinsert);\n",
       "    // Render to node\n",
       "    var props = {data: data, metadata: metadata[EXEC_MIME_TYPE]};\n",
       "    render(props, toinsert[0]);\n",
       "    element.append(toinsert);\n",
       "    return toinsert\n",
       "  }\n",
       "\n",
       "  events.on('output_added.OutputArea', handle_add_output);\n",
       "  events.on('output_updated.OutputArea', handle_update_output);\n",
       "  events.on('clear_output.CodeCell', handle_clear_output);\n",
       "  events.on('delete.Cell', handle_clear_output);\n",
       "  events.on('kernel_ready.Kernel', handle_kernel_cleanup);\n",
       "\n",
       "  OutputArea.prototype.register_mime_type(EXEC_MIME_TYPE, append_mime, {\n",
       "    safe: true,\n",
       "    index: 0\n",
       "  });\n",
       "}\n",
       "\n",
       "if (window.Jupyter !== undefined) {\n",
       "  try {\n",
       "    var events = require('base/js/events');\n",
       "    var OutputArea = require('notebook/js/outputarea').OutputArea;\n",
       "    if (OutputArea.prototype.mime_types().indexOf(EXEC_MIME_TYPE) == -1) {\n",
       "      register_renderer(events, OutputArea);\n",
       "    }\n",
       "  } catch(err) {\n",
       "  }\n",
       "}\n"
      ],
      "application/vnd.holoviews_load.v0+json": "\nif ((window.PyViz === undefined) || (window.PyViz instanceof HTMLElement)) {\n  window.PyViz = {comms: {}, comm_status:{}, kernels:{}, receivers: {}, plot_index: []}\n}\n\n\n    function JupyterCommManager() {\n    }\n\n    JupyterCommManager.prototype.register_target = function(plot_id, comm_id, msg_handler) {\n      if (window.comm_manager || ((window.Jupyter !== undefined) && (Jupyter.notebook.kernel != null))) {\n        var comm_manager = window.comm_manager || Jupyter.notebook.kernel.comm_manager;\n        comm_manager.register_target(comm_id, function(comm) {\n          comm.on_msg(msg_handler);\n        });\n      } else if ((plot_id in window.PyViz.kernels) && (window.PyViz.kernels[plot_id])) {\n        window.PyViz.kernels[plot_id].registerCommTarget(comm_id, function(comm) {\n          comm.onMsg = msg_handler;\n        });\n      } else if (typeof google != 'undefined' && google.colab.kernel != null) {\n        google.colab.kernel.comms.registerTarget(comm_id, (comm) => {\n          var messages = comm.messages[Symbol.asyncIterator]();\n          function processIteratorResult(result) {\n            var message = result.value;\n            console.log(message)\n            var content = {data: message.data, comm_id};\n            var buffers = []\n            for (var buffer of message.buffers || []) {\n              buffers.push(new DataView(buffer))\n            }\n            var metadata = message.metadata || {};\n            var msg = {content, buffers, metadata}\n            msg_handler(msg);\n            return messages.next().then(processIteratorResult);\n          }\n          return messages.next().then(processIteratorResult);\n        })\n      }\n    }\n\n    JupyterCommManager.prototype.get_client_comm = function(plot_id, comm_id, msg_handler) {\n      if (comm_id in window.PyViz.comms) {\n        return window.PyViz.comms[comm_id];\n      } else if (window.comm_manager || ((window.Jupyter !== undefined) && (Jupyter.notebook.kernel != null))) {\n        var comm_manager = window.comm_manager || Jupyter.notebook.kernel.comm_manager;\n        var comm = comm_manager.new_comm(comm_id, {}, {}, {}, comm_id);\n        if (msg_handler) {\n          comm.on_msg(msg_handler);\n        }\n      } else if ((plot_id in window.PyViz.kernels) && (window.PyViz.kernels[plot_id])) {\n        var comm = window.PyViz.kernels[plot_id].connectToComm(comm_id);\n        comm.open();\n        if (msg_handler) {\n          comm.onMsg = msg_handler;\n        }\n      } else if (typeof google != 'undefined' && google.colab.kernel != null) {\n        var comm_promise = google.colab.kernel.comms.open(comm_id)\n        comm_promise.then((comm) => {\n          window.PyViz.comms[comm_id] = comm;\n          if (msg_handler) {\n            var messages = comm.messages[Symbol.asyncIterator]();\n            function processIteratorResult(result) {\n              var message = result.value;\n              var content = {data: message.data};\n              var metadata = message.metadata || {comm_id};\n              var msg = {content, metadata}\n              msg_handler(msg);\n              return messages.next().then(processIteratorResult);\n            }\n            return messages.next().then(processIteratorResult);\n          }\n        }) \n        var sendClosure = (data, metadata, buffers, disposeOnDone) => {\n          return comm_promise.then((comm) => {\n            comm.send(data, metadata, buffers, disposeOnDone);\n          });\n        };\n        var comm = {\n          send: sendClosure\n        };\n      }\n      window.PyViz.comms[comm_id] = comm;\n      return comm;\n    }\n    window.PyViz.comm_manager = new JupyterCommManager();\n    \n\n\nvar JS_MIME_TYPE = 'application/javascript';\nvar HTML_MIME_TYPE = 'text/html';\nvar EXEC_MIME_TYPE = 'application/vnd.holoviews_exec.v0+json';\nvar CLASS_NAME = 'output';\n\n/**\n * Render data to the DOM node\n */\nfunction render(props, node) {\n  var div = document.createElement(\"div\");\n  var script = document.createElement(\"script\");\n  node.appendChild(div);\n  node.appendChild(script);\n}\n\n/**\n * Handle when a new output is added\n */\nfunction handle_add_output(event, handle) {\n  var output_area = handle.output_area;\n  var output = handle.output;\n  if ((output.data == undefined) || (!output.data.hasOwnProperty(EXEC_MIME_TYPE))) {\n    return\n  }\n  var id = output.metadata[EXEC_MIME_TYPE][\"id\"];\n  var toinsert = output_area.element.find(\".\" + CLASS_NAME.split(' ')[0]);\n  if (id !== undefined) {\n    var nchildren = toinsert.length;\n    var html_node = toinsert[nchildren-1].children[0];\n    html_node.innerHTML = output.data[HTML_MIME_TYPE];\n    var scripts = [];\n    var nodelist = html_node.querySelectorAll(\"script\");\n    for (var i in nodelist) {\n      if (nodelist.hasOwnProperty(i)) {\n        scripts.push(nodelist[i])\n      }\n    }\n\n    scripts.forEach( function (oldScript) {\n      var newScript = document.createElement(\"script\");\n      var attrs = [];\n      var nodemap = oldScript.attributes;\n      for (var j in nodemap) {\n        if (nodemap.hasOwnProperty(j)) {\n          attrs.push(nodemap[j])\n        }\n      }\n      attrs.forEach(function(attr) { newScript.setAttribute(attr.name, attr.value) });\n      newScript.appendChild(document.createTextNode(oldScript.innerHTML));\n      oldScript.parentNode.replaceChild(newScript, oldScript);\n    });\n    if (JS_MIME_TYPE in output.data) {\n      toinsert[nchildren-1].children[1].textContent = output.data[JS_MIME_TYPE];\n    }\n    output_area._hv_plot_id = id;\n    if ((window.Bokeh !== undefined) && (id in Bokeh.index)) {\n      window.PyViz.plot_index[id] = Bokeh.index[id];\n    } else {\n      window.PyViz.plot_index[id] = null;\n    }\n  } else if (output.metadata[EXEC_MIME_TYPE][\"server_id\"] !== undefined) {\n    var bk_div = document.createElement(\"div\");\n    bk_div.innerHTML = output.data[HTML_MIME_TYPE];\n    var script_attrs = bk_div.children[0].attributes;\n    for (var i = 0; i < script_attrs.length; i++) {\n      toinsert[toinsert.length - 1].childNodes[1].setAttribute(script_attrs[i].name, script_attrs[i].value);\n    }\n    // store reference to server id on output_area\n    output_area._bokeh_server_id = output.metadata[EXEC_MIME_TYPE][\"server_id\"];\n  }\n}\n\n/**\n * Handle when an output is cleared or removed\n */\nfunction handle_clear_output(event, handle) {\n  var id = handle.cell.output_area._hv_plot_id;\n  var server_id = handle.cell.output_area._bokeh_server_id;\n  if (((id === undefined) || !(id in PyViz.plot_index)) && (server_id !== undefined)) { return; }\n  var comm = window.PyViz.comm_manager.get_client_comm(\"hv-extension-comm\", \"hv-extension-comm\", function () {});\n  if (server_id !== null) {\n    comm.send({event_type: 'server_delete', 'id': server_id});\n    return;\n  } else if (comm !== null) {\n    comm.send({event_type: 'delete', 'id': id});\n  }\n  delete PyViz.plot_index[id];\n  if ((window.Bokeh !== undefined) & (id in window.Bokeh.index)) {\n    var doc = window.Bokeh.index[id].model.document\n    doc.clear();\n    const i = window.Bokeh.documents.indexOf(doc);\n    if (i > -1) {\n      window.Bokeh.documents.splice(i, 1);\n    }\n  }\n}\n\n/**\n * Handle kernel restart event\n */\nfunction handle_kernel_cleanup(event, handle) {\n  delete PyViz.comms[\"hv-extension-comm\"];\n  window.PyViz.plot_index = {}\n}\n\n/**\n * Handle update_display_data messages\n */\nfunction handle_update_output(event, handle) {\n  handle_clear_output(event, {cell: {output_area: handle.output_area}})\n  handle_add_output(event, handle)\n}\n\nfunction register_renderer(events, OutputArea) {\n  function append_mime(data, metadata, element) {\n    // create a DOM node to render to\n    var toinsert = this.create_output_subarea(\n    metadata,\n    CLASS_NAME,\n    EXEC_MIME_TYPE\n    );\n    this.keyboard_manager.register_events(toinsert);\n    // Render to node\n    var props = {data: data, metadata: metadata[EXEC_MIME_TYPE]};\n    render(props, toinsert[0]);\n    element.append(toinsert);\n    return toinsert\n  }\n\n  events.on('output_added.OutputArea', handle_add_output);\n  events.on('output_updated.OutputArea', handle_update_output);\n  events.on('clear_output.CodeCell', handle_clear_output);\n  events.on('delete.Cell', handle_clear_output);\n  events.on('kernel_ready.Kernel', handle_kernel_cleanup);\n\n  OutputArea.prototype.register_mime_type(EXEC_MIME_TYPE, append_mime, {\n    safe: true,\n    index: 0\n  });\n}\n\nif (window.Jupyter !== undefined) {\n  try {\n    var events = require('base/js/events');\n    var OutputArea = require('notebook/js/outputarea').OutputArea;\n    if (OutputArea.prototype.mime_types().indexOf(EXEC_MIME_TYPE) == -1) {\n      register_renderer(events, OutputArea);\n    }\n  } catch(err) {\n  }\n}\n"
     },
     "metadata": {},
     "output_type": "display_data"
    }
   ],
   "source": [
    "import panel as pn\n",
    "pn.extension()"
   ]
  },
  {
   "cell_type": "code",
   "execution_count": 5,
   "id": "71cb46a0-3a7d-4a26-bbb3-cc56154d32a9",
   "metadata": {},
   "outputs": [
    {
     "data": {},
     "metadata": {},
     "output_type": "display_data"
    },
    {
     "data": {
      "application/vnd.holoviews_exec.v0+json": "",
      "text/html": [
       "<div id='1002'>\n",
       "\n",
       "\n",
       "\n",
       "\n",
       "\n",
       "  <div class=\"bk-root\" id=\"3df34e21-864e-4920-9063-a65f54b7262e\" data-root-id=\"1002\"></div>\n",
       "</div>\n",
       "<script type=\"application/javascript\">(function(root) {\n",
       "  function embed_document(root) {\n",
       "    var docs_json = {\"7f10db0c-9215-4e1b-bedc-b844afe9a600\":{\"defs\":[{\"extends\":null,\"module\":null,\"name\":\"ReactiveHTML1\",\"overrides\":[],\"properties\":[]},{\"extends\":null,\"module\":null,\"name\":\"FlexBox1\",\"overrides\":[],\"properties\":[{\"default\":\"flex-start\",\"kind\":null,\"name\":\"align_content\"},{\"default\":\"flex-start\",\"kind\":null,\"name\":\"align_items\"},{\"default\":\"row\",\"kind\":null,\"name\":\"flex_direction\"},{\"default\":\"wrap\",\"kind\":null,\"name\":\"flex_wrap\"},{\"default\":\"flex-start\",\"kind\":null,\"name\":\"justify_content\"}]},{\"extends\":null,\"module\":null,\"name\":\"TemplateActions1\",\"overrides\":[],\"properties\":[{\"default\":0,\"kind\":null,\"name\":\"open_modal\"},{\"default\":0,\"kind\":null,\"name\":\"close_modal\"}]},{\"extends\":null,\"module\":null,\"name\":\"MaterialTemplateActions1\",\"overrides\":[],\"properties\":[{\"default\":0,\"kind\":null,\"name\":\"open_modal\"},{\"default\":0,\"kind\":null,\"name\":\"close_modal\"}]}],\"roots\":{\"references\":[{\"attributes\":{\"margin\":[5,10,5,10],\"options\":[\"Apple\",\"Banana\",\"Pear\",\"Strawberry\"],\"size\":8,\"title\":\"MultiSelect\",\"value\":[\"Apple\",\"Pear\"]},\"id\":\"1002\",\"type\":\"MultiSelect\"},{\"attributes\":{\"reload\":false},\"id\":\"1004\",\"type\":\"panel.models.location.Location\"},{\"attributes\":{\"client_comm_id\":\"c46b1fef1c824e1fbd9635210516bff0\",\"comm_id\":\"16436e73aba04a8f92b294e4f49676b9\",\"plot_id\":\"1002\"},\"id\":\"1003\",\"type\":\"panel.models.comm_manager.CommManager\"}],\"root_ids\":[\"1002\",\"1003\",\"1004\"]},\"title\":\"Bokeh Application\",\"version\":\"2.4.1\"}};\n",
       "    var render_items = [{\"docid\":\"7f10db0c-9215-4e1b-bedc-b844afe9a600\",\"root_ids\":[\"1002\"],\"roots\":{\"1002\":\"3df34e21-864e-4920-9063-a65f54b7262e\"}}];\n",
       "    root.Bokeh.embed.embed_items_notebook(docs_json, render_items);\n",
       "  }\n",
       "  if (root.Bokeh !== undefined && root.Bokeh.Panel !== undefined) {\n",
       "    embed_document(root);\n",
       "  } else {\n",
       "    var attempts = 0;\n",
       "    var timer = setInterval(function(root) {\n",
       "      if (root.Bokeh !== undefined && root.Bokeh.Panel !== undefined) {\n",
       "        clearInterval(timer);\n",
       "        embed_document(root);\n",
       "      } else if (document.readyState == \"complete\") {\n",
       "        attempts++;\n",
       "        if (attempts > 200) {\n",
       "          clearInterval(timer);\n",
       "          console.log(\"Bokeh: ERROR: Unable to run BokehJS code because BokehJS library is missing\");\n",
       "        }\n",
       "      }\n",
       "    }, 25, root)\n",
       "  }\n",
       "})(window);</script>"
      ],
      "text/plain": [
       "MultiSelect(options=['Apple', 'Banana', ...], size=8, value=['Apple', 'Pear'])"
      ]
     },
     "execution_count": 5,
     "metadata": {
      "application/vnd.holoviews_exec.v0+json": {
       "id": "1002"
      }
     },
     "output_type": "execute_result"
    }
   ],
   "source": [
    "multi_select = pn.widgets.MultiSelect(name='MultiSelect', value=['Apple', 'Pear'],\n",
    "    options=['Apple', 'Banana', 'Pear', 'Strawberry'], size=8)\n",
    "\n",
    "multi_select"
   ]
  },
  {
   "cell_type": "code",
   "execution_count": 7,
   "id": "8e6ff136-6b97-48bf-991b-0391238506d4",
   "metadata": {},
   "outputs": [],
   "source": [
    "selected = multi_select.value"
   ]
  },
  {
   "cell_type": "code",
   "execution_count": 10,
   "id": "7e2fe3cf-49ae-46f7-b909-9c85c02b52d4",
   "metadata": {},
   "outputs": [
    {
     "name": "stdout",
     "output_type": "stream",
     "text": [
      "Apple\n",
      "Pear\n"
     ]
    }
   ],
   "source": [
    "for objs in selected:\n",
    "    print(objs)"
   ]
  },
  {
   "cell_type": "code",
   "execution_count": null,
   "id": "833295e8-ccdb-41a3-89ef-cda6211bdfe9",
   "metadata": {},
   "outputs": [],
   "source": []
  }
 ],
 "metadata": {
  "interpreter": {
   "hash": "b0fa6594d8f4cbf19f97940f81e996739fb7646882a419484c72d19e05852a7e"
  },
  "kernelspec": {
   "display_name": "Python 3.9.8 64-bit",
   "language": "python",
   "name": "python398jvsc74a57bd0b0fa6594d8f4cbf19f97940f81e996739fb7646882a419484c72d19e05852a7e"
  },
  "language_info": {
   "codemirror_mode": {
    "name": "ipython",
    "version": 3
   },
   "file_extension": ".py",
   "mimetype": "text/x-python",
   "name": "python",
   "nbconvert_exporter": "python",
   "pygments_lexer": "ipython3",
   "version": "3.9.8"
  }
 },
 "nbformat": 4,
 "nbformat_minor": 5
}
