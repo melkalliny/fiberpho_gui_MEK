{
 "cells": [
  {
   "cell_type": "code",
   "execution_count": 1,
   "id": "c729075b-1785-4375-aef0-e6d169fdc27d",
   "metadata": {},
   "outputs": [],
   "source": [
    "from playsound import playsound\n",
    "\n"
   ]
  },
  {
   "cell_type": "code",
   "execution_count": 7,
   "id": "1b6be421-6ccf-433b-b4a3-c5790a49ca83",
   "metadata": {},
   "outputs": [
    {
     "name": "stderr",
     "output_type": "stream",
     "text": [
      "\n",
      "    Error 263 for command:\n",
      "        close yipee.mp3\n",
      "    The specified device is not open or is not recognized by MCI.\n",
      "Failed to close the file: yipee.mp3\n"
     ]
    },
    {
     "data": {
      "text/plain": [
       "10"
      ]
     },
     "execution_count": 7,
     "metadata": {},
     "output_type": "execute_result"
    }
   ],
   "source": [
    "\n",
    "5+5"
   ]
  },
  {
   "cell_type": "code",
   "execution_count": null,
   "id": "d650a1a5-e8c8-406a-8e0c-c91ddbeee579",
   "metadata": {},
   "outputs": [],
   "source": []
  }
 ],
 "metadata": {
  "kernelspec": {
   "display_name": "Python 3 (ipykernel)",
   "language": "python",
   "name": "python3"
  },
  "language_info": {
   "codemirror_mode": {
    "name": "ipython",
    "version": 3
   },
   "file_extension": ".py",
   "mimetype": "text/x-python",
   "name": "python",
   "nbconvert_exporter": "python",
   "pygments_lexer": "ipython3",
   "version": "3.8.12"
  }
 },
 "nbformat": 4,
 "nbformat_minor": 5
}
