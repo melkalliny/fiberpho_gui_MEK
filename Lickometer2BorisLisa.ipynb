{
 "cells": [
  {
   "cell_type": "code",
   "execution_count": 1,
   "metadata": {},
   "outputs": [],
   "source": [
    "import sys\n",
    "import pandas as pd\n",
    "import numpy as np"
   ]
  },
  {
   "cell_type": "code",
   "execution_count": 6,
   "metadata": {},
   "outputs": [
    {
     "name": "stdout",
     "output_type": "stream",
     "text": [
      "              0    1    2    3    4     5    6    7      8\n",
      "0             0  n/a  n/a  n/a  n/a     0  n/a  n/a      0\n",
      "1             0  n/a  n/a  n/a  n/a     0  n/a  n/a      0\n",
      "2             0  n/a  n/a  n/a  n/a     0  n/a  n/a      0\n",
      "3             0  n/a  n/a  n/a  n/a     0  n/a  n/a      0\n",
      "4             0  n/a  n/a  n/a  n/a     0  n/a  n/a      0\n",
      "..          ...  ...  ...  ...  ...   ...  ...  ...    ...\n",
      "422  409.233907  n/a  n/a  n/a  n/a  Lick  n/a  n/a   STOP\n",
      "423  409.246208  n/a  n/a  n/a  n/a  Lick  n/a  n/a  START\n",
      "424  409.303488  n/a  n/a  n/a  n/a  Lick  n/a  n/a   STOP\n",
      "425  813.314854  n/a  n/a  n/a  n/a  Lick  n/a  n/a  START\n",
      "426  813.343514  n/a  n/a  n/a  n/a  Lick  n/a  n/a   STOP\n",
      "\n",
      "[427 rows x 9 columns]\n"
     ]
    }
   ],
   "source": [
    "import os\n",
    "filepath = \"example_lickometer_data2022-03-25T14_59_24.csv\"\n",
    "\n",
    "#filepath=\"LickData_2110122021-12-15T14_16_32.csv\"\n",
    "try:\n",
    "    file = pd.read_csv(filepath, delimiter='\\s+', names=[\"Time\", \"Licks\"])\n",
    "except FileNotFoundError:\n",
    "    print(\"Could not find file: \" + filepath)\n",
    "    sys.exit(1)\n",
    "except PermissionError:\n",
    "    print(\"Could not access file: \" + filepath)\n",
    "    sys.exit(2)\n",
    "    \n",
    "trimmed=file[file['Licks'] != 0 ]\n",
    "\n",
    "starts = [(trimmed.iloc[0]['Time'] - file.iloc[0]['Time'])/1000]\n",
    "stops = []\n",
    "diffs = np.diff(trimmed.index)\n",
    "\n",
    "for i,v in enumerate(diffs):\n",
    "    if v > 1:\n",
    "        stops.append((trimmed.iloc[i]['Time']-file.iloc[0]['Time'])/1000)\n",
    "        if i + 1 < len(diffs):\n",
    "            starts.append((trimmed.iloc[i+1]['Time']-file.iloc[0]['Time'])/1000)\n",
    "stops.append((trimmed.iloc[-1]['Time']-file.iloc[0]['Time'])/1000)\n",
    "\n",
    "Time = starts + stops\n",
    "Time.sort()\n",
    "\n",
    "Status = ['START']*len(Time)\n",
    "half = len(Time)/2\n",
    "Status[1::2] = ['STOP']*int(half)\n",
    "Behavior = ['Lick']*len(Time)\n",
    "\n",
    "\n",
    "Time = [0]*14 + ['Time'] + Time\n",
    "Media = ['n/a']*len(Time)\n",
    "Total = ['n/a']*len(Time)\n",
    "FPS = ['n/a']*len(Time)\n",
    "Subject = ['n/a']*len(Time)\n",
    "Behavior = [0]*14 + ['Behavior'] + Behavior\n",
    "BehCat = ['n/a']*len(Time)\n",
    "Comment = ['n/a']*len(Time)\n",
    "Status = [0]*14 + ['Status'] + Status\n",
    "\n",
    "boris = pd.DataFrame([Time, Media, Total, FPS, Subject, Behavior, BehCat, Comment, Status])\n",
    "boris = boris.transpose()\n",
    "print(boris)\n",
    "outputname = filepath[0:-4] + '_reformatted' + '.csv'\n",
    "test = boris.to_csv(outputname, index = False)"
   ]
  },
  {
   "cell_type": "code",
   "execution_count": 10,
   "metadata": {},
   "outputs": [
    {
     "name": "stdout",
     "output_type": "stream",
     "text": [
      "Help on NoneType object:\n",
      "\n",
      "class NoneType(object)\n",
      " |  Methods defined here:\n",
      " |  \n",
      " |  __bool__(self, /)\n",
      " |      self != 0\n",
      " |  \n",
      " |  __repr__(self, /)\n",
      " |      Return repr(self).\n",
      " |  \n",
      " |  ----------------------------------------------------------------------\n",
      " |  Static methods defined here:\n",
      " |  \n",
      " |  __new__(*args, **kwargs) from builtins.type\n",
      " |      Create and return a new object.  See help(type) for accurate signature.\n",
      "\n"
     ]
    }
   ],
   "source": [
    "help(test)"
   ]
  },
  {
   "cell_type": "code",
   "execution_count": 4,
   "metadata": {},
   "outputs": [
    {
     "data": {
      "text/html": [
       "<div>\n",
       "<style scoped>\n",
       "    .dataframe tbody tr th:only-of-type {\n",
       "        vertical-align: middle;\n",
       "    }\n",
       "\n",
       "    .dataframe tbody tr th {\n",
       "        vertical-align: top;\n",
       "    }\n",
       "\n",
       "    .dataframe thead th {\n",
       "        text-align: right;\n",
       "    }\n",
       "</style>\n",
       "<table border=\"1\" class=\"dataframe\">\n",
       "  <thead>\n",
       "    <tr style=\"text-align: right;\">\n",
       "      <th></th>\n",
       "      <th>Time</th>\n",
       "      <th>Licks</th>\n",
       "    </tr>\n",
       "  </thead>\n",
       "  <tbody>\n",
       "    <tr>\n",
       "      <th>0</th>\n",
       "      <td>5.144626e+07</td>\n",
       "      <td>0</td>\n",
       "    </tr>\n",
       "    <tr>\n",
       "      <th>1</th>\n",
       "      <td>5.144626e+07</td>\n",
       "      <td>0</td>\n",
       "    </tr>\n",
       "    <tr>\n",
       "      <th>2</th>\n",
       "      <td>5.144626e+07</td>\n",
       "      <td>0</td>\n",
       "    </tr>\n",
       "    <tr>\n",
       "      <th>3</th>\n",
       "      <td>5.144626e+07</td>\n",
       "      <td>0</td>\n",
       "    </tr>\n",
       "    <tr>\n",
       "      <th>4</th>\n",
       "      <td>5.144626e+07</td>\n",
       "      <td>0</td>\n",
       "    </tr>\n",
       "    <tr>\n",
       "      <th>...</th>\n",
       "      <td>...</td>\n",
       "      <td>...</td>\n",
       "    </tr>\n",
       "    <tr>\n",
       "      <th>849227</th>\n",
       "      <td>5.237069e+07</td>\n",
       "      <td>0</td>\n",
       "    </tr>\n",
       "    <tr>\n",
       "      <th>849228</th>\n",
       "      <td>5.237070e+07</td>\n",
       "      <td>0</td>\n",
       "    </tr>\n",
       "    <tr>\n",
       "      <th>849229</th>\n",
       "      <td>5.237070e+07</td>\n",
       "      <td>0</td>\n",
       "    </tr>\n",
       "    <tr>\n",
       "      <th>849230</th>\n",
       "      <td>5.237070e+07</td>\n",
       "      <td>0</td>\n",
       "    </tr>\n",
       "    <tr>\n",
       "      <th>849231</th>\n",
       "      <td>5.237070e+07</td>\n",
       "      <td>0</td>\n",
       "    </tr>\n",
       "  </tbody>\n",
       "</table>\n",
       "<p>849232 rows × 2 columns</p>\n",
       "</div>"
      ],
      "text/plain": [
       "                Time  Licks\n",
       "0       5.144626e+07      0\n",
       "1       5.144626e+07      0\n",
       "2       5.144626e+07      0\n",
       "3       5.144626e+07      0\n",
       "4       5.144626e+07      0\n",
       "...              ...    ...\n",
       "849227  5.237069e+07      0\n",
       "849228  5.237070e+07      0\n",
       "849229  5.237070e+07      0\n",
       "849230  5.237070e+07      0\n",
       "849231  5.237070e+07      0\n",
       "\n",
       "[849232 rows x 2 columns]"
      ]
     },
     "execution_count": 4,
     "metadata": {},
     "output_type": "execute_result"
    }
   ],
   "source": [
    "file"
   ]
  },
  {
   "cell_type": "code",
   "execution_count": null,
   "metadata": {},
   "outputs": [],
   "source": []
  },
  {
   "cell_type": "code",
   "execution_count": null,
   "metadata": {},
   "outputs": [],
   "source": []
  }
 ],
 "metadata": {
  "kernelspec": {
   "display_name": "Python 3 (ipykernel)",
   "language": "python",
   "name": "python3"
  },
  "language_info": {
   "codemirror_mode": {
    "name": "ipython",
    "version": 3
   },
   "file_extension": ".py",
   "mimetype": "text/x-python",
   "name": "python",
   "nbconvert_exporter": "python",
   "pygments_lexer": "ipython3",
   "version": "3.9.8"
  }
 },
 "nbformat": 4,
 "nbformat_minor": 4
}
