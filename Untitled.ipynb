{
 "cells": [
  {
   "cell_type": "code",
   "execution_count": 19,
   "id": "d195ed89-4a74-47c1-aad1-09e6855a902a",
   "metadata": {},
   "outputs": [],
   "source": [
    "import pickle\n",
    "import pandas as pd\n",
    "import sys"
   ]
  },
  {
   "cell_type": "code",
   "execution_count": 20,
   "id": "95ca0cb9-c46e-4e5c-bf6e-689d100dbeb7",
   "metadata": {},
   "outputs": [],
   "source": [
    "data = {'x':[4,2,1.5,1], 'y':[32,[101],17], 'foo':True, 'spam':False}\n",
    "with open('pickle_test.pickle', 'wb') as f:\n",
    "    pickle.dump(data, f)"
   ]
  },
  {
   "cell_type": "code",
   "execution_count": 21,
   "id": "8a2d31ed-8863-4f5f-9815-cf0afeab37b7",
   "metadata": {},
   "outputs": [],
   "source": [
    "del data\n",
    "# print(data)"
   ]
  },
  {
   "cell_type": "code",
   "execution_count": 28,
   "id": "beb73a73-ed93-4378-8c67-f10e50bc5c3f",
   "metadata": {},
   "outputs": [],
   "source": [
    "def loadall(filename):\n",
    "    with open(filename, \"rb\") as f:\n",
    "        while True:\n",
    "            try:\n",
    "                yield pickle.list(load(f))\n",
    "            except EOFError:\n",
    "                break\n",
    "\n",
    "items = loadall('pickle_test.pickle')"
   ]
  },
  {
   "cell_type": "code",
   "execution_count": 34,
   "id": "4ac1ec21-cd20-47a7-b988-8dc579e1ac30",
   "metadata": {},
   "outputs": [
    {
     "name": "stdout",
     "output_type": "stream",
     "text": [
      "Pretty printing has been turned OFF\n"
     ]
    }
   ],
   "source": [
    "pprint(vars(items))"
   ]
  },
  {
   "cell_type": "code",
   "execution_count": null,
   "id": "21568f7d-fe93-44e0-813d-1957950426fc",
   "metadata": {},
   "outputs": [],
   "source": []
  }
 ],
 "metadata": {
  "kernelspec": {
   "display_name": "Python 3.9.8 64-bit",
   "language": "python",
   "name": "python398jvsc74a57bd0b0fa6594d8f4cbf19f97940f81e996739fb7646882a419484c72d19e05852a7e"
  },
  "language_info": {
   "codemirror_mode": {
    "name": "ipython",
    "version": 3
   },
   "file_extension": ".py",
   "mimetype": "text/x-python",
   "name": "python",
   "nbconvert_exporter": "python",
   "pygments_lexer": "ipython3",
   "version": "3.9.8"
  }
 },
 "nbformat": 4,
 "nbformat_minor": 5
}
