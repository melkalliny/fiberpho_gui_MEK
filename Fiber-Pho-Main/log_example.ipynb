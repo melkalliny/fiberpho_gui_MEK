{
 "cells": [
  {
   "cell_type": "code",
   "execution_count": null,
   "id": "d7049e83-89f9-4a2a-98ee-dfa576d3a618",
   "metadata": {},
   "outputs": [],
   "source": [
    "# Log events/errors\n",
    "def error_logger(msg):\n",
    "    if msg == 'ZeroDivision':\n",
    "        return pn.pane.Str(1/0)\n",
    "    elif event == 'no error':\n",
    "        return pn.pane.Str('Hello!')\n",
    "    elif event == 'Custom error':\n",
    "        raise Exception('custom error thrown')\n",
    "\n",
    "\n",
    "\n",
    "# ----------------------------------------------------- # \n",
    "\n",
    "# Implementing logging library provides easier to read errors for holoviz\n",
    "debug = pn.widgets.Debugger(name = \"Error Logger\")\n",
    "log_widget = pn.Column(error_logger, debug)\n",
    "\n",
    "# ----------------------------------------------------- # "
   ]
  },
  {
   "cell_type": "code",
   "execution_count": null,
   "id": "1c01029c-80db-46c1-8551-8aad2d5bf850",
   "metadata": {},
   "outputs": [],
   "source": [
    "Examples - \n",
    "\n",
    "pn.extension('terminal')\n",
    "pn.config.console_output = 'disable'\n",
    "\n",
    "debug = pn.widgets.Debugger(name = 'My Debugger')\n",
    "debug\n",
    "\n",
    "btn = pn.widgets.RadioButtonGroup(name='Throw error', value='no error', options=['ZeroDivision', 'no error', 'Custom error'], button_type='danger')\n",
    "\n",
    "@pn.depends(btn)\n",
    "def throw_error(event):\n",
    "    if event == 'ZeroDivision':\n",
    "        return pn.pane.Str(1/0)\n",
    "    elif event == 'no error':\n",
    "        return pn.pane.Str('Hello!')\n",
    "    elif event == 'Custom error':\n",
    "        raise Exception('custom error thrown')\n",
    "\n",
    "pn.Column(btn, throw_error)\n",
    "\n",
    "\n",
    "Import logging\n",
    "\n",
    "logger = logging.getLogger('panel.myapp')\n",
    "debug_info = pn.widgets.Debugger(name='Debugger info level', level=logging.INFO, sizing_mode='stretch_both',\n",
    "                                logger_names=['panel.myapp'],#comment this line out to get all panel errors\n",
    "                                )\n",
    "\n",
    "\n",
    "\n",
    "btn_info = pn.widgets.RadioButtonGroup(name='show info', options=['debug', 'info', 'warning'])\n",
    "\n",
    "@pn.depends(btn_info)\n",
    "def throw_error(event):\n",
    "    msg = (event + ' sent from btn_info').capitalize()\n",
    "    if event == 'info':\n",
    "        logger.info(msg)\n",
    "    elif event == 'debug':\n",
    "        logger.debug(msg)\n",
    "    elif event == 'warning':\n",
    "        logger.warning(msg)\n",
    "    return msg\n",
    "c = pn.Column(btn_info, debug_info, throw_error, sizing_mode='stretch_both')\n",
    "c"
   ]
  }
 ],
 "metadata": {
  "kernelspec": {
   "display_name": "Python 3 (ipykernel)",
   "language": "python",
   "name": "python3"
  },
  "language_info": {
   "codemirror_mode": {
    "name": "ipython",
    "version": 3
   },
   "file_extension": ".py",
   "mimetype": "text/x-python",
   "name": "python",
   "nbconvert_exporter": "python",
   "pygments_lexer": "ipython3",
   "version": "3.9.8"
  }
 },
 "nbformat": 4,
 "nbformat_minor": 5
}
